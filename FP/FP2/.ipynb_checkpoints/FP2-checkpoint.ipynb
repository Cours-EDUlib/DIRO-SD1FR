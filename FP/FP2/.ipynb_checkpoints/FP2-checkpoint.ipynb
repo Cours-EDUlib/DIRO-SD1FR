{
 "cells": [
  {
   "cell_type": "markdown",
   "metadata": {
    "id": "5W1bkjspewTG"
   },
   "source": [
    "# Formation Pratique 2 : Librairies Python\n",
    "\n",
    "**Cette formation pratique est optionnelle : si vous maitrisez déjà les outils numpy matplotlib et pandas, vous pouvez en ignorer le contenu**\n",
    "\n",
    "Le but de cette formation pratique est d'introduire des outils indispensables pour la manipulation et la visualisation de données, qui seront utilisés tout au long de ce cours. En particulier, nous allons voir quatre outils : numpy pour le calcul matriciel et diverses fonctions mathématiques, matplotlib pour la visualisation de données, pandas pour l'analyse et la manipulation de données, et seaborn pour faire des représentations plus élaborées."
   ]
  },
  {
   "cell_type": "markdown",
   "metadata": {},
   "source": [
    "<hr>"
   ]
  },
  {
   "cell_type": "markdown",
   "metadata": {
    "id": "2J_VEEAWNavK"
   },
   "source": [
    "# 1. NumPy\n",
    "\n",
    "```NumPy``` est une librairie indispensable en Python. Elle nous permettra de définir un nouveau type de données, les \"arrays\" (tableaux) qui nous permettra de réaliser efficacement des calcules matriciels et autres opérations mathématiques. \n",
    "\n",
    "Pour approfondir, se référer à [la documentation](https://numpy.org/doc/stable/reference/).\n",
    "\n",
    "Commençons par importer NumPy ..."
   ]
  },
  {
   "cell_type": "code",
   "execution_count": null,
   "metadata": {
    "id": "nyjPHmfyOYbM"
   },
   "outputs": [],
   "source": [
    "import numpy as np"
   ]
  },
  {
   "cell_type": "markdown",
   "metadata": {
    "id": "rChvLOsPOhmc"
   },
   "source": [
    "## 1.1. Tableaux (arrays)\n",
    "\n",
    "Nous pouvons à présent définir des tableaux, par exemple en convertissant une liste en tableau :"
   ]
  },
  {
   "cell_type": "code",
   "execution_count": null,
   "metadata": {
    "colab": {
     "base_uri": "https://localhost:8080/"
    },
    "id": "7mrmTLC-OnOn",
    "outputId": "4e2c492c-f8ce-4976-c93f-9311c01904ea"
   },
   "outputs": [],
   "source": [
    "a = np.array([1,2,3])\n",
    "print(a)"
   ]
  },
  {
   "cell_type": "code",
   "execution_count": null,
   "metadata": {},
   "outputs": [],
   "source": [
    "b = np.array([[1,2,3],[4,5,6],[7,8,9]])\n",
    "print(b)"
   ]
  },
  {
   "cell_type": "markdown",
   "metadata": {
    "id": "lNz7mhRQOwaE"
   },
   "source": [
    "On remarquera que dans ce cas, la variable ```b``` est définie à partir d'une liste de liste, et sera donc interprété comme une matrice de deux dimensions (3x3) dans ce cas. On peut regarder la forme d'un tableau en utilisant ```shape```"
   ]
  },
  {
   "cell_type": "code",
   "execution_count": null,
   "metadata": {
    "colab": {
     "base_uri": "https://localhost:8080/"
    },
    "id": "MiN_Z2PHO8QV",
    "outputId": "9aaf0a22-8ecc-47cc-beb2-226a3436da07"
   },
   "outputs": [],
   "source": [
    "print(a.shape)"
   ]
  },
  {
   "cell_type": "code",
   "execution_count": null,
   "metadata": {},
   "outputs": [],
   "source": [
    "print(b.shape)"
   ]
  },
  {
   "cell_type": "markdown",
   "metadata": {},
   "source": [
    "La fonction ```shape``` retourne un tuple contenant la taille de chaque dimension. La variable ```a``` est vue comme étant un tableau à une seule dimension dont la taille est 3, alors que ```b``` est une matrice de deux dimensions dont chaque dimension est égale à 3."
   ]
  },
  {
   "cell_type": "markdown",
   "metadata": {
    "id": "x2qdg6HOO-uS"
   },
   "source": [
    "Comme avec les listes, nous pouvons réassigner les éléments d'un array et y accéder. Si un tableau est en plusieurs dimensions, on y accède en lui donnant la liste des index :"
   ]
  },
  {
   "cell_type": "code",
   "execution_count": null,
   "metadata": {
    "colab": {
     "base_uri": "https://localhost:8080/"
    },
    "id": "DwYmngROPGba",
    "outputId": "b777ff4a-ad8d-4c02-aeb6-fa181b4e5c90"
   },
   "outputs": [],
   "source": [
    "# Ne pas oublier que la colonne 2, en python, correspond a la troisième colonne ! la première colonne est indiquée comme étant la colonne 0\n",
    "\n",
    "print(b[1,2]) # imprime l'élément de la ligne 1, colonne 2 de b"
   ]
  },
  {
   "cell_type": "code",
   "execution_count": null,
   "metadata": {},
   "outputs": [],
   "source": [
    "print(b[2,0]) # imprime l'élément de la ligne 2, colonne 0 de b"
   ]
  },
  {
   "cell_type": "markdown",
   "metadata": {
    "id": "oAMCC9PPPmSZ"
   },
   "source": [
    "On peut aussi créer des tableaux remplis de 1 ou de 0, en indiquant uniquement la forme voulue :"
   ]
  },
  {
   "cell_type": "code",
   "execution_count": null,
   "metadata": {
    "colab": {
     "base_uri": "https://localhost:8080/"
    },
    "id": "7MlTJAb0Pr-4",
    "outputId": "f295fa61-decd-4dce-8479-e33bdc651051"
   },
   "outputs": [],
   "source": [
    "a = np.ones((4,3,2)) # (4x3x2) avec des 1\n",
    "print(a)"
   ]
  },
  {
   "cell_type": "code",
   "execution_count": null,
   "metadata": {},
   "outputs": [],
   "source": [
    "b = np.zeros((2,)) # (2,) avec des 0\n",
    "print(b)\n",
    "print(b.shape)"
   ]
  },
  {
   "cell_type": "markdown",
   "metadata": {
    "id": "DYcTi5feP2UF"
   },
   "source": [
    "Dans cet exemple, a est une matrice de dimension 3 (taille 4x3x2) remplie de '1', alors que b est une matrice de dimension 1 (taille 2) remplie de '0'."
   ]
  },
  {
   "cell_type": "markdown",
   "metadata": {
    "id": "TbdX0lPjQRGB"
   },
   "source": [
    "La librairie numpy dispose d'un grand nombre d'implémentations d'opérations mathématiques utiles:"
   ]
  },
  {
   "cell_type": "code",
   "execution_count": null,
   "metadata": {
    "colab": {
     "base_uri": "https://localhost:8080/"
    },
    "id": "YS66B68aQYbu",
    "outputId": "bb5b234f-f21e-4fa0-8ca5-50cf7437676f"
   },
   "outputs": [],
   "source": [
    "a = np.ones((2,3))\n",
    "\n",
    "print(np.mean(a)) # calcule la valeur moyenne des éléments de a\n",
    "print(np.var(a)) # calcule la variance des éléments de a\n",
    "\n",
    "print(np.mean(a, axis=0)) # calcule la moyenne des éléments de 'a' pour chaque ligne, et les renvoie dans un nouveau tableau"
   ]
  },
  {
   "cell_type": "code",
   "execution_count": null,
   "metadata": {
    "colab": {
     "base_uri": "https://localhost:8080/"
    },
    "id": "o84xWDtOQeaf",
    "outputId": "1f166d78-c897-4e84-b0ef-62dae0e96247"
   },
   "outputs": [],
   "source": [
    "a = np.ones((2,3))\n",
    "b = np.ones((3,4))\n",
    "\n",
    "print(\"a*b ...\\n\",np.dot(a,b)) # calcule le produit matriciel de a par b\n",
    "print(\"a+a ...\\n\",a + a) # additionne a avec lui-même"
   ]
  },
  {
   "cell_type": "markdown",
   "metadata": {
    "id": "fjD4UXDdXdfQ"
   },
   "source": [
    "Numpy permet d'implémenter très simplement des opérations qui nécessiteraient normalement un certain nombre de boucles :"
   ]
  },
  {
   "cell_type": "code",
   "execution_count": null,
   "metadata": {
    "colab": {
     "base_uri": "https://localhost:8080/"
    },
    "id": "taXOv_paXoe4",
    "outputId": "4a00ebe9-79ed-426c-f5aa-72d05e1b71ab"
   },
   "outputs": [],
   "source": [
    "a = np.array([[0,1,2,3],[4,5,6,7]])\n",
    "print(a)\n",
    "print(a > 2) # a>2 calcule pour chaque élément de a s'il est supérieur à deux, et renvoie True ou False. Le résultat est sous la forme d'un array de même taille\n",
    "print(a[a > 2]) # renvoie la liste des éléments de a aux indices où a est plus grand que 2. Donc, la liste des éléments de a plus grand que 2."
   ]
  },
  {
   "cell_type": "markdown",
   "metadata": {},
   "source": [
    "On peut calculer simplement le déterminant et l'inverse d'une matrice carrée."
   ]
  },
  {
   "cell_type": "code",
   "execution_count": null,
   "metadata": {},
   "outputs": [],
   "source": [
    "une_mat_int = np.array([[1, 2, 3],[4, 5, 6],[7, 8, 9]])"
   ]
  },
  {
   "cell_type": "code",
   "execution_count": null,
   "metadata": {},
   "outputs": [],
   "source": [
    "une_mat_int.shape"
   ]
  },
  {
   "cell_type": "code",
   "execution_count": null,
   "metadata": {},
   "outputs": [],
   "source": [
    "# Déterminant ...\n",
    "\n",
    "np.linalg.det(une_mat_int)"
   ]
  },
  {
   "cell_type": "code",
   "execution_count": null,
   "metadata": {},
   "outputs": [],
   "source": [
    "np.linalg.inv(une_mat_int)"
   ]
  },
  {
   "cell_type": "markdown",
   "metadata": {
    "id": "t4oAc2mAYKj1"
   },
   "source": [
    "## 1.2. Géneration Aléatoire\n",
    "\n",
    "Numpy est aussi utilisé pour générer des valeurs aléatoires. Pour cela, on se sert de ```numpy.random```. \n"
   ]
  },
  {
   "cell_type": "code",
   "execution_count": null,
   "metadata": {
    "colab": {
     "base_uri": "https://localhost:8080/"
    },
    "id": "tsTvFdIbYrn4",
    "outputId": "61d5e8e6-c924-462c-a18a-fa63be7d74cf"
   },
   "outputs": [],
   "source": [
    "print(\"matrice aléatoire 3x2 ...\\n\",np.random.randn(3,2)) # génère un tableau de forme 3x2 dont les éléments sont tirés d'une loi normale de moyenne 0 et de variance 1\n",
    "print(\"1 entier aléatoire entre 0 et 99 ...\\n\",np.random.randint(100)) # génère un entier aléatoire entre 0 et 99"
   ]
  },
  {
   "cell_type": "markdown",
   "metadata": {
    "id": "eOerI7u9ZLJ3"
   },
   "source": [
    "On peut fixer le \"seed\" de numpy, ce qui permettra de reproduire les mêmes générations aléatoires à chaque exécution, et donc d'avoir des résultats reproduisibles:"
   ]
  },
  {
   "cell_type": "code",
   "execution_count": null,
   "metadata": {
    "colab": {
     "base_uri": "https://localhost:8080/"
    },
    "id": "D0iwCEO_Za61",
    "outputId": "abfdc9e6-ba56-4439-9495-8cb1d3340b9f"
   },
   "outputs": [],
   "source": [
    "np.random.seed(seed=1)\n",
    "print(np.random.randint(10**9))\n",
    "\n",
    "np.random.seed(seed=3)\n",
    "print(np.random.randint(10**9))\n",
    "\n",
    "np.random.seed(seed=1)\n",
    "print(np.random.randint(10**9))"
   ]
  },
  {
   "cell_type": "markdown",
   "metadata": {
    "id": "WWmQp78daLLP"
   },
   "source": [
    "Le 1er et le 3e entier générés sont les mêmes, car ils ont été générés après avoir fixé le seed à la même valeur. Le second n'est pas le même, car le seed diffère. À chaque éxecution, on obtient les mêmes valeurs, car les seeds sont fixés."
   ]
  },
  {
   "cell_type": "markdown",
   "metadata": {},
   "source": [
    "<hr>"
   ]
  },
  {
   "cell_type": "markdown",
   "metadata": {
    "id": "kS3mBanGfbbi"
   },
   "source": [
    "# 2. Matplotlib\n",
    "\n",
    "```Matplotlib``` est une librairie permettant de tracer des courbes représentant des données en deux ou trois dimensions. Le nombre de méthodes disponibles et leurs paramètres sont extrêmement grands, c'est pourquoi nous n'en présenterons ici que les principaux. \n",
    "\n",
    "Pour approfondir, se référer à [la documentation](https://matplotlib.org/stable/contents.html).\n",
    "\n",
    "Commençons par importer la librairie, ainsi que numpy"
   ]
  },
  {
   "cell_type": "code",
   "execution_count": null,
   "metadata": {
    "id": "0fhVJVDYeazz"
   },
   "outputs": [],
   "source": [
    "import matplotlib.pyplot as plt\n",
    "import numpy as np"
   ]
  },
  {
   "cell_type": "markdown",
   "metadata": {
    "id": "SIWl0iQ-f8zh"
   },
   "source": [
    "À présent, nous allons simplement chercher à tracer la courbe $y=cos(x)$ pour x compris entre $0$ et $5$. \n",
    "\n",
    "Pour cela, nous allons commencer par générer un ensemble de points x, régulièrement espacés par intervalle 0.1 entre 0 et 5 (soit 50 points au total):"
   ]
  },
  {
   "cell_type": "code",
   "execution_count": null,
   "metadata": {
    "colab": {
     "base_uri": "https://localhost:8080/"
    },
    "id": "f0VNKRAJgTtN",
    "outputId": "d27b7ec0-e640-45d2-a790-fdbfee051d9d"
   },
   "outputs": [],
   "source": [
    "x = np.arange(0, 5, 0.1)\n",
    "print(x)\n",
    "print(len(x))"
   ]
  },
  {
   "cell_type": "markdown",
   "metadata": {
    "id": "FhsxjDHDgrSu"
   },
   "source": [
    "On calcule à présent, grâce à numpy, le cosinus de chaque valeur de $x$, et on le stock dans une liste $y$."
   ]
  },
  {
   "cell_type": "code",
   "execution_count": null,
   "metadata": {
    "colab": {
     "base_uri": "https://localhost:8080/"
    },
    "id": "DI3IHMAbgxp3",
    "outputId": "2651e8c3-f4c9-4501-b001-f88fb9187fdc"
   },
   "outputs": [],
   "source": [
    "y = np.cos(x)\n",
    "print(y)"
   ]
  },
  {
   "cell_type": "markdown",
   "metadata": {
    "id": "fqpnBVA5g3Tc"
   },
   "source": [
    "Nous pouvons maintenant directement tracer $y=cos(x)$ en se servant de ces valeurs, grace à ```matplotlib``` !"
   ]
  },
  {
   "cell_type": "code",
   "execution_count": null,
   "metadata": {
    "colab": {
     "base_uri": "https://localhost:8080/",
     "height": 282
    },
    "id": "BSqJ6ur-g_Ri",
    "outputId": "989b0bdf-e7bc-4d46-f916-e3e2e86cd266"
   },
   "outputs": [],
   "source": [
    "plt.plot(x, y)"
   ]
  },
  {
   "cell_type": "markdown",
   "metadata": {
    "id": "VQj612fphCuz"
   },
   "source": [
    "C'est aussi simple que ça. Nous pouvons maintenant ajouter la courbe $y=sin(x)$ en plus de la courbe précédente : "
   ]
  },
  {
   "cell_type": "code",
   "execution_count": null,
   "metadata": {
    "colab": {
     "base_uri": "https://localhost:8080/",
     "height": 282
    },
    "id": "MZR0ZmxehOpZ",
    "outputId": "167ebab7-4739-4b2f-8542-60650005b755"
   },
   "outputs": [],
   "source": [
    "y2 = np.sin(x)\n",
    "plt.plot(x,y)\n",
    "plt.plot(x,y2)"
   ]
  },
  {
   "cell_type": "markdown",
   "metadata": {
    "id": "wv4QLwDphY-k"
   },
   "source": [
    "Notez que notre courbe est dépourvue de légende. Matplotlib est pourvu d'un grand nombre d'outils pour personnaliser la figure produite :"
   ]
  },
  {
   "cell_type": "code",
   "execution_count": null,
   "metadata": {
    "colab": {
     "base_uri": "https://localhost:8080/",
     "height": 312
    },
    "id": "sV0fgkHthgSi",
    "outputId": "391ddd3c-243b-481a-a48a-21f30a5c587d"
   },
   "outputs": [],
   "source": [
    "plt.plot(x,y)\n",
    "plt.plot(x,y2)\n",
    "plt.xlabel('x')\n",
    "plt.ylabel('cosinus et sinus')\n",
    "plt.title('cosinus et sinus entre 0 et 5')\n",
    "plt.legend(['cosinus', 'sinus'])"
   ]
  },
  {
   "cell_type": "markdown",
   "metadata": {
    "id": "Yj5eRMMKh8Rv"
   },
   "source": [
    "Si à la place de tracer une courbe en reliant chaque point au précédent, on souhaite simplement tracer les points individuellement, on peut utiliser la méthode ```scatter```:"
   ]
  },
  {
   "cell_type": "code",
   "execution_count": null,
   "metadata": {
    "colab": {
     "base_uri": "https://localhost:8080/",
     "height": 282
    },
    "id": "1Z04m-Z3h5b9",
    "outputId": "2fad54ff-bc14-4bd6-cc41-fb9ba475a437"
   },
   "outputs": [],
   "source": [
    "plt.scatter(x,y)"
   ]
  },
  {
   "cell_type": "markdown",
   "metadata": {
    "id": "bD82gHGlincv"
   },
   "source": [
    "Mettons maintenant qu'on veut représenter des courbes sur des figures différentes (par exemple parce que l'on s'intéresse à des abscisses différentes). La méthode subplot permets exactement de faire cela :"
   ]
  },
  {
   "cell_type": "code",
   "execution_count": null,
   "metadata": {
    "colab": {
     "base_uri": "https://localhost:8080/",
     "height": 282
    },
    "id": "a6az-_HMixMo",
    "outputId": "e69bae82-9156-4421-f948-27268c8141c7"
   },
   "outputs": [],
   "source": [
    "plt.subplot(2, 2, 1) # sépare la figure en 2 colonnes et deux lignes, et se concentre sur la sous-figure d'indice 1 en haut à gauche\n",
    "plt.plot(x, y)\n",
    "plt.subplot(2, 2, 2) # se concentre sur la sous-figure d'indice 2, en haut à droite\n",
    "plt.plot(x, y, c='r') # trace la courbe en couleur 'r' = red\n",
    "plt.subplot(2, 2, 3) # se concentre sur la sous-figure d'indice 3, en bas à gauche\n",
    "plt.plot(x, y2)\n",
    "plt.subplot(2, 2, 4) # se concentre sur la sous-figure d'indice 4, en bas à droite\n",
    "plt.plot(x, y2, c='r') # trace la courbe en couleur 'r' = red\n"
   ]
  },
  {
   "cell_type": "markdown",
   "metadata": {
    "id": "lOVy7TeCkZv6"
   },
   "source": [
    "Notez comme on a changé la couleur avec l'argument optionnel ```c=```"
   ]
  },
  {
   "cell_type": "markdown",
   "metadata": {
    "id": "SV1awMe_kf0p"
   },
   "source": [
    "Enfin, pour terminer ce bref tour des principaux outils de matplotlib, voyons la méthode ```hist```, qui permet de créer un histogramme:"
   ]
  },
  {
   "cell_type": "code",
   "execution_count": null,
   "metadata": {
    "colab": {
     "base_uri": "https://localhost:8080/",
     "height": 316
    },
    "id": "ElK2VtLckffp",
    "outputId": "331b3eed-846e-4f86-9ab4-90e8ff3f2f62"
   },
   "outputs": [],
   "source": [
    "y = [0, 5, 2, 4, 11, 3, 5, 4, 4, 4, 2, 4, 11]\n",
    "plt.hist(y)"
   ]
  },
  {
   "cell_type": "markdown",
   "metadata": {
    "id": "PQPQNa1Bk1qz"
   },
   "source": [
    "```hist``` va parcourir la liste y et compter le nombre de chaque élément, avant de représenter le compte sous forme d'un histogramme. Notez que la méthode renvoie aussi la liste des limites entre les intervalles sur lesquels les éléments sont groupés, ainsi que la liste d'éléments comptés par intervalles. La méthode dispose de nombreuses options pour personaliser les intervaux et l'apparence de l'histogramme. Pour en savoir plus, se référer à la documentation."
   ]
  },
  {
   "cell_type": "markdown",
   "metadata": {},
   "source": [
    "<hr>"
   ]
  },
  {
   "cell_type": "markdown",
   "metadata": {
    "id": "PoSGFPvYlcYb"
   },
   "source": [
    "# 3. Pandas\n",
    "\n",
    "La librairie ```pandas``` (de \"panel data\") permet de manipuler des données sous forme de tableau (dataframe). Pandas offre plusieurs fonctionnalités semblables à celle du langage R. Il permet, entre autres, de remplacer des valeurs manquantes, de joindre des tables, de produire des statistiques descriptives, etc.\n",
    "\n",
    "Pour approfondir, se référer à [la documentation](https://pandas.pydata.org/docs/user_guide/index.html).\n"
   ]
  },
  {
   "cell_type": "markdown",
   "metadata": {},
   "source": [
    "Pour en illustrer les capacités, nous allons nous servir du jeu de données Adult, qui provient de http://mlr.cs.umass.edu/ml/datasets/Adult. Ce jeu est basé sur des données de recensement. Il faut prédire si un individu gagne plus de 50000$ ou non. En tout, il y a près de 32000 individus ayant 14 caractéristiques, dont l'âge, le sexe, le pays d'origine, etc. Donc, certaines variables sont continues (ex. l'âge) et d'autres sont discrètes et parfois non ordinales (ex. le pays d'origine). De plus, il y a certaines valeurs qui sont manquantes.\n",
    "\n",
    "Importons la librairie pandas"
   ]
  },
  {
   "cell_type": "code",
   "execution_count": null,
   "metadata": {
    "id": "Nbt4KXkamBay"
   },
   "outputs": [],
   "source": [
    "import pandas as pd"
   ]
  },
  {
   "cell_type": "markdown",
   "metadata": {
    "id": "mvmJYpk5mSus"
   },
   "source": [
    "À présent, téléchargeons le jeu de données Adult à partir du github du cours :"
   ]
  },
  {
   "cell_type": "markdown",
   "metadata": {},
   "source": [
    "**Attention!** Si vous exécutez dans une instance locale de colab, assurez-vous d'avoir la commande ```wget``` sur votre machine."
   ]
  },
  {
   "cell_type": "code",
   "execution_count": null,
   "metadata": {
    "id": "8RsZ96jnmX0_"
   },
   "outputs": [],
   "source": [
    "!wget -nc https://raw.githubusercontent.com/Cours-EDUlib/DIRO-SD1FR/master/FP/FP2/adult.csv"
   ]
  },
  {
   "cell_type": "markdown",
   "metadata": {
    "id": "RXQJLL8AmGdv"
   },
   "source": [
    "La méthode read_csv lit pour nous le fichier csv et le met sous le format dataframe. Si jamais vous avez de la difficulté à ouvrir un fichier, regardez la documentation de ```read_csv``` ainsi que les autres méthodes permettant d'ouvrir des fichiers (ex. ```read_sql```, ```read_excel```). Il est entre autres possible de changer les caractères utilisés pour délimiter les champs (paramètre sep) et d'utiliser un fichier sans entête (header)."
   ]
  },
  {
   "cell_type": "code",
   "execution_count": null,
   "metadata": {
    "id": "rMBNlWmDmf4g"
   },
   "outputs": [],
   "source": [
    "df = pd.read_csv(\"adult.csv\")"
   ]
  },
  {
   "cell_type": "markdown",
   "metadata": {
    "id": "ObF3BFU6mjTT"
   },
   "source": [
    "Utilisons une méthode des dataframes qui est très utile: ```head()``` qui permet d'afficher l'entête et les 5 premières rangées du dataframe."
   ]
  },
  {
   "cell_type": "code",
   "execution_count": null,
   "metadata": {
    "id": "M_ZlGYQYmj3b"
   },
   "outputs": [],
   "source": [
    "df.head()"
   ]
  },
  {
   "cell_type": "markdown",
   "metadata": {
    "id": "4Ik5x63dmnuu"
   },
   "source": [
    "Déjà, nous pouvons voir le format des données et constater que certaines cases sont marquées d'un point d'interrogation. Pour avoir une vision globale un peu plus précise, utilisons la méthode ```describe()``` qui donne quelques statistiques descriptives sur les variables continues."
   ]
  },
  {
   "cell_type": "code",
   "execution_count": null,
   "metadata": {
    "id": "vclEuaWqmonW"
   },
   "outputs": [],
   "source": [
    "df.describe()"
   ]
  },
  {
   "cell_type": "markdown",
   "metadata": {
    "id": "o-4X8A6Cmuyx"
   },
   "source": [
    "La rangée mean (moyenne) est particulièrement intéressante. Notons également les rangées min et max qui peuvent permettre d'identifier rapidement la présence de données aberrantes. Maintenant, grâce à la méthode ```unique()```, regardons les différentes valeurs prises par des variables discrètes."
   ]
  },
  {
   "cell_type": "code",
   "execution_count": null,
   "metadata": {
    "id": "_0sJiRnAmxEm"
   },
   "outputs": [],
   "source": [
    "print(df['race'].unique())\n",
    "print(df['workclass'].unique())\n",
    "print(df['education'].unique())"
   ]
  },
  {
   "cell_type": "markdown",
   "metadata": {
    "id": "U5JRURpxm4V7"
   },
   "source": [
    "Pandas nous permet également de sélectionner des données en donnant une condition. Par exemple, si nous voulons comparer le nombre moyen d'années d'éducation des hommes par rapport à celui des femmes, il suffit de faire:"
   ]
  },
  {
   "cell_type": "code",
   "execution_count": null,
   "metadata": {
    "id": "rwLhc6I1m7VO"
   },
   "outputs": [],
   "source": [
    "print(df[df['gender'] == 'Male']['educational-num'].mean())\n",
    "print(df[df['gender'] == 'Female']['educational-num'].mean())"
   ]
  },
  {
   "cell_type": "markdown",
   "metadata": {
    "id": "OuYBfpfCnFYg"
   },
   "source": [
    "En fait, il existe une manière plus pratique de regarder des statistiques de groupes. La méthode ```groupby()``` permet d'obtenir des statistiques simples (moyenne, écart-type, minimum, maximum, etc) en groupant les données selon une certaine colonne. Donc, pour reprendre l'exemple précédent, nous aurions:"
   ]
  },
  {
   "cell_type": "code",
   "execution_count": null,
   "metadata": {
    "id": "RrC4IcwmnIwU"
   },
   "outputs": [],
   "source": [
    "print(df.groupby(['gender'])['educational-num'].mean())"
   ]
  },
  {
   "cell_type": "markdown",
   "metadata": {
    "id": "cgu8Qn0snMMo"
   },
   "source": [
    "La fonction ```group_by``` est surtout pratique lorsqu'il y a un grand groupe présent:"
   ]
  },
  {
   "cell_type": "code",
   "execution_count": null,
   "metadata": {
    "id": "MwBE8SWLnL4T"
   },
   "outputs": [],
   "source": [
    "print(df.groupby(['workclass'])['hours-per-week'].mean())"
   ]
  },
  {
   "cell_type": "code",
   "execution_count": null,
   "metadata": {
    "id": "_YoJQjJUnQsv"
   },
   "outputs": [],
   "source": [
    "print(df.groupby(['workclass'])['hours-per-week'].count())"
   ]
  },
  {
   "cell_type": "code",
   "execution_count": null,
   "metadata": {
    "id": "mFLC4dUunSm3"
   },
   "outputs": [],
   "source": [
    "print(df.groupby(['workclass'])['hours-per-week'].min())"
   ]
  },
  {
   "cell_type": "code",
   "execution_count": null,
   "metadata": {
    "id": "DDObMETPnatX"
   },
   "outputs": [],
   "source": [
    "print(df.groupby(['workclass'])['hours-per-week'].max())"
   ]
  },
  {
   "cell_type": "markdown",
   "metadata": {
    "id": "GHw2hrV8ndox"
   },
   "source": [
    "Il est possible de grouper les données selon plusieurs colonnes. Par exemple, si nous voulons avoir la répartition des hommes et des femmes par rapport à la catégorie >50K et <=50K, il suffit de passer les deux colonnes en argument à ```groupby```:"
   ]
  },
  {
   "cell_type": "code",
   "execution_count": null,
   "metadata": {
    "id": "kX0TfHQsnhou"
   },
   "outputs": [],
   "source": [
    "df.groupby(['gender', 'income'])['gender'].count()"
   ]
  },
  {
   "cell_type": "markdown",
   "metadata": {
    "id": "uR7DLGlYniO7"
   },
   "source": [
    "Pour regarder s'il y a une corrélation entre deux variables, il suffit d'utiliser la méthode ```corr()```."
   ]
  },
  {
   "cell_type": "code",
   "execution_count": null,
   "metadata": {
    "id": "kBrODp-snkWk"
   },
   "outputs": [],
   "source": [
    "df['educational-num'].corr(df['age'])"
   ]
  },
  {
   "cell_type": "code",
   "execution_count": null,
   "metadata": {
    "id": "p5b4FrVBnmUP"
   },
   "outputs": [],
   "source": [
    "df['educational-num'].corr(df['hours-per-week'])"
   ]
  },
  {
   "cell_type": "markdown",
   "metadata": {
    "id": "X2DoIYWNnsaS"
   },
   "source": [
    "Il est également possible d'afficher la distribution de variables en utilisant matplotlib. Ici, par exemple, on utilise hist afin d'afficher un histogramme du nombre d'heures de travail par semaine."
   ]
  },
  {
   "cell_type": "code",
   "execution_count": null,
   "metadata": {
    "id": "AJM0fmKHnv12"
   },
   "outputs": [],
   "source": [
    "plt.hist(df['hours-per-week'])"
   ]
  },
  {
   "cell_type": "markdown",
   "metadata": {
    "id": "1gmPbrW-nzgm"
   },
   "source": [
    "De la même manière que nous avons sélectionné les hommes et les femmes, nous pouvons modifier ou supprimer des rangées ayant certaines valeurs. Par exemple, nous pourrions décider d'enlever les rangées dont l'occupation est ?."
   ]
  },
  {
   "cell_type": "code",
   "execution_count": null,
   "metadata": {
    "id": "xA2q3U-6n1WO"
   },
   "outputs": [],
   "source": [
    "df_modified = df[df['occupation'] != '?']\n",
    "df_modified.head()"
   ]
  },
  {
   "cell_type": "markdown",
   "metadata": {
    "id": "GHi8vTGqn8fi"
   },
   "source": [
    "Pour terminer, il est possible de sauvegarder le dataframe en utilisant la méthode ```to_csv()``` (en général, ```to_``` suivi du format de fichier souhaité)."
   ]
  },
  {
   "cell_type": "code",
   "execution_count": null,
   "metadata": {
    "id": "6PbM_zX0n_KF"
   },
   "outputs": [],
   "source": [
    "df_modified.to_csv('adult_modified.csv')"
   ]
  },
  {
   "cell_type": "markdown",
   "metadata": {
    "id": "HRH2NQKLoEfz"
   },
   "source": [
    "Nous ne pouvons malheureusement pas couvrir toutes les fonctionnalités de pandas... Mais pour en nommer seulement deux autres importantes: ```apply()``` et ```merge()```. La méthode ```apply()``` permet d'appliquer une fonction qu'on lui donne en argument sur l'ensemble des rangées. La très utile fonction ```merge()``` permet de joindre des tables à la manière du ```JOIN``` de ```SQL```."
   ]
  },
  {
   "cell_type": "markdown",
   "metadata": {},
   "source": [
    "<hr>"
   ]
  },
  {
   "cell_type": "markdown",
   "metadata": {
    "id": "PoSGFPvYlcYb"
   },
   "source": [
    "# 4. Seaborn\n",
    "\n",
    "La librairie ```seaborn``` offre des fonctionnalités de haut niveau. Il permet des représentations plus élaborées. Il est basé sur matplotlib. Il s'interface aisément avec pandas.\n",
    "\n",
    "Pour approfondir, se référer à [la documentation](https://seaborn.pydata.org/tutorial.html).\n"
   ]
  },
  {
   "cell_type": "markdown",
   "metadata": {},
   "source": [
    "Importons la librairie seaborn."
   ]
  },
  {
   "cell_type": "code",
   "execution_count": null,
   "metadata": {},
   "outputs": [],
   "source": [
    "import seaborn as sns\n",
    "sns.set()"
   ]
  },
  {
   "cell_type": "code",
   "execution_count": null,
   "metadata": {},
   "outputs": [],
   "source": [
    "sns.histplot(data=df['hours-per-week'],binwidth=10)"
   ]
  },
  {
   "cell_type": "markdown",
   "metadata": {},
   "source": [
    "Les données sont les mêmes. La visualisation est légèrement différente dans ```seaborn```. On note la présence de la grille."
   ]
  },
  {
   "cell_type": "markdown",
   "metadata": {},
   "source": [
    "La fonction **displot** permet de dessiner en plus de l'histogramme, une distribution de probabilité des observations."
   ]
  },
  {
   "cell_type": "code",
   "execution_count": null,
   "metadata": {},
   "outputs": [],
   "source": [
    "sns.displot(data=df['hours-per-week'],kde=True,binwidth=10)"
   ]
  },
  {
   "cell_type": "markdown",
   "metadata": {},
   "source": [
    "Juste la densité ..."
   ]
  },
  {
   "cell_type": "code",
   "execution_count": null,
   "metadata": {},
   "outputs": [],
   "source": [
    "sns.displot(data=df['hours-per-week'],kind='kde')"
   ]
  },
  {
   "cell_type": "markdown",
   "metadata": {},
   "source": [
    "## pairplot"
   ]
  },
  {
   "cell_type": "markdown",
   "metadata": {},
   "source": [
    "<br>On définit un nouveau DataFrame qui comprend uniquement les variables quantitatives."
   ]
  },
  {
   "cell_type": "code",
   "execution_count": null,
   "metadata": {},
   "outputs": [],
   "source": [
    "df_reduit = df[['age', 'fnlwgt', 'educational-num', 'hours-per-week']]"
   ]
  },
  {
   "cell_type": "markdown",
   "metadata": {},
   "source": [
    "On vérifie l'entête du DataFrame"
   ]
  },
  {
   "cell_type": "code",
   "execution_count": null,
   "metadata": {},
   "outputs": [],
   "source": [
    "df_reduit.head()"
   ]
  },
  {
   "cell_type": "markdown",
   "metadata": {},
   "source": [
    "La fonction ```pairplot``` permet de dessiner les relations qui existent entre les différentes variables.\n",
    "C'est une sorte de matrice. Les éléments sur la diagonale sont les 'distplot' mentionnés précédemment.\n",
    "Les autres éléments sont des nuages de points qui représentent un croisement de variables.\n",
    "<br>Pour cet exemple, il s'agit de la corrélation entre **age**, **fnlwgt**, **educational-num** et **hours-per-week**."
   ]
  },
  {
   "cell_type": "code",
   "execution_count": null,
   "metadata": {},
   "outputs": [],
   "source": [
    "sns.pairplot(df_reduit)\n",
    "plt.legend([],[],frameon=False)"
   ]
  },
  {
   "cell_type": "markdown",
   "metadata": {},
   "source": [
    "Le paramètre **hue** permet d'ajouter une sorte de \"3e dimension\" au dessin. Cette dimension n'est autre que la couleur.\n",
    "<br>Le paramètre permet de définir le nom de la colonne du DataFrame à utiliser."
   ]
  },
  {
   "cell_type": "code",
   "execution_count": null,
   "metadata": {},
   "outputs": [],
   "source": [
    "sns.pairplot(df, hue='income', vars=['age', 'fnlwgt', 'educational-num', 'hours-per-week'])"
   ]
  },
  {
   "cell_type": "markdown",
   "metadata": {},
   "source": [
    "## scatterplot"
   ]
  },
  {
   "cell_type": "markdown",
   "metadata": {},
   "source": [
    "<br>**scatter** permet de dessiner un nuage de point. Mais comment le fait-on à la sauce seaborn?"
   ]
  },
  {
   "cell_type": "code",
   "execution_count": null,
   "metadata": {},
   "outputs": [],
   "source": [
    "sns.scatterplot(x='age', y='educational-num', data=df)"
   ]
  },
  {
   "cell_type": "markdown",
   "metadata": {},
   "source": [
    "## jointplot"
   ]
  },
  {
   "cell_type": "markdown",
   "metadata": {},
   "source": [
    "<br>**jointplot** en plus de dessiner le nuage de points pour les deux variables, elle y ajoute aussi l'histogramme de chaque variable."
   ]
  },
  {
   "cell_type": "code",
   "execution_count": null,
   "metadata": {},
   "outputs": [],
   "source": [
    "sns.jointplot(x='age', y='educational-num', data=df)"
   ]
  },
  {
   "cell_type": "markdown",
   "metadata": {},
   "source": [
    "## boxplot"
   ]
  },
  {
   "cell_type": "markdown",
   "metadata": {},
   "source": [
    "<br>On affiche les boîtes à moustaches pour la variable **income** en fonction de la variable **age**."
   ]
  },
  {
   "cell_type": "code",
   "execution_count": null,
   "metadata": {},
   "outputs": [],
   "source": [
    "sns.set(rc={'figure.figsize':(8,8)})\n",
    "ax = sns.boxplot(x='income',y='age',data=df)\n",
    "ax.set_xticklabels(ax.get_xticklabels(),rotation=45)\n",
    "plt.show()"
   ]
  },
  {
   "cell_type": "markdown",
   "metadata": {},
   "source": [
    "## heatmap"
   ]
  },
  {
   "cell_type": "markdown",
   "metadata": {},
   "source": [
    "<br>On peut créer un tableau croisé dynamique à la sauce Excel.\n",
    "- L'axe 'x': est représenté par la variable 'income'.\n",
    "- L'axe 'y': est représenté par la variable 'native-country'.\n",
    "- La variable 'hours-per-week' sert à déterminer l'intensité de la couleur.\n",
    "- On utilise la moyenne comme fonction d'agrégation."
   ]
  },
  {
   "cell_type": "code",
   "execution_count": null,
   "metadata": {},
   "outputs": [],
   "source": [
    "df2 = df.pivot_table(index='native-country', columns='income', values='hours-per-week', aggfunc='mean')\n",
    "sns.heatmap(df2, cbar_kws={'label': 'hours-per-week'})"
   ]
  }
 ],
 "metadata": {
  "colab": {
   "name": "FP2.ipynb",
   "provenance": []
  },
  "kernelspec": {
   "display_name": "Python 3",
   "language": "python",
   "name": "python3"
  },
  "language_info": {
   "codemirror_mode": {
    "name": "ipython",
    "version": 3
   },
   "file_extension": ".py",
   "mimetype": "text/x-python",
   "name": "python",
   "nbconvert_exporter": "python",
   "pygments_lexer": "ipython3",
   "version": "3.8.10"
  }
 },
 "nbformat": 4,
 "nbformat_minor": 4
}
