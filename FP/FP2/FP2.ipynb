{
 "cells": [
  {
   "cell_type": "markdown",
   "metadata": {
    "id": "5W1bkjspewTG"
   },
   "source": [
    "# Formation Pratique 2 : Manipulation, analyse et gestion de données\n",
    "\n",
    "**Cette formation pratique est optionnelle : si vous maitrisez déjà les outils numpy et pandas, vous pouvez en ignorer le contenu**\n",
    "\n",
    "Le but de cette formation pratique est d'introduire les outils numpy pour le calcul matriciel et diverses fonctions mathématiques opérant autour et pandas pour l'analyse et la manipulation de données."
   ]
  },
  {
   "cell_type": "markdown",
   "metadata": {},
   "source": [
    "<hr>"
   ]
  },
  {
   "cell_type": "markdown",
   "metadata": {
    "id": "2J_VEEAWNavK"
   },
   "source": [
    "# 1. NumPy\n",
    "\n",
    "```NumPy``` est une librairie indispensable en Python. Elle nous permettra de définir un nouveau type de données, les \"arrays\" (tableaux) qui nous permettra de réaliser efficacement des calcules matriciels et autres opérations mathématiques. \n",
    "\n",
    "Pour approfondir, se référer à [la documentation](https://numpy.org/doc/stable/reference/).\n",
    "\n",
    "Commençons par importer NumPy ..."
   ]
  },
  {
   "cell_type": "code",
   "execution_count": 1,
   "metadata": {
    "id": "nyjPHmfyOYbM"
   },
   "outputs": [],
   "source": [
    "import numpy as np"
   ]
  },
  {
   "cell_type": "markdown",
   "metadata": {
    "id": "rChvLOsPOhmc"
   },
   "source": [
    "## 1.1. Tableaux (arrays)\n",
    "\n",
    "Nous pouvons à présent définir des tableaux, par exemple en convertissant une liste en tableau :"
   ]
  },
  {
   "cell_type": "code",
   "execution_count": 2,
   "metadata": {
    "colab": {
     "base_uri": "https://localhost:8080/"
    },
    "id": "7mrmTLC-OnOn",
    "outputId": "4e2c492c-f8ce-4976-c93f-9311c01904ea"
   },
   "outputs": [
    {
     "name": "stdout",
     "output_type": "stream",
     "text": [
      "[1 2 3]\n"
     ]
    }
   ],
   "source": [
    "a = np.array([1,2,3])\n",
    "print(a)"
   ]
  },
  {
   "cell_type": "code",
   "execution_count": 3,
   "metadata": {},
   "outputs": [
    {
     "name": "stdout",
     "output_type": "stream",
     "text": [
      "[[1 2 3]\n",
      " [4 5 6]\n",
      " [7 8 9]]\n"
     ]
    }
   ],
   "source": [
    "b = np.array([[1,2,3],[4,5,6],[7,8,9]])\n",
    "print(b)"
   ]
  },
  {
   "cell_type": "markdown",
   "metadata": {
    "id": "lNz7mhRQOwaE"
   },
   "source": [
    "On remarquera que dans ce cas, la variable ```b``` est définie à partir d'une liste de liste, et sera donc interprétée comme une matrice de deux dimensions (3x3) dans ce cas. On peut regarder la forme d'un tableau en utilisant ```shape```"
   ]
  },
  {
   "cell_type": "code",
   "execution_count": 4,
   "metadata": {
    "colab": {
     "base_uri": "https://localhost:8080/"
    },
    "id": "MiN_Z2PHO8QV",
    "outputId": "9aaf0a22-8ecc-47cc-beb2-226a3436da07"
   },
   "outputs": [
    {
     "name": "stdout",
     "output_type": "stream",
     "text": [
      "(3,)\n"
     ]
    }
   ],
   "source": [
    "print(a.shape)"
   ]
  },
  {
   "cell_type": "code",
   "execution_count": 5,
   "metadata": {},
   "outputs": [
    {
     "name": "stdout",
     "output_type": "stream",
     "text": [
      "(3, 3)\n"
     ]
    }
   ],
   "source": [
    "print(b.shape)"
   ]
  },
  {
   "cell_type": "markdown",
   "metadata": {},
   "source": [
    "La fonction ```shape``` retourne un tuple contenant la taille de chaque dimension. La variable ```a``` est vue comme étant un tableau à une seule dimension dont la taille est 3, alors que ```b``` est une matrice de deux dimensions dont chaque dimension est égale à 3."
   ]
  },
  {
   "cell_type": "markdown",
   "metadata": {
    "id": "x2qdg6HOO-uS"
   },
   "source": [
    "Comme avec les listes, nous pouvons réassigner les éléments d'un array et y accéder. Si un tableau est en plusieurs dimensions, on y accède en lui donnant la liste des index :"
   ]
  },
  {
   "cell_type": "code",
   "execution_count": 6,
   "metadata": {
    "colab": {
     "base_uri": "https://localhost:8080/"
    },
    "id": "DwYmngROPGba",
    "outputId": "b777ff4a-ad8d-4c02-aeb6-fa181b4e5c90"
   },
   "outputs": [
    {
     "name": "stdout",
     "output_type": "stream",
     "text": [
      "6\n"
     ]
    }
   ],
   "source": [
    "# Ne pas oublier que la colonne 2, en python, correspond a la troisième colonne ! la première colonne est indiquée comme étant la colonne 0\n",
    "\n",
    "print(b[1,2]) # imprime l'élément de la ligne 1, colonne 2 de b"
   ]
  },
  {
   "cell_type": "code",
   "execution_count": 7,
   "metadata": {},
   "outputs": [
    {
     "name": "stdout",
     "output_type": "stream",
     "text": [
      "7\n"
     ]
    }
   ],
   "source": [
    "print(b[2,0]) # imprime l'élément de la ligne 2, colonne 0 de b"
   ]
  },
  {
   "cell_type": "markdown",
   "metadata": {
    "id": "oAMCC9PPPmSZ"
   },
   "source": [
    "On peut aussi créer des tableaux remplis de 1 ou de 0, en indiquant uniquement la forme voulue :"
   ]
  },
  {
   "cell_type": "code",
   "execution_count": 8,
   "metadata": {
    "colab": {
     "base_uri": "https://localhost:8080/"
    },
    "id": "7MlTJAb0Pr-4",
    "outputId": "f295fa61-decd-4dce-8479-e33bdc651051"
   },
   "outputs": [
    {
     "name": "stdout",
     "output_type": "stream",
     "text": [
      "[[[1. 1.]\n",
      "  [1. 1.]\n",
      "  [1. 1.]]\n",
      "\n",
      " [[1. 1.]\n",
      "  [1. 1.]\n",
      "  [1. 1.]]\n",
      "\n",
      " [[1. 1.]\n",
      "  [1. 1.]\n",
      "  [1. 1.]]\n",
      "\n",
      " [[1. 1.]\n",
      "  [1. 1.]\n",
      "  [1. 1.]]]\n"
     ]
    }
   ],
   "source": [
    "a = np.ones((4,3,2)) # (4x3x2) avec des 1\n",
    "print(a)"
   ]
  },
  {
   "cell_type": "code",
   "execution_count": 9,
   "metadata": {},
   "outputs": [
    {
     "name": "stdout",
     "output_type": "stream",
     "text": [
      "[0. 0.]\n",
      "(2,)\n"
     ]
    }
   ],
   "source": [
    "b = np.zeros((2,)) # (2,) avec des 0\n",
    "print(b)\n",
    "print(b.shape)"
   ]
  },
  {
   "cell_type": "markdown",
   "metadata": {
    "id": "DYcTi5feP2UF"
   },
   "source": [
    "Dans cet exemple, a est une matrice de dimension 3 (taille 4x3x2) remplie de '1', alors que b est une matrice de dimension 1 (taille 2) remplie de '0'."
   ]
  },
  {
   "cell_type": "markdown",
   "metadata": {
    "id": "TbdX0lPjQRGB"
   },
   "source": [
    "La librairie numpy dispose d'un grand nombre d'implémentations d'opérations mathématiques utiles:"
   ]
  },
  {
   "cell_type": "code",
   "execution_count": 10,
   "metadata": {
    "colab": {
     "base_uri": "https://localhost:8080/"
    },
    "id": "YS66B68aQYbu",
    "outputId": "bb5b234f-f21e-4fa0-8ca5-50cf7437676f"
   },
   "outputs": [
    {
     "name": "stdout",
     "output_type": "stream",
     "text": [
      "1.0\n",
      "0.0\n",
      "[1. 1. 1.]\n"
     ]
    }
   ],
   "source": [
    "a = np.ones((2,3))\n",
    "\n",
    "print(np.mean(a)) # calcule la valeur moyenne des éléments de a\n",
    "print(np.var(a)) # calcule la variance des éléments de a\n",
    "\n",
    "print(np.mean(a, axis=0)) # calcule la moyenne des éléments de 'a' pour chaque ligne, et les renvoie dans un nouveau tableau"
   ]
  },
  {
   "cell_type": "code",
   "execution_count": 11,
   "metadata": {
    "colab": {
     "base_uri": "https://localhost:8080/"
    },
    "id": "o84xWDtOQeaf",
    "outputId": "1f166d78-c897-4e84-b0ef-62dae0e96247"
   },
   "outputs": [
    {
     "name": "stdout",
     "output_type": "stream",
     "text": [
      "a*b ...\n",
      " [[3. 3. 3. 3.]\n",
      " [3. 3. 3. 3.]]\n",
      "a+a ...\n",
      " [[2. 2. 2.]\n",
      " [2. 2. 2.]]\n"
     ]
    }
   ],
   "source": [
    "a = np.ones((2,3))\n",
    "b = np.ones((3,4))\n",
    "\n",
    "print(\"a*b ...\\n\",np.dot(a,b)) # calcule le produit matriciel de a par b\n",
    "print(\"a+a ...\\n\",a + a) # additionne a avec lui-même"
   ]
  },
  {
   "cell_type": "markdown",
   "metadata": {
    "id": "fjD4UXDdXdfQ"
   },
   "source": [
    "Numpy permet d'implémenter très simplement des opérations qui nécessiteraient normalement un certain nombre de boucles :"
   ]
  },
  {
   "cell_type": "code",
   "execution_count": 12,
   "metadata": {
    "colab": {
     "base_uri": "https://localhost:8080/"
    },
    "id": "taXOv_paXoe4",
    "outputId": "4a00ebe9-79ed-426c-f5aa-72d05e1b71ab"
   },
   "outputs": [
    {
     "name": "stdout",
     "output_type": "stream",
     "text": [
      "[[0 1 2 3]\n",
      " [4 5 6 7]]\n",
      "[[False False False  True]\n",
      " [ True  True  True  True]]\n",
      "[3 4 5 6 7]\n"
     ]
    }
   ],
   "source": [
    "a = np.array([[0,1,2,3],[4,5,6,7]])\n",
    "print(a)\n",
    "print(a > 2) # a>2 calcule pour chaque élément de a s'il est supérieur à deux, et renvoie True ou False. Le résultat est sous la forme d'un array de même taille\n",
    "print(a[a > 2]) # renvoie la liste des éléments de a aux indices où a est plus grand que 2. Donc, la liste des éléments de a plus grand que 2."
   ]
  },
  {
   "cell_type": "markdown",
   "metadata": {},
   "source": [
    "On peut calculer simplement le déterminant et l'inverse d'une matrice carrée."
   ]
  },
  {
   "cell_type": "code",
   "execution_count": 13,
   "metadata": {},
   "outputs": [],
   "source": [
    "une_mat_int = np.array([[1, 2, 3],[4, 5, 6],[7, 8, 9]])"
   ]
  },
  {
   "cell_type": "code",
   "execution_count": 14,
   "metadata": {},
   "outputs": [
    {
     "data": {
      "text/plain": [
       "(3, 3)"
      ]
     },
     "execution_count": 14,
     "metadata": {},
     "output_type": "execute_result"
    }
   ],
   "source": [
    "une_mat_int.shape"
   ]
  },
  {
   "cell_type": "code",
   "execution_count": 15,
   "metadata": {},
   "outputs": [
    {
     "data": {
      "text/plain": [
       "-9.51619735392994e-16"
      ]
     },
     "execution_count": 15,
     "metadata": {},
     "output_type": "execute_result"
    }
   ],
   "source": [
    "# Déterminant ...\n",
    "\n",
    "np.linalg.det(une_mat_int)"
   ]
  },
  {
   "cell_type": "code",
   "execution_count": 16,
   "metadata": {},
   "outputs": [
    {
     "data": {
      "text/plain": [
       "array([[ 3.15251974e+15, -6.30503948e+15,  3.15251974e+15],\n",
       "       [-6.30503948e+15,  1.26100790e+16, -6.30503948e+15],\n",
       "       [ 3.15251974e+15, -6.30503948e+15,  3.15251974e+15]])"
      ]
     },
     "execution_count": 16,
     "metadata": {},
     "output_type": "execute_result"
    }
   ],
   "source": [
    "np.linalg.inv(une_mat_int)"
   ]
  },
  {
   "cell_type": "markdown",
   "metadata": {
    "id": "t4oAc2mAYKj1"
   },
   "source": [
    "## 1.2. Géneration Aléatoire\n",
    "\n",
    "Numpy est aussi utilisé pour générer des valeurs aléatoires. Pour cela, on se sert de ```numpy.random```. \n"
   ]
  },
  {
   "cell_type": "code",
   "execution_count": 17,
   "metadata": {
    "colab": {
     "base_uri": "https://localhost:8080/"
    },
    "id": "tsTvFdIbYrn4",
    "outputId": "61d5e8e6-c924-462c-a18a-fa63be7d74cf"
   },
   "outputs": [
    {
     "name": "stdout",
     "output_type": "stream",
     "text": [
      "matrice aléatoire 3x2 ...\n",
      " [[ 1.89126096  1.03130036]\n",
      " [ 0.64905503  0.62429571]\n",
      " [ 0.92785291 -0.27737386]]\n",
      "1 entier aléatoire entre 0 et 99 ...\n",
      " 82\n"
     ]
    }
   ],
   "source": [
    "print(\"matrice aléatoire 3x2 ...\\n\",np.random.randn(3,2)) # génère un tableau de forme 3x2 dont les éléments sont tirés d'une loi normale de moyenne 0 et de variance 1\n",
    "print(\"1 entier aléatoire entre 0 et 99 ...\\n\",np.random.randint(100)) # génère un entier aléatoire entre 0 et 99"
   ]
  },
  {
   "cell_type": "markdown",
   "metadata": {
    "id": "eOerI7u9ZLJ3"
   },
   "source": [
    "On peut fixer le \"seed\" de numpy, ce qui permettra de reproduire les mêmes générations aléatoires à chaque exécution, et donc d'avoir des résultats reproduisibles:"
   ]
  },
  {
   "cell_type": "code",
   "execution_count": 18,
   "metadata": {
    "colab": {
     "base_uri": "https://localhost:8080/"
    },
    "id": "D0iwCEO_Za61",
    "outputId": "abfdc9e6-ba56-4439-9495-8cb1d3340b9f"
   },
   "outputs": [
    {
     "name": "stdout",
     "output_type": "stream",
     "text": [
      "717354021\n",
      "218175338\n",
      "717354021\n"
     ]
    }
   ],
   "source": [
    "np.random.seed(seed=1)\n",
    "print(np.random.randint(10**9))\n",
    "\n",
    "np.random.seed(seed=3)\n",
    "print(np.random.randint(10**9))\n",
    "\n",
    "np.random.seed(seed=1)\n",
    "print(np.random.randint(10**9))"
   ]
  },
  {
   "cell_type": "markdown",
   "metadata": {
    "id": "WWmQp78daLLP"
   },
   "source": [
    "Le 1er et le 3e entier générés sont les mêmes, car ils ont été générés après avoir fixé le seed à la même valeur. Le second n'est pas le même, car le seed diffère. À chaque exécution, on obtient les mêmes valeurs, car les seeds sont fixés."
   ]
  },
  {
   "cell_type": "markdown",
   "metadata": {},
   "source": [
    "<hr>"
   ]
  },
  {
   "cell_type": "markdown",
   "metadata": {
    "id": "PoSGFPvYlcYb"
   },
   "source": [
    "# 2. Pandas\n",
    "\n",
    "La librairie ```pandas``` (de \"panel data\") permet de manipuler des données sous forme de tableau (dataframe). Pandas offre plusieurs fonctionnalités semblables à celle du langage R. Il permet, entre autres, de remplacer des valeurs manquantes, de joindre des tables, de produire des statistiques descriptives, etc.\n",
    "\n",
    "Pour approfondir, se référer à [la documentation](https://pandas.pydata.org/docs/user_guide/index.html).\n"
   ]
  },
  {
   "cell_type": "markdown",
   "metadata": {},
   "source": [
    "Pour en illustrer les capacités, nous allons nous servir du jeu de données Adult, qui provient de (https://archive.ics.uci.edu/ml/datasets/Adult). Ce jeu est basé sur des données de recensement. Il faut prédire si un individu gagne plus de 50000$ ou non. En tout, il y a près de 32000 individus ayant 14 caractéristiques, dont l'âge, le sexe, le pays d'origine, etc. Donc, certaines variables sont continues (ex. l'âge) et d'autres sont discrètes et parfois non ordinales (ex. le pays d'origine). De plus, il y a certaines valeurs qui sont manquantes.\n",
    "\n",
    "Importons la librairie pandas"
   ]
  },
  {
   "cell_type": "code",
   "execution_count": 19,
   "metadata": {
    "id": "Nbt4KXkamBay"
   },
   "outputs": [],
   "source": [
    "import pandas as pd"
   ]
  },
  {
   "cell_type": "markdown",
   "metadata": {
    "id": "mvmJYpk5mSus"
   },
   "source": [
    "À présent, téléchargeons le jeu de données Adult à partir du github du cours :"
   ]
  },
  {
   "cell_type": "markdown",
   "metadata": {},
   "source": [
    "**Attention!** Si vous exécutez dans une instance locale de colab, assurez-vous d'avoir la commande ```wget``` sur votre machine."
   ]
  },
  {
   "cell_type": "code",
   "execution_count": 20,
   "metadata": {
    "id": "8RsZ96jnmX0_"
   },
   "outputs": [
    {
     "name": "stderr",
     "output_type": "stream",
     "text": [
      "'wget' n’est pas reconnu en tant que commande interne\n",
      "ou externe, un programme exécutable ou un fichier de commandes.\n"
     ]
    }
   ],
   "source": [
    "!wget -nc https://raw.githubusercontent.com/Cours-EDUlib/DIRO-SD1FR/master/FP/FP2/adult.csv"
   ]
  },
  {
   "cell_type": "markdown",
   "metadata": {
    "id": "RXQJLL8AmGdv"
   },
   "source": [
    "La méthode read_csv lit pour nous le fichier csv et le met sous le format dataframe. Si jamais vous avez de la difficulté à ouvrir un fichier, regardez la documentation de ```read_csv``` ainsi que les autres méthodes permettant d'ouvrir des fichiers (ex. ```read_sql```, ```read_excel```). Il est entre autres possible de changer les caractères utilisés pour délimiter les champs (paramètre sep) et d'utiliser un fichier sans entête (header)."
   ]
  },
  {
   "cell_type": "code",
   "execution_count": 21,
   "metadata": {
    "id": "rMBNlWmDmf4g"
   },
   "outputs": [],
   "source": [
    "df = pd.read_csv(\"adult.csv\")"
   ]
  },
  {
   "cell_type": "markdown",
   "metadata": {
    "id": "ObF3BFU6mjTT"
   },
   "source": [
    "Utilisons une méthode des dataframes qui est très utile: ```head()``` qui permet d'afficher l'entête et les 5 premières rangées du dataframe."
   ]
  },
  {
   "cell_type": "code",
   "execution_count": 22,
   "metadata": {
    "id": "M_ZlGYQYmj3b"
   },
   "outputs": [
    {
     "data": {
      "text/html": [
       "<div>\n",
       "<style scoped>\n",
       "    .dataframe tbody tr th:only-of-type {\n",
       "        vertical-align: middle;\n",
       "    }\n",
       "\n",
       "    .dataframe tbody tr th {\n",
       "        vertical-align: top;\n",
       "    }\n",
       "\n",
       "    .dataframe thead th {\n",
       "        text-align: right;\n",
       "    }\n",
       "</style>\n",
       "<table border=\"1\" class=\"dataframe\">\n",
       "  <thead>\n",
       "    <tr style=\"text-align: right;\">\n",
       "      <th></th>\n",
       "      <th>age</th>\n",
       "      <th>workclass</th>\n",
       "      <th>fnlwgt</th>\n",
       "      <th>education</th>\n",
       "      <th>educational-num</th>\n",
       "      <th>marital-status</th>\n",
       "      <th>occupation</th>\n",
       "      <th>relationship</th>\n",
       "      <th>race</th>\n",
       "      <th>gender</th>\n",
       "      <th>capital-gain</th>\n",
       "      <th>capital-loss</th>\n",
       "      <th>hours-per-week</th>\n",
       "      <th>native-country</th>\n",
       "      <th>income</th>\n",
       "    </tr>\n",
       "  </thead>\n",
       "  <tbody>\n",
       "    <tr>\n",
       "      <th>0</th>\n",
       "      <td>25</td>\n",
       "      <td>Private</td>\n",
       "      <td>226802</td>\n",
       "      <td>11th</td>\n",
       "      <td>7</td>\n",
       "      <td>Never-married</td>\n",
       "      <td>Machine-op-inspct</td>\n",
       "      <td>Own-child</td>\n",
       "      <td>Black</td>\n",
       "      <td>Male</td>\n",
       "      <td>0</td>\n",
       "      <td>0</td>\n",
       "      <td>40</td>\n",
       "      <td>United-States</td>\n",
       "      <td>&lt;=50K</td>\n",
       "    </tr>\n",
       "    <tr>\n",
       "      <th>1</th>\n",
       "      <td>38</td>\n",
       "      <td>Private</td>\n",
       "      <td>89814</td>\n",
       "      <td>HS-grad</td>\n",
       "      <td>9</td>\n",
       "      <td>Married-civ-spouse</td>\n",
       "      <td>Farming-fishing</td>\n",
       "      <td>Husband</td>\n",
       "      <td>White</td>\n",
       "      <td>Male</td>\n",
       "      <td>0</td>\n",
       "      <td>0</td>\n",
       "      <td>50</td>\n",
       "      <td>United-States</td>\n",
       "      <td>&lt;=50K</td>\n",
       "    </tr>\n",
       "    <tr>\n",
       "      <th>2</th>\n",
       "      <td>28</td>\n",
       "      <td>Local-gov</td>\n",
       "      <td>336951</td>\n",
       "      <td>Assoc-acdm</td>\n",
       "      <td>12</td>\n",
       "      <td>Married-civ-spouse</td>\n",
       "      <td>Protective-serv</td>\n",
       "      <td>Husband</td>\n",
       "      <td>White</td>\n",
       "      <td>Male</td>\n",
       "      <td>0</td>\n",
       "      <td>0</td>\n",
       "      <td>40</td>\n",
       "      <td>United-States</td>\n",
       "      <td>&gt;50K</td>\n",
       "    </tr>\n",
       "    <tr>\n",
       "      <th>3</th>\n",
       "      <td>44</td>\n",
       "      <td>Private</td>\n",
       "      <td>160323</td>\n",
       "      <td>Some-college</td>\n",
       "      <td>10</td>\n",
       "      <td>Married-civ-spouse</td>\n",
       "      <td>Machine-op-inspct</td>\n",
       "      <td>Husband</td>\n",
       "      <td>Black</td>\n",
       "      <td>Male</td>\n",
       "      <td>7688</td>\n",
       "      <td>0</td>\n",
       "      <td>40</td>\n",
       "      <td>United-States</td>\n",
       "      <td>&gt;50K</td>\n",
       "    </tr>\n",
       "    <tr>\n",
       "      <th>4</th>\n",
       "      <td>18</td>\n",
       "      <td>?</td>\n",
       "      <td>103497</td>\n",
       "      <td>Some-college</td>\n",
       "      <td>10</td>\n",
       "      <td>Never-married</td>\n",
       "      <td>?</td>\n",
       "      <td>Own-child</td>\n",
       "      <td>White</td>\n",
       "      <td>Female</td>\n",
       "      <td>0</td>\n",
       "      <td>0</td>\n",
       "      <td>30</td>\n",
       "      <td>United-States</td>\n",
       "      <td>&lt;=50K</td>\n",
       "    </tr>\n",
       "  </tbody>\n",
       "</table>\n",
       "</div>"
      ],
      "text/plain": [
       "   age  workclass  fnlwgt     education  educational-num      marital-status  \\\n",
       "0   25    Private  226802          11th                7       Never-married   \n",
       "1   38    Private   89814       HS-grad                9  Married-civ-spouse   \n",
       "2   28  Local-gov  336951    Assoc-acdm               12  Married-civ-spouse   \n",
       "3   44    Private  160323  Some-college               10  Married-civ-spouse   \n",
       "4   18          ?  103497  Some-college               10       Never-married   \n",
       "\n",
       "          occupation relationship   race  gender  capital-gain  capital-loss  \\\n",
       "0  Machine-op-inspct    Own-child  Black    Male             0             0   \n",
       "1    Farming-fishing      Husband  White    Male             0             0   \n",
       "2    Protective-serv      Husband  White    Male             0             0   \n",
       "3  Machine-op-inspct      Husband  Black    Male          7688             0   \n",
       "4                  ?    Own-child  White  Female             0             0   \n",
       "\n",
       "   hours-per-week native-country income  \n",
       "0              40  United-States  <=50K  \n",
       "1              50  United-States  <=50K  \n",
       "2              40  United-States   >50K  \n",
       "3              40  United-States   >50K  \n",
       "4              30  United-States  <=50K  "
      ]
     },
     "execution_count": 22,
     "metadata": {},
     "output_type": "execute_result"
    }
   ],
   "source": [
    "df.head()"
   ]
  },
  {
   "cell_type": "markdown",
   "metadata": {
    "id": "4Ik5x63dmnuu"
   },
   "source": [
    "Déjà, nous pouvons voir le format des données et constater que certaines cases sont marquées d'un point d'interrogation. Pour avoir une vision globale un peu plus précise, utilisons la méthode ```describe()``` qui donne quelques statistiques descriptives sur les variables continues."
   ]
  },
  {
   "cell_type": "code",
   "execution_count": 23,
   "metadata": {
    "id": "vclEuaWqmonW"
   },
   "outputs": [
    {
     "data": {
      "text/html": [
       "<div>\n",
       "<style scoped>\n",
       "    .dataframe tbody tr th:only-of-type {\n",
       "        vertical-align: middle;\n",
       "    }\n",
       "\n",
       "    .dataframe tbody tr th {\n",
       "        vertical-align: top;\n",
       "    }\n",
       "\n",
       "    .dataframe thead th {\n",
       "        text-align: right;\n",
       "    }\n",
       "</style>\n",
       "<table border=\"1\" class=\"dataframe\">\n",
       "  <thead>\n",
       "    <tr style=\"text-align: right;\">\n",
       "      <th></th>\n",
       "      <th>age</th>\n",
       "      <th>fnlwgt</th>\n",
       "      <th>educational-num</th>\n",
       "      <th>capital-gain</th>\n",
       "      <th>capital-loss</th>\n",
       "      <th>hours-per-week</th>\n",
       "    </tr>\n",
       "  </thead>\n",
       "  <tbody>\n",
       "    <tr>\n",
       "      <th>count</th>\n",
       "      <td>48842.000000</td>\n",
       "      <td>4.884200e+04</td>\n",
       "      <td>48842.000000</td>\n",
       "      <td>48842.000000</td>\n",
       "      <td>48842.000000</td>\n",
       "      <td>48842.000000</td>\n",
       "    </tr>\n",
       "    <tr>\n",
       "      <th>mean</th>\n",
       "      <td>38.643585</td>\n",
       "      <td>1.896641e+05</td>\n",
       "      <td>10.078089</td>\n",
       "      <td>1079.067626</td>\n",
       "      <td>87.502314</td>\n",
       "      <td>40.422382</td>\n",
       "    </tr>\n",
       "    <tr>\n",
       "      <th>std</th>\n",
       "      <td>13.710510</td>\n",
       "      <td>1.056040e+05</td>\n",
       "      <td>2.570973</td>\n",
       "      <td>7452.019058</td>\n",
       "      <td>403.004552</td>\n",
       "      <td>12.391444</td>\n",
       "    </tr>\n",
       "    <tr>\n",
       "      <th>min</th>\n",
       "      <td>17.000000</td>\n",
       "      <td>1.228500e+04</td>\n",
       "      <td>1.000000</td>\n",
       "      <td>0.000000</td>\n",
       "      <td>0.000000</td>\n",
       "      <td>1.000000</td>\n",
       "    </tr>\n",
       "    <tr>\n",
       "      <th>25%</th>\n",
       "      <td>28.000000</td>\n",
       "      <td>1.175505e+05</td>\n",
       "      <td>9.000000</td>\n",
       "      <td>0.000000</td>\n",
       "      <td>0.000000</td>\n",
       "      <td>40.000000</td>\n",
       "    </tr>\n",
       "    <tr>\n",
       "      <th>50%</th>\n",
       "      <td>37.000000</td>\n",
       "      <td>1.781445e+05</td>\n",
       "      <td>10.000000</td>\n",
       "      <td>0.000000</td>\n",
       "      <td>0.000000</td>\n",
       "      <td>40.000000</td>\n",
       "    </tr>\n",
       "    <tr>\n",
       "      <th>75%</th>\n",
       "      <td>48.000000</td>\n",
       "      <td>2.376420e+05</td>\n",
       "      <td>12.000000</td>\n",
       "      <td>0.000000</td>\n",
       "      <td>0.000000</td>\n",
       "      <td>45.000000</td>\n",
       "    </tr>\n",
       "    <tr>\n",
       "      <th>max</th>\n",
       "      <td>90.000000</td>\n",
       "      <td>1.490400e+06</td>\n",
       "      <td>16.000000</td>\n",
       "      <td>99999.000000</td>\n",
       "      <td>4356.000000</td>\n",
       "      <td>99.000000</td>\n",
       "    </tr>\n",
       "  </tbody>\n",
       "</table>\n",
       "</div>"
      ],
      "text/plain": [
       "                age        fnlwgt  educational-num  capital-gain  \\\n",
       "count  48842.000000  4.884200e+04     48842.000000  48842.000000   \n",
       "mean      38.643585  1.896641e+05        10.078089   1079.067626   \n",
       "std       13.710510  1.056040e+05         2.570973   7452.019058   \n",
       "min       17.000000  1.228500e+04         1.000000      0.000000   \n",
       "25%       28.000000  1.175505e+05         9.000000      0.000000   \n",
       "50%       37.000000  1.781445e+05        10.000000      0.000000   \n",
       "75%       48.000000  2.376420e+05        12.000000      0.000000   \n",
       "max       90.000000  1.490400e+06        16.000000  99999.000000   \n",
       "\n",
       "       capital-loss  hours-per-week  \n",
       "count  48842.000000    48842.000000  \n",
       "mean      87.502314       40.422382  \n",
       "std      403.004552       12.391444  \n",
       "min        0.000000        1.000000  \n",
       "25%        0.000000       40.000000  \n",
       "50%        0.000000       40.000000  \n",
       "75%        0.000000       45.000000  \n",
       "max     4356.000000       99.000000  "
      ]
     },
     "execution_count": 23,
     "metadata": {},
     "output_type": "execute_result"
    }
   ],
   "source": [
    "df.describe()"
   ]
  },
  {
   "cell_type": "markdown",
   "metadata": {
    "id": "o-4X8A6Cmuyx"
   },
   "source": [
    "La rangée mean (moyenne) est particulièrement intéressante. Notons également les rangées min et max qui peuvent permettre d'identifier rapidement la présence de données aberrantes. Maintenant, grâce à la méthode ```unique()```, regardons les différentes valeurs prises par des variables discrètes."
   ]
  },
  {
   "cell_type": "code",
   "execution_count": 24,
   "metadata": {
    "id": "_0sJiRnAmxEm"
   },
   "outputs": [
    {
     "name": "stdout",
     "output_type": "stream",
     "text": [
      "['Black' 'White' 'Asian-Pac-Islander' 'Other' 'Amer-Indian-Eskimo']\n",
      "['Private' 'Local-gov' '?' 'Self-emp-not-inc' 'Federal-gov' 'State-gov'\n",
      " 'Self-emp-inc' 'Without-pay' 'Never-worked']\n",
      "['11th' 'HS-grad' 'Assoc-acdm' 'Some-college' '10th' 'Prof-school'\n",
      " '7th-8th' 'Bachelors' 'Masters' 'Doctorate' '5th-6th' 'Assoc-voc' '9th'\n",
      " '12th' '1st-4th' 'Preschool']\n"
     ]
    }
   ],
   "source": [
    "print(df['race'].unique())\n",
    "print(df['workclass'].unique())\n",
    "print(df['education'].unique())"
   ]
  },
  {
   "cell_type": "markdown",
   "metadata": {
    "id": "U5JRURpxm4V7"
   },
   "source": [
    "Pandas nous permet également de sélectionner des données en donnant une condition. Par exemple, si nous voulons comparer le nombre moyen d'années d'éducation des hommes par rapport à celui des femmes, il suffit de faire:"
   ]
  },
  {
   "cell_type": "code",
   "execution_count": 25,
   "metadata": {
    "id": "rwLhc6I1m7VO"
   },
   "outputs": [
    {
     "name": "stdout",
     "output_type": "stream",
     "text": [
      "10.094977029096478\n",
      "10.044034090909092\n"
     ]
    }
   ],
   "source": [
    "print(df[df['gender'] == 'Male']['educational-num'].mean())\n",
    "print(df[df['gender'] == 'Female']['educational-num'].mean())"
   ]
  },
  {
   "cell_type": "markdown",
   "metadata": {
    "id": "OuYBfpfCnFYg"
   },
   "source": [
    "En fait, il existe une manière plus pratique de regarder des statistiques de groupes. La méthode ```groupby()``` permet d'obtenir des statistiques simples (moyenne, écart-type, minimum, maximum, etc) en groupant les données selon une certaine colonne. Donc, pour reprendre l'exemple précédent, nous aurions:"
   ]
  },
  {
   "cell_type": "code",
   "execution_count": 26,
   "metadata": {
    "id": "RrC4IcwmnIwU"
   },
   "outputs": [
    {
     "name": "stdout",
     "output_type": "stream",
     "text": [
      "gender\n",
      "Female    10.044034\n",
      "Male      10.094977\n",
      "Name: educational-num, dtype: float64\n"
     ]
    }
   ],
   "source": [
    "print(df.groupby(['gender'])['educational-num'].mean())"
   ]
  },
  {
   "cell_type": "markdown",
   "metadata": {
    "id": "cgu8Qn0snMMo"
   },
   "source": [
    "La fonction ```group_by``` est surtout pratique lorsqu'il y a un grand groupe présent:"
   ]
  },
  {
   "cell_type": "code",
   "execution_count": 27,
   "metadata": {
    "id": "MwBE8SWLnL4T"
   },
   "outputs": [
    {
     "name": "stdout",
     "output_type": "stream",
     "text": [
      "workclass\n",
      "?                   31.812433\n",
      "Federal-gov         41.513268\n",
      "Local-gov           40.847258\n",
      "Never-worked        28.900000\n",
      "Private             40.273137\n",
      "Self-emp-inc        48.570501\n",
      "Self-emp-not-inc    44.395132\n",
      "State-gov           39.090863\n",
      "Without-pay         33.952381\n",
      "Name: hours-per-week, dtype: float64\n"
     ]
    }
   ],
   "source": [
    "print(df.groupby(['workclass'])['hours-per-week'].mean())"
   ]
  },
  {
   "cell_type": "code",
   "execution_count": 28,
   "metadata": {
    "id": "_YoJQjJUnQsv"
   },
   "outputs": [
    {
     "name": "stdout",
     "output_type": "stream",
     "text": [
      "workclass\n",
      "?                    2799\n",
      "Federal-gov          1432\n",
      "Local-gov            3136\n",
      "Never-worked           10\n",
      "Private             33906\n",
      "Self-emp-inc         1695\n",
      "Self-emp-not-inc     3862\n",
      "State-gov            1981\n",
      "Without-pay            21\n",
      "Name: hours-per-week, dtype: int64\n"
     ]
    }
   ],
   "source": [
    "print(df.groupby(['workclass'])['hours-per-week'].count())"
   ]
  },
  {
   "cell_type": "code",
   "execution_count": 29,
   "metadata": {
    "id": "mFLC4dUunSm3"
   },
   "outputs": [
    {
     "name": "stdout",
     "output_type": "stream",
     "text": [
      "workclass\n",
      "?                    1\n",
      "Federal-gov          4\n",
      "Local-gov            2\n",
      "Never-worked         4\n",
      "Private              1\n",
      "Self-emp-inc         1\n",
      "Self-emp-not-inc     1\n",
      "State-gov            1\n",
      "Without-pay         10\n",
      "Name: hours-per-week, dtype: int64\n"
     ]
    }
   ],
   "source": [
    "print(df.groupby(['workclass'])['hours-per-week'].min())"
   ]
  },
  {
   "cell_type": "code",
   "execution_count": 30,
   "metadata": {
    "id": "DDObMETPnatX"
   },
   "outputs": [
    {
     "name": "stdout",
     "output_type": "stream",
     "text": [
      "workclass\n",
      "?                   99\n",
      "Federal-gov         99\n",
      "Local-gov           99\n",
      "Never-worked        40\n",
      "Private             99\n",
      "Self-emp-inc        99\n",
      "Self-emp-not-inc    99\n",
      "State-gov           99\n",
      "Without-pay         65\n",
      "Name: hours-per-week, dtype: int64\n"
     ]
    }
   ],
   "source": [
    "print(df.groupby(['workclass'])['hours-per-week'].max())"
   ]
  },
  {
   "cell_type": "markdown",
   "metadata": {
    "id": "GHw2hrV8ndox"
   },
   "source": [
    "Il est possible de grouper les données selon plusieurs colonnes. Par exemple, si nous voulons avoir la répartition des hommes et des femmes par rapport à la catégorie >50K et <=50K, il suffit de passer les deux colonnes en argument à ```groupby```:"
   ]
  },
  {
   "cell_type": "code",
   "execution_count": 31,
   "metadata": {
    "id": "kX0TfHQsnhou"
   },
   "outputs": [
    {
     "data": {
      "text/plain": [
       "gender  income\n",
       "Female  <=50K     14423\n",
       "        >50K       1769\n",
       "Male    <=50K     22732\n",
       "        >50K       9918\n",
       "Name: gender, dtype: int64"
      ]
     },
     "execution_count": 31,
     "metadata": {},
     "output_type": "execute_result"
    }
   ],
   "source": [
    "df.groupby(['gender', 'income'])['gender'].count()"
   ]
  },
  {
   "cell_type": "markdown",
   "metadata": {
    "id": "uR7DLGlYniO7"
   },
   "source": [
    "Pour regarder s'il y a une corrélation entre deux variables, il suffit d'utiliser la méthode ```corr()```."
   ]
  },
  {
   "cell_type": "code",
   "execution_count": 32,
   "metadata": {
    "id": "kBrODp-snkWk"
   },
   "outputs": [
    {
     "data": {
      "text/plain": [
       "0.030940375874513978"
      ]
     },
     "execution_count": 32,
     "metadata": {},
     "output_type": "execute_result"
    }
   ],
   "source": [
    "df['educational-num'].corr(df['age'])"
   ]
  },
  {
   "cell_type": "code",
   "execution_count": 33,
   "metadata": {
    "id": "p5b4FrVBnmUP"
   },
   "outputs": [
    {
     "data": {
      "text/plain": [
       "0.1436889093924791"
      ]
     },
     "execution_count": 33,
     "metadata": {},
     "output_type": "execute_result"
    }
   ],
   "source": [
    "df['educational-num'].corr(df['hours-per-week'])"
   ]
  },
  {
   "cell_type": "markdown",
   "metadata": {
    "id": "1gmPbrW-nzgm"
   },
   "source": [
    "De la même manière que nous avons sélectionné les hommes et les femmes, nous pouvons modifier ou supprimer des rangées ayant certaines valeurs. Par exemple, nous pourrions décider d'enlever les rangées dont l'occupation est ?."
   ]
  },
  {
   "cell_type": "code",
   "execution_count": 35,
   "metadata": {
    "id": "xA2q3U-6n1WO"
   },
   "outputs": [
    {
     "data": {
      "text/html": [
       "<div>\n",
       "<style scoped>\n",
       "    .dataframe tbody tr th:only-of-type {\n",
       "        vertical-align: middle;\n",
       "    }\n",
       "\n",
       "    .dataframe tbody tr th {\n",
       "        vertical-align: top;\n",
       "    }\n",
       "\n",
       "    .dataframe thead th {\n",
       "        text-align: right;\n",
       "    }\n",
       "</style>\n",
       "<table border=\"1\" class=\"dataframe\">\n",
       "  <thead>\n",
       "    <tr style=\"text-align: right;\">\n",
       "      <th></th>\n",
       "      <th>age</th>\n",
       "      <th>workclass</th>\n",
       "      <th>fnlwgt</th>\n",
       "      <th>education</th>\n",
       "      <th>educational-num</th>\n",
       "      <th>marital-status</th>\n",
       "      <th>occupation</th>\n",
       "      <th>relationship</th>\n",
       "      <th>race</th>\n",
       "      <th>gender</th>\n",
       "      <th>capital-gain</th>\n",
       "      <th>capital-loss</th>\n",
       "      <th>hours-per-week</th>\n",
       "      <th>native-country</th>\n",
       "      <th>income</th>\n",
       "    </tr>\n",
       "  </thead>\n",
       "  <tbody>\n",
       "    <tr>\n",
       "      <th>0</th>\n",
       "      <td>25</td>\n",
       "      <td>Private</td>\n",
       "      <td>226802</td>\n",
       "      <td>11th</td>\n",
       "      <td>7</td>\n",
       "      <td>Never-married</td>\n",
       "      <td>Machine-op-inspct</td>\n",
       "      <td>Own-child</td>\n",
       "      <td>Black</td>\n",
       "      <td>Male</td>\n",
       "      <td>0</td>\n",
       "      <td>0</td>\n",
       "      <td>40</td>\n",
       "      <td>United-States</td>\n",
       "      <td>&lt;=50K</td>\n",
       "    </tr>\n",
       "    <tr>\n",
       "      <th>1</th>\n",
       "      <td>38</td>\n",
       "      <td>Private</td>\n",
       "      <td>89814</td>\n",
       "      <td>HS-grad</td>\n",
       "      <td>9</td>\n",
       "      <td>Married-civ-spouse</td>\n",
       "      <td>Farming-fishing</td>\n",
       "      <td>Husband</td>\n",
       "      <td>White</td>\n",
       "      <td>Male</td>\n",
       "      <td>0</td>\n",
       "      <td>0</td>\n",
       "      <td>50</td>\n",
       "      <td>United-States</td>\n",
       "      <td>&lt;=50K</td>\n",
       "    </tr>\n",
       "    <tr>\n",
       "      <th>2</th>\n",
       "      <td>28</td>\n",
       "      <td>Local-gov</td>\n",
       "      <td>336951</td>\n",
       "      <td>Assoc-acdm</td>\n",
       "      <td>12</td>\n",
       "      <td>Married-civ-spouse</td>\n",
       "      <td>Protective-serv</td>\n",
       "      <td>Husband</td>\n",
       "      <td>White</td>\n",
       "      <td>Male</td>\n",
       "      <td>0</td>\n",
       "      <td>0</td>\n",
       "      <td>40</td>\n",
       "      <td>United-States</td>\n",
       "      <td>&gt;50K</td>\n",
       "    </tr>\n",
       "    <tr>\n",
       "      <th>3</th>\n",
       "      <td>44</td>\n",
       "      <td>Private</td>\n",
       "      <td>160323</td>\n",
       "      <td>Some-college</td>\n",
       "      <td>10</td>\n",
       "      <td>Married-civ-spouse</td>\n",
       "      <td>Machine-op-inspct</td>\n",
       "      <td>Husband</td>\n",
       "      <td>Black</td>\n",
       "      <td>Male</td>\n",
       "      <td>7688</td>\n",
       "      <td>0</td>\n",
       "      <td>40</td>\n",
       "      <td>United-States</td>\n",
       "      <td>&gt;50K</td>\n",
       "    </tr>\n",
       "    <tr>\n",
       "      <th>5</th>\n",
       "      <td>34</td>\n",
       "      <td>Private</td>\n",
       "      <td>198693</td>\n",
       "      <td>10th</td>\n",
       "      <td>6</td>\n",
       "      <td>Never-married</td>\n",
       "      <td>Other-service</td>\n",
       "      <td>Not-in-family</td>\n",
       "      <td>White</td>\n",
       "      <td>Male</td>\n",
       "      <td>0</td>\n",
       "      <td>0</td>\n",
       "      <td>30</td>\n",
       "      <td>United-States</td>\n",
       "      <td>&lt;=50K</td>\n",
       "    </tr>\n",
       "  </tbody>\n",
       "</table>\n",
       "</div>"
      ],
      "text/plain": [
       "   age  workclass  fnlwgt     education  educational-num      marital-status  \\\n",
       "0   25    Private  226802          11th                7       Never-married   \n",
       "1   38    Private   89814       HS-grad                9  Married-civ-spouse   \n",
       "2   28  Local-gov  336951    Assoc-acdm               12  Married-civ-spouse   \n",
       "3   44    Private  160323  Some-college               10  Married-civ-spouse   \n",
       "5   34    Private  198693          10th                6       Never-married   \n",
       "\n",
       "          occupation   relationship   race gender  capital-gain  capital-loss  \\\n",
       "0  Machine-op-inspct      Own-child  Black   Male             0             0   \n",
       "1    Farming-fishing        Husband  White   Male             0             0   \n",
       "2    Protective-serv        Husband  White   Male             0             0   \n",
       "3  Machine-op-inspct        Husband  Black   Male          7688             0   \n",
       "5      Other-service  Not-in-family  White   Male             0             0   \n",
       "\n",
       "   hours-per-week native-country income  \n",
       "0              40  United-States  <=50K  \n",
       "1              50  United-States  <=50K  \n",
       "2              40  United-States   >50K  \n",
       "3              40  United-States   >50K  \n",
       "5              30  United-States  <=50K  "
      ]
     },
     "execution_count": 35,
     "metadata": {},
     "output_type": "execute_result"
    }
   ],
   "source": [
    "df_modified = df[df['occupation'] != '?']\n",
    "df_modified.head()"
   ]
  },
  {
   "cell_type": "markdown",
   "metadata": {
    "id": "GHi8vTGqn8fi"
   },
   "source": [
    "Pour terminer, il est possible de sauvegarder le dataframe en utilisant la méthode ```to_csv()``` (en général, ```to_``` suivi du format de fichier souhaité)."
   ]
  },
  {
   "cell_type": "code",
   "execution_count": 36,
   "metadata": {
    "id": "6PbM_zX0n_KF"
   },
   "outputs": [],
   "source": [
    "df_modified.to_csv('adult_modified.csv')"
   ]
  },
  {
   "cell_type": "markdown",
   "metadata": {
    "id": "HRH2NQKLoEfz"
   },
   "source": [
    "Nous ne pouvons malheureusement pas couvrir toutes les fonctionnalités de pandas... Mais pour en nommer seulement deux autres importantes: ```apply()``` et ```merge()```. La méthode ```apply()``` permet d'appliquer une fonction qu'on lui donne en argument sur l'ensemble des rangées. La très utile fonction ```merge()``` permet de joindre des tables à la manière du ```JOIN``` de ```SQL```."
   ]
  },
  {
   "cell_type": "markdown",
   "metadata": {},
   "source": [
    "<hr>"
   ]
  }
 ],
 "metadata": {
  "colab": {
   "name": "FP2.ipynb",
   "provenance": []
  },
  "kernelspec": {
   "display_name": "Python 3",
   "language": "python",
   "name": "python3"
  },
  "language_info": {
   "codemirror_mode": {
    "name": "ipython",
    "version": 3
   },
   "file_extension": ".py",
   "mimetype": "text/x-python",
   "name": "python",
   "nbconvert_exporter": "python",
   "pygments_lexer": "ipython3",
   "version": "3.8.10"
  }
 },
 "nbformat": 4,
 "nbformat_minor": 4
}
