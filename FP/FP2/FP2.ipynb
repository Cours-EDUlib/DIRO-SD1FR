{
  "nbformat": 4,
  "nbformat_minor": 0,
  "metadata": {
    "colab": {
      "name": "FP2.ipynb",
      "provenance": []
    },
    "kernelspec": {
      "name": "python3",
      "display_name": "Python 3"
    }
  },
  "cells": [
    {
      "cell_type": "markdown",
      "metadata": {
        "id": "5W1bkjspewTG"
      },
      "source": [
        "# Formation Pratique 2 : Visualisation de données \n",
        "\n",
        "**Cette formation pratique est optionnelle : si vous maitrisez déjà les outils matplotlib et pandas, vous pouvez en ignorer le contenu**\n",
        "\n",
        "Le but de cette formation pratique est d'introduire des outils indispensable pour la visualisation de données, qui seront utilisés tout au long de ce cours. En particulier, nous allons voir deux outils : matplotlib pour la visualisation de données en deux dimensions, et pandas pour la visualisation de données tabulaires."
      ]
    },
    {
      "cell_type": "markdown",
      "metadata": {
        "id": "kS3mBanGfbbi"
      },
      "source": [
        "## 2.1 Matplotlib\n",
        "\n",
        "Matplotlib est une librairie permettant de tracer des courbes representant des données en deux ou trois dimensions. Le nombre de méthodes disponibles et leurs paramètres est extrêmement grand, c'est pourquoi nous n'en présenterons ici que les principaux. \n",
        "\n",
        "Pour approfondir, se référer à [la documentation](https://matplotlib.org/stable/contents.html)\n",
        "\n",
        "Commençons par importer la librairie, ainsi que numpy"
      ]
    },
    {
      "cell_type": "code",
      "metadata": {
        "id": "0fhVJVDYeazz"
      },
      "source": [
        "import matplotlib.pyplot as plt\n",
        "import numpy as np"
      ],
      "execution_count": 4,
      "outputs": []
    },
    {
      "cell_type": "markdown",
      "metadata": {
        "id": "SIWl0iQ-f8zh"
      },
      "source": [
        "à présent, nous allons simplement chercher à tracer la courbe $y=cos(x)$ pour x compris entre $0$ et $5$. \n",
        "\n",
        "Pour cela, nous allons commencer par générer un ensemble de points x, réguliérement espacés par interval 0.1 entre 0 et 5 (soit 50 points au total):"
      ]
    },
    {
      "cell_type": "code",
      "metadata": {
        "colab": {
          "base_uri": "https://localhost:8080/"
        },
        "id": "f0VNKRAJgTtN",
        "outputId": "d27b7ec0-e640-45d2-a790-fdbfee051d9d"
      },
      "source": [
        "x = np.arange(0, 5, 0.1)\n",
        "print(x)\n",
        "print(len(x))"
      ],
      "execution_count": 7,
      "outputs": [
        {
          "output_type": "stream",
          "text": [
            "[0.  0.1 0.2 0.3 0.4 0.5 0.6 0.7 0.8 0.9 1.  1.1 1.2 1.3 1.4 1.5 1.6 1.7\n",
            " 1.8 1.9 2.  2.1 2.2 2.3 2.4 2.5 2.6 2.7 2.8 2.9 3.  3.1 3.2 3.3 3.4 3.5\n",
            " 3.6 3.7 3.8 3.9 4.  4.1 4.2 4.3 4.4 4.5 4.6 4.7 4.8 4.9]\n",
            "50\n"
          ],
          "name": "stdout"
        }
      ]
    },
    {
      "cell_type": "markdown",
      "metadata": {
        "id": "FhsxjDHDgrSu"
      },
      "source": [
        "On calcule à présent, grace à numpy, le cosinus de chaque valeur de $x$, et on le stock dans une liste $y$."
      ]
    },
    {
      "cell_type": "code",
      "metadata": {
        "colab": {
          "base_uri": "https://localhost:8080/"
        },
        "id": "DI3IHMAbgxp3",
        "outputId": "2651e8c3-f4c9-4501-b001-f88fb9187fdc"
      },
      "source": [
        "y = np.cos(x)\n",
        "print(y)"
      ],
      "execution_count": 8,
      "outputs": [
        {
          "output_type": "stream",
          "text": [
            "[ 1.          0.99500417  0.98006658  0.95533649  0.92106099  0.87758256\n",
            "  0.82533561  0.76484219  0.69670671  0.62160997  0.54030231  0.45359612\n",
            "  0.36235775  0.26749883  0.16996714  0.0707372  -0.02919952 -0.12884449\n",
            " -0.22720209 -0.32328957 -0.41614684 -0.5048461  -0.58850112 -0.66627602\n",
            " -0.73739372 -0.80114362 -0.85688875 -0.90407214 -0.94222234 -0.97095817\n",
            " -0.9899925  -0.99913515 -0.99829478 -0.98747977 -0.96679819 -0.93645669\n",
            " -0.89675842 -0.84810003 -0.79096771 -0.7259323  -0.65364362 -0.57482395\n",
            " -0.49026082 -0.40079917 -0.30733287 -0.2107958  -0.11215253 -0.01238866\n",
            "  0.08749898  0.18651237]\n"
          ],
          "name": "stdout"
        }
      ]
    },
    {
      "cell_type": "markdown",
      "metadata": {
        "id": "fqpnBVA5g3Tc"
      },
      "source": [
        "Nous pouvons maintenant directement tracer $y=cos(x)$ en se servant de ces valeurs, grace a matplotlib !"
      ]
    },
    {
      "cell_type": "code",
      "metadata": {
        "colab": {
          "base_uri": "https://localhost:8080/",
          "height": 282
        },
        "id": "BSqJ6ur-g_Ri",
        "outputId": "989b0bdf-e7bc-4d46-f916-e3e2e86cd266"
      },
      "source": [
        "plt.plot(x, y)"
      ],
      "execution_count": 9,
      "outputs": [
        {
          "output_type": "execute_result",
          "data": {
            "text/plain": [
              "[<matplotlib.lines.Line2D at 0x7f42de396c50>]"
            ]
          },
          "metadata": {
            "tags": []
          },
          "execution_count": 9
        },
        {
          "output_type": "display_data",
          "data": {
            "image/png": "[encoded data removed]",
            "text/plain": [
              "<Figure size 432x288 with 1 Axes>"
            ]
          },
          "metadata": {
            "tags": [],
            "needs_background": "light"
          }
        }
      ]
    },
    {
      "cell_type": "markdown",
      "metadata": {
        "id": "VQj612fphCuz"
      },
      "source": [
        "C'est aussi simple que ça. Nous pouvons maintenant ajouter la courbe $y=sin(x)$ en plus de la courbe précédente : "
      ]
    },
    {
      "cell_type": "code",
      "metadata": {
        "colab": {
          "base_uri": "https://localhost:8080/",
          "height": 282
        },
        "id": "MZR0ZmxehOpZ",
        "outputId": "167ebab7-4739-4b2f-8542-60650005b755"
      },
      "source": [
        "y2 = np.sin(x)\n",
        "plt.plot(x,y)\n",
        "plt.plot(x,y2)"
      ],
      "execution_count": 11,
      "outputs": [
        {
          "output_type": "execute_result",
          "data": {
            "text/plain": [
              "[<matplotlib.lines.Line2D at 0x7f42dd9c6d50>]"
            ]
          },
          "metadata": {
            "tags": []
          },
          "execution_count": 11
        },
        {
          "output_type": "display_data",
          "data": {
            "image/png": "[encoded data removed]",
            "text/plain": [
              "<Figure size 432x288 with 1 Axes>"
            ]
          },
          "metadata": {
            "tags": [],
            "needs_background": "light"
          }
        }
      ]
    },
    {
      "cell_type": "markdown",
      "metadata": {
        "id": "wv4QLwDphY-k"
      },
      "source": [
        "Notez que notre courbe est depourvue de légende. Matplotlib est pourvu d'un grand nombre d'outils pour personaliser la figure produite :"
      ]
    },
    {
      "cell_type": "code",
      "metadata": {
        "colab": {
          "base_uri": "https://localhost:8080/",
          "height": 312
        },
        "id": "sV0fgkHthgSi",
        "outputId": "391ddd3c-243b-481a-a48a-21f30a5c587d"
      },
      "source": [
        "plt.plot(x,y)\n",
        "plt.plot(x,y2)\n",
        "plt.xlabel('x')\n",
        "plt.ylabel('cosinus et sinus')\n",
        "plt.title('cosinus et sinus entre 0 et 5')\n",
        "plt.legend(['cosinus', 'sinus'])"
      ],
      "execution_count": 12,
      "outputs": [
        {
          "output_type": "execute_result",
          "data": {
            "text/plain": [
              "<matplotlib.legend.Legend at 0x7f42dd987250>"
            ]
          },
          "metadata": {
            "tags": []
          },
          "execution_count": 12
        },
        {
          "output_type": "display_data",
          "data": {
            "image/png": "[encoded data removed]",
            "text/plain": [
              "<Figure size 432x288 with 1 Axes>"
            ]
          },
          "metadata": {
            "tags": [],
            "needs_background": "light"
          }
        }
      ]
    },
    {
      "cell_type": "markdown",
      "metadata": {
        "id": "Yj5eRMMKh8Rv"
      },
      "source": [
        "Si à la place de tracer une courbe en reliant chaque point au précédent, on souhaite simplement tracer les points individuellements, on peut utiliser la méthode ```scatter```:"
      ]
    },
    {
      "cell_type": "code",
      "metadata": {
        "colab": {
          "base_uri": "https://localhost:8080/",
          "height": 282
        },
        "id": "1Z04m-Z3h5b9",
        "outputId": "2fad54ff-bc14-4bd6-cc41-fb9ba475a437"
      },
      "source": [
        "plt.scatter(x,y)"
      ],
      "execution_count": 13,
      "outputs": [
        {
          "output_type": "execute_result",
          "data": {
            "text/plain": [
              "<matplotlib.collections.PathCollection at 0x7f42dd9320d0>"
            ]
          },
          "metadata": {
            "tags": []
          },
          "execution_count": 13
        },
        {
          "output_type": "display_data",
          "data": {
            "image/png": "[encoded data removed]",
            "text/plain": [
              "<Figure size 432x288 with 1 Axes>"
            ]
          },
          "metadata": {
            "tags": [],
            "needs_background": "light"
          }
        }
      ]
    },
    {
      "cell_type": "markdown",
      "metadata": {
        "id": "bD82gHGlincv"
      },
      "source": [
        "Mettons maintenant qu'on veut représenter des courbes sur des figures différentes (par exemple parce que l'on s'intéresse à des abcisse différentes). La méthode subplot permets exactement de faire cela :"
      ]
    },
    {
      "cell_type": "code",
      "metadata": {
        "colab": {
          "base_uri": "https://localhost:8080/",
          "height": 282
        },
        "id": "a6az-_HMixMo",
        "outputId": "e69bae82-9156-4421-f948-27268c8141c7"
      },
      "source": [
        "plt.subplot(2, 2, 1) # sépare la figure en 2 colonnes et deux lignes, et se concentre sur la sous-figure d'indice 1 en haut à gauche\n",
        "plt.plot(x, y)\n",
        "plt.subplot(2, 2, 2) # se concentre sur la sous-figure d'indice 2, en haut à droite\n",
        "plt.plot(x, y, c='r') # trace la courbe en couleur 'r' = red\n",
        "plt.subplot(2, 2, 3) # se concentre sur la sous-figure d'indice 3, en bas à gauche\n",
        "plt.plot(x, y2)\n",
        "plt.subplot(2, 2, 4) # se concentre sur la sous-figure d'indice 4, en bas à droite\n",
        "plt.plot(x, y2, c='r') # trace la courbe en couleur 'r' = red\n"
      ],
      "execution_count": 28,
      "outputs": [
        {
          "output_type": "execute_result",
          "data": {
            "text/plain": [
              "[<matplotlib.lines.Line2D at 0x7f42dcc74bd0>]"
            ]
          },
          "metadata": {
            "tags": []
          },
          "execution_count": 28
        },
        {
          "output_type": "display_data",
          "data": {
            "image/png": "[encoded data removed]",
            "text/plain": [
              "<Figure size 432x288 with 4 Axes>"
            ]
          },
          "metadata": {
            "tags": [],
            "needs_background": "light"
          }
        }
      ]
    },
    {
      "cell_type": "markdown",
      "metadata": {
        "id": "lOVy7TeCkZv6"
      },
      "source": [
        "Notez comme on a changé la couleur avec l'argument optionel ```c=```"
      ]
    },
    {
      "cell_type": "markdown",
      "metadata": {
        "id": "SV1awMe_kf0p"
      },
      "source": [
        "Enfin, pour terminer ce bref tour des principaux outils de matplotlib, voyons la méthode ```hist```, qui permets de créer un histogramme:"
      ]
    },
    {
      "cell_type": "code",
      "metadata": {
        "colab": {
          "base_uri": "https://localhost:8080/",
          "height": 316
        },
        "id": "ElK2VtLckffp",
        "outputId": "331b3eed-846e-4f86-9ab4-90e8ff3f2f62"
      },
      "source": [
        "y = [0, 5, 2, 4, 11, 3, 5, 4, 4, 4, 2, 4, 11]\n",
        "plt.hist(y)"
      ],
      "execution_count": 30,
      "outputs": [
        {
          "output_type": "execute_result",
          "data": {
            "text/plain": [
              "(array([1., 2., 1., 5., 2., 0., 0., 0., 0., 2.]),\n",
              " array([ 0. ,  1.1,  2.2,  3.3,  4.4,  5.5,  6.6,  7.7,  8.8,  9.9, 11. ]),\n",
              " <a list of 10 Patch objects>)"
            ]
          },
          "metadata": {
            "tags": []
          },
          "execution_count": 30
        },
        {
          "output_type": "display_data",
          "data": {
            "image/png": "[encoded data removed]",
            "text/plain": [
              "<Figure size 432x288 with 1 Axes>"
            ]
          },
          "metadata": {
            "tags": [],
            "needs_background": "light"
          }
        }
      ]
    },
    {
      "cell_type": "markdown",
      "metadata": {
        "id": "PQPQNa1Bk1qz"
      },
      "source": [
        "```hist``` va parcourir la liste y et compter le nombre de chaque élements, avant de représenter le compte sous forme d'un histogramme. Notez que la méthode renvoie aussi la liste des limite entre les interval sur lesquels les élements sont groupés, ainsi que la liste d'élements comptés par interval. La méthode dispose de nombreuses options pour personaliser les intervaux et l'apparence de l'histogramme. Pour en savoir plus, se référer à la documentation."
      ]
    },
    {
      "cell_type": "markdown",
      "metadata": {
        "id": "PoSGFPvYlcYb"
      },
      "source": [
        "## 2.2 Pandas\n",
        "\n",
        "La librairie pandas (de \"panel data\") permet de manipuler des données sous forme de tableau (dataframe). Pandas offre plusieurs fonctionnalités semblables à celle du langage R. Il permet, entre autre, de remplacer des valeurs manquantes, de joindre des tables, de produire des statistiques descriptives, etc.\n",
        "\n",
        "Pour en illustrer les capacités, nous allons nous servir du jeu de données Adult, qui provient de http://mlr.cs.umass.edu/ml/datasets/Adult. Basé sur des données de recensement, il faut prédire si un individu gagne plus de 50000$ ou non. En tout, il y a près de 32000 individus ayant 14 caractéristiques dont l'âge, le sexe, le pays d'origine, etc. Donc, certaines variables sont continues (ex. l'âge) et d'autres sont discrètes et parfois non ordinales (ex. le pays d'origine). De plus, il y a certaines valeurs qui sont manquantes.\n",
        "\n",
        "Importons la librairie pandas"
      ]
    },
    {
      "cell_type": "code",
      "metadata": {
        "id": "Nbt4KXkamBay"
      },
      "source": [
        "import pandas as pd"
      ],
      "execution_count": null,
      "outputs": []
    },
    {
      "cell_type": "markdown",
      "metadata": {
        "id": "mvmJYpk5mSus"
      },
      "source": [
        "à présent, télechargeons le jeu de données Adult à partir du github du cours :"
      ]
    },
    {
      "cell_type": "code",
      "metadata": {
        "id": "8RsZ96jnmX0_"
      },
      "source": [
        "!wget -nc https://raw.githubusercontent.com/Cours-EDUlib/DIRO-SD1FR/master/FP/FP2/adult.csv"
      ],
      "execution_count": null,
      "outputs": []
    },
    {
      "cell_type": "markdown",
      "metadata": {
        "id": "RXQJLL8AmGdv"
      },
      "source": [
        "La méthode read_csv lit pour nous le fichier csv et le met sous le format dataframe. Si jamais vous avez de la difficulté à ouvrir un fichier, regardez la documentation de ```read_csv``` ainsi que les autres méthodes permettant d'ouvrir des fichiers (ex. ```read_sql```, ```read_excel```). Il est entre autres possible de changer les caractères utilisés pour délimiter les champs (paramètre sep) et d'utiliser un fichier sans entête (header)."
      ]
    },
    {
      "cell_type": "code",
      "metadata": {
        "id": "rMBNlWmDmf4g"
      },
      "source": [
        "df = pd.read_csv(\"adult.csv\")"
      ],
      "execution_count": null,
      "outputs": []
    },
    {
      "cell_type": "markdown",
      "metadata": {
        "id": "ObF3BFU6mjTT"
      },
      "source": [
        "Utilisons une méthode des dataframes qui est très utile: ```head()``` qui permet d'afficher l'entête et les 5 premières rangées du dataframe."
      ]
    },
    {
      "cell_type": "code",
      "metadata": {
        "id": "M_ZlGYQYmj3b"
      },
      "source": [
        "df.head()"
      ],
      "execution_count": null,
      "outputs": []
    },
    {
      "cell_type": "markdown",
      "metadata": {
        "id": "4Ik5x63dmnuu"
      },
      "source": [
        "Déjà, nous pouvons voir le format des données et constater que certaines cases sont marquées d'un point d'interrogration. Pour avoir une vision globale un peu plus précise, utilisons la méthode ```describe()``` qui donne quelques statistiques descriptives sur les variables continues."
      ]
    },
    {
      "cell_type": "code",
      "metadata": {
        "id": "vclEuaWqmonW"
      },
      "source": [
        "df.describe()"
      ],
      "execution_count": null,
      "outputs": []
    },
    {
      "cell_type": "markdown",
      "metadata": {
        "id": "o-4X8A6Cmuyx"
      },
      "source": [
        "La rangée mean est particulièrement intéressante. Notons également les rangées min et max qui peuvent permettre d'identifier rapidement la présence de données aberrantes. Maintenant, grâce à la méthode ```unique()```, regardons les différentes valeurs prises par des variables discrètes."
      ]
    },
    {
      "cell_type": "code",
      "metadata": {
        "id": "_0sJiRnAmxEm"
      },
      "source": [
        "print(df['race'].unique())\n",
        "print(df['workclass'].unique())\n",
        "print(df['education'].unique())"
      ],
      "execution_count": null,
      "outputs": []
    },
    {
      "cell_type": "markdown",
      "metadata": {
        "id": "U5JRURpxm4V7"
      },
      "source": [
        "Pandas nous permet également de sélectionner des données en donnant une condition. Par exemple, si nous voulons comparer le nombre moyen d'années d'éducation des hommes par rapport à celui des femmes, il suffit de faire:"
      ]
    },
    {
      "cell_type": "code",
      "metadata": {
        "id": "rwLhc6I1m7VO"
      },
      "source": [
        "print(df[df['gender'] == 'Male']['educational-num'].mean())\n",
        "print(df[df['gender'] == 'Female']['educational-num'].mean())"
      ],
      "execution_count": null,
      "outputs": []
    },
    {
      "cell_type": "markdown",
      "metadata": {
        "id": "OuYBfpfCnFYg"
      },
      "source": [
        "En fait, il existe une manière plus pratique de regarder des statistiques de groupes. La méthode ```groupby()``` permet d'obtenir des statistiques simples (moyenne, écart-type, minimum, maximum, etc) en groupant les données selon une certaine colonne. Donc, pour reprendre l'exemple précédent, nous aurions:"
      ]
    },
    {
      "cell_type": "code",
      "metadata": {
        "id": "RrC4IcwmnIwU"
      },
      "source": [
        "print(df.groupby(['gender'])['educational-num'].mean())"
      ],
      "execution_count": null,
      "outputs": []
    },
    {
      "cell_type": "markdown",
      "metadata": {
        "id": "cgu8Qn0snMMo"
      },
      "source": [
        "La fonction ```group_by``` est surtout pratique lorsqu'il y a un grand groupes présents:"
      ]
    },
    {
      "cell_type": "code",
      "metadata": {
        "id": "MwBE8SWLnL4T"
      },
      "source": [
        "print(df.groupby(['workclass'])['hours-per-week'].mean())"
      ],
      "execution_count": null,
      "outputs": []
    },
    {
      "cell_type": "code",
      "metadata": {
        "id": "_YoJQjJUnQsv"
      },
      "source": [
        "print(df.groupby(['workclass'])['hours-per-week'].count())"
      ],
      "execution_count": null,
      "outputs": []
    },
    {
      "cell_type": "code",
      "metadata": {
        "id": "mFLC4dUunSm3"
      },
      "source": [
        "print(df.groupby(['workclass'])['hours-per-week'].min())"
      ],
      "execution_count": null,
      "outputs": []
    },
    {
      "cell_type": "code",
      "metadata": {
        "id": "DDObMETPnatX"
      },
      "source": [
        "print(df.groupby(['workclass'])['hours-per-week'].max())"
      ],
      "execution_count": null,
      "outputs": []
    },
    {
      "cell_type": "markdown",
      "metadata": {
        "id": "GHw2hrV8ndox"
      },
      "source": [
        "Il est possible de grouper les données selon plusieurs colonnes. Par exemple, si nous voulons avoir la répartition des hommes et des femmes par rapport à la catégorie >50K et <=50K, il suffit de passer les deux colonnes en argument à ```groupby```:"
      ]
    },
    {
      "cell_type": "code",
      "metadata": {
        "id": "kX0TfHQsnhou"
      },
      "source": [
        "df.groupby(['gender', 'income'])['gender'].count()"
      ],
      "execution_count": null,
      "outputs": []
    },
    {
      "cell_type": "markdown",
      "metadata": {
        "id": "uR7DLGlYniO7"
      },
      "source": [
        "Pour regarder s'il y a une corrélation entre deux variables, il suffit d'utiliser la méthode ```corr()```."
      ]
    },
    {
      "cell_type": "code",
      "metadata": {
        "id": "kBrODp-snkWk"
      },
      "source": [
        "df['educational-num'].corr(df['age'])"
      ],
      "execution_count": null,
      "outputs": []
    },
    {
      "cell_type": "code",
      "metadata": {
        "id": "p5b4FrVBnmUP"
      },
      "source": [
        "df['educational-num'].corr(df['hours-per-week'])"
      ],
      "execution_count": null,
      "outputs": []
    },
    {
      "cell_type": "markdown",
      "metadata": {
        "id": "X2DoIYWNnsaS"
      },
      "source": [
        "Il est également possible d'afficher la distribution de variables en utilisant matplotlib. Ici, par exemple, on utilise hist afin d'afficher un histogramme du nombre d'heures de travail par semaine."
      ]
    },
    {
      "cell_type": "code",
      "metadata": {
        "id": "AJM0fmKHnv12"
      },
      "source": [
        "plt.hist(df['hours-per-week'])"
      ],
      "execution_count": null,
      "outputs": []
    },
    {
      "cell_type": "markdown",
      "metadata": {
        "id": "1gmPbrW-nzgm"
      },
      "source": [
        "De la même manière que nous avons sélectionné les hommes et les femmes, nous pouvons modifier ou supprimer des rangées ayant certaines valeurs. Par exemple, nous pourrions décider d'enlever les rangées dont l'occupation est ?."
      ]
    },
    {
      "cell_type": "code",
      "metadata": {
        "id": "xA2q3U-6n1WO"
      },
      "source": [
        "df_modified = df[df['occupation'] != '?']\n",
        "df_modified.head()"
      ],
      "execution_count": null,
      "outputs": []
    },
    {
      "cell_type": "markdown",
      "metadata": {
        "id": "GHi8vTGqn8fi"
      },
      "source": [
        "Pour terminer, il est possible de sauvegarder le dataframe en utilisant la méthode ```to_csv()``` (en général, ```to_``` suivi du format de fichier souhaité)."
      ]
    },
    {
      "cell_type": "code",
      "metadata": {
        "id": "6PbM_zX0n_KF"
      },
      "source": [
        "df_modified.to_csv('adult_modified.csv')"
      ],
      "execution_count": null,
      "outputs": []
    },
    {
      "cell_type": "markdown",
      "metadata": {
        "id": "HRH2NQKLoEfz"
      },
      "source": [
        "Nous ne pouvons malheureusement pas tout couvrir les fonctionnalités de pandas... Mais pour en nommer seulement deux autres importantes: ```apply()``` et ```merge()```. La méthode ```apply()``` permet d'appliquer une fonction qu'on lui donne en argument sur l'ensemble des rangées. La très utile fonction ```merge()``` permet de joindre des tables à la manière du JOIN de SQL."
      ]
    }
  ]
}