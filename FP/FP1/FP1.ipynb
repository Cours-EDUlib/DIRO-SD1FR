{
 "cells": [
  {
   "cell_type": "markdown",
   "metadata": {
    "id": "nuqtjBTC0mgs"
   },
   "source": [
    "# Formation Pratique 1 : Introduction à la syntaxe en Python\n",
    "\n",
    "**Cette formation pratique est optionnelle : si vous maitrisez déjà les bases en Python, vous pouvez en ignorer le contenu.**\n",
    "\n",
    "Le but de cette formation pratique est d'introduire la syntaxe en Python afin de simplifier la compréhension des contenus qui vont suivre. Notez cependant qu'il ne s'agit PAS d'un cours de python, et cette introduction ne sera donc que superficielle. Pour du contenu plus approfondi sur python en particulier, nous vous recommandons les ressources suivantes :\n",
    "- [Documentation officielle](https://docs.python.org/fr/3/tutorial/)\n",
    "- [Google Tutorial](https://developers.google.com/edu/python/)\n",
    "\n",
    "Tout le contenu suivant s'applique à Python version 3.X, puisque les versions 2.X ne sont officiellement plus maintenues par Python depuis le 1er janvier 2020."
   ]
  },
  {
   "cell_type": "markdown",
   "metadata": {
    "id": "iD5vyikf3jhk"
   },
   "source": [
    "# 1. Variables\n",
    "\n",
    "Les variables en python sont définies à partir du symbole \"=\" qui assigne une valeur à un nom. Dans l'exemple suivant, nous définissons les variables x1, x2, y, z, x ou chacune d'elle ayant un type différent."
   ]
  },
  {
   "cell_type": "code",
   "execution_count": 1,
   "metadata": {
    "id": "OEzNUeD432Ge"
   },
   "outputs": [],
   "source": [
    "x1 = 5              # x1 est un int (entier)\n",
    "x2 = 5.             # x2 est un float\n",
    "y = 'hello world'   # y est un string (chaîne de caractères)\n",
    "z = [1,2,3]         # z est une liste\n",
    "w = {'age': 20}     # w est un dictionnaire"
   ]
  },
  {
   "cell_type": "markdown",
   "metadata": {
    "id": "d8EZ7CiN4c6g"
   },
   "source": [
    "Nous verrons plus tard les différents types introduits à l'instant. Notez que le texte après un '#' est ignoré par python, il s'agit d'un commentaire.\n",
    "\n",
    "La fonction print() permet \"d'imprimer\" le contenu d'un objet python. Nous pouvons accéder aux variables introduites précédemment simplement en utilisant leur nom. Par exemple, la ligne de code suivante va afficher le contenu de la variable z :\n"
   ]
  },
  {
   "cell_type": "code",
   "execution_count": 2,
   "metadata": {
    "colab": {
     "base_uri": "https://localhost:8080/"
    },
    "id": "04becesl5ADm",
    "outputId": "2068f98f-e118-4dfd-a0ee-538ba1283fc9"
   },
   "outputs": [
    {
     "name": "stdout",
     "output_type": "stream",
     "text": [
      "[1, 2, 3]\n"
     ]
    }
   ],
   "source": [
    "print(z)"
   ]
  },
  {
   "cell_type": "markdown",
   "metadata": {
    "id": "042Wn1mTDBxb"
   },
   "source": [
    "# 2. Types de données et opérations de base\n",
    "\n",
    "Voyons maintenant les principaux types de données en python et comment les manipuler"
   ]
  },
  {
   "cell_type": "markdown",
   "metadata": {
    "id": "x09ZW_zkDMNi"
   },
   "source": [
    "## 2.1. int et float\n",
    "\n",
    "```int``` et ```float``` correspondent respectivement aux entiers et aux réels continus.\n",
    "Si une opération implique un ```int``` et un ```float```, le ```int``` sera automatiquement converti en ```float```, et le résultat sera du type ```float```. Voyons quelques opérations de base:"
   ]
  },
  {
   "cell_type": "code",
   "execution_count": 3,
   "metadata": {
    "colab": {
     "base_uri": "https://localhost:8080/"
    },
    "id": "mbLrCiaZDnSY",
    "outputId": "3df72d79-99cc-4712-dca3-b3f7ab989500"
   },
   "outputs": [
    {
     "name": "stdout",
     "output_type": "stream",
     "text": [
      "5.0\n",
      "1.0\n",
      "10.8\n",
      "2.0\n",
      "64.0\n"
     ]
    }
   ],
   "source": [
    "x = 4.\n",
    "print(x + 1)   # Addition\n",
    "print(x - 3) # Soustraction\n",
    "print(x * 2.7) # Multiplication\n",
    "print(x / 2) # Division\n",
    "print(x ** 3)  # Puissance"
   ]
  },
  {
   "cell_type": "markdown",
   "metadata": {
    "id": "aSE5pHv3D_n4"
   },
   "source": [
    "La valeur d'une variable ```int``` ou ```float``` peut-être, mise à jour de manière incrémentale avec les opérations suivantes:"
   ]
  },
  {
   "cell_type": "code",
   "execution_count": 4,
   "metadata": {
    "colab": {
     "base_uri": "https://localhost:8080/"
    },
    "id": "auQmVMwfEGtz",
    "outputId": "9dc401b2-b8f2-4161-cce1-e82bb96cdaeb"
   },
   "outputs": [
    {
     "name": "stdout",
     "output_type": "stream",
     "text": [
      "3\n",
      "5\n",
      "-2\n",
      "2\n"
     ]
    }
   ],
   "source": [
    "x = 3\n",
    "print(x)\n",
    "x += 2 # augmente x de 2\n",
    "print(x)\n",
    "x -= 7 # réduit x de 7\n",
    "print(x)\n",
    "x *= -1 # multiplie x par -1\n",
    "print(x)"
   ]
  },
  {
   "cell_type": "markdown",
   "metadata": {
    "id": "7ctwrHyREa6Q"
   },
   "source": [
    "## 2.2. Strings et list\n",
    "\n",
    "Bien que ce soit deux types de données différents, cette section traite simultanément des chaînes de caractères et des listes, car nous allons voir qu'elles partagent de nombreux points communs. Une liste est une séquence d'objets python, pouvant avoir des types différents. Une chaîne de caractère est une phrase, interprétée comme une liste de caractères alphabétiques. Définissons notre première chaîne de caractères et notre première liste:\n"
   ]
  },
  {
   "cell_type": "code",
   "execution_count": 5,
   "metadata": {
    "id": "lFNDvwoUFb4F"
   },
   "outputs": [],
   "source": [
    "myString = 'a8un7.3'\n",
    "myList = ['a', 8, 'un', 7.3, 8, 'a', 'b']"
   ]
  },
  {
   "cell_type": "markdown",
   "metadata": {
    "id": "7JUGMHPOFtfl"
   },
   "source": [
    "Les listes sont définies entre crochets et les éléments sont séparés par des virgules, alors que les strings sont définis entre ```'``` ou entre ```\"```. La plupart des types de données en python peuvent être convertis en string en utilisant la fonction ```str()```"
   ]
  },
  {
   "cell_type": "code",
   "execution_count": 6,
   "metadata": {
    "id": "mTB6vW7_F1rz"
   },
   "outputs": [],
   "source": [
    "a = 8  # a est du type int\n",
    "b = str(a) # équivalent à b = '8'\n",
    "a = [2.3, 4] # a est du type list\n",
    "b = str(a) # équivalent à b = '[2.3, 4]'"
   ]
  },
  {
   "cell_type": "markdown",
   "metadata": {
    "id": "Bo4YL8xbGpi5"
   },
   "source": [
    "Voyons quelques opérations de base sur les string et les lists :"
   ]
  },
  {
   "cell_type": "code",
   "execution_count": 7,
   "metadata": {
    "colab": {
     "base_uri": "https://localhost:8080/"
    },
    "id": "jOCHTRE9Gt-F",
    "outputId": "6ee94079-3cf2-4117-e6da-a63270406431"
   },
   "outputs": [
    {
     "name": "stdout",
     "output_type": "stream",
     "text": [
      "a8un7.3HelloWorld\n",
      "7\n"
     ]
    }
   ],
   "source": [
    "print(myString + 'HelloWorld') # concatène deux strings\n",
    "print(len(myString))      # calcule la longueur du string"
   ]
  },
  {
   "cell_type": "code",
   "execution_count": 8,
   "metadata": {},
   "outputs": [
    {
     "name": "stdout",
     "output_type": "stream",
     "text": [
      "['a', 8, 'un', 7.3, 8, 'a', 'b', 2, 3, 4]\n",
      "7\n"
     ]
    }
   ],
   "source": [
    "print(myList + [2, 3, 4])      # concatène deux lists\n",
    "print(len(myList))        # calcule la longueur de la liste"
   ]
  },
  {
   "cell_type": "markdown",
   "metadata": {
    "id": "eZX6wIa1HzRo"
   },
   "source": [
    "Notez que l'indexation commence toujours à 0 en python. Ainsi, le premier élément de ```myList``` est dénoté ```myList[0]```, le second ```myList[1]``` etc... Il en de même pour les chaînes de caractères."
   ]
  },
  {
   "cell_type": "code",
   "execution_count": 9,
   "metadata": {
    "colab": {
     "base_uri": "https://localhost:8080/"
    },
    "id": "UM2Q3KMYHJHE",
    "outputId": "01a5f439-1d17-4265-8e1a-9041fdd1877b"
   },
   "outputs": [
    {
     "name": "stdout",
     "output_type": "stream",
     "text": [
      "a8un7.3\n",
      "n\n",
      "7.3\n"
     ]
    }
   ],
   "source": [
    "print(myString)     # affiche le contenu de mystring\n",
    "print(myString[3])  # accède à l'élément à l'index 3 du string. On compte à partir de 0, du coup, c'est le 4e élément de la chaîne de caractères.\n",
    "print(myString[4:7]) # calcule le sous-string constitué par tous les s de l'index 4 (inclue) jusqu'à l'index 7 (exclue). On compte à partir de 0, du coup du 5e (inclus) au 8e (exclu)."
   ]
  },
  {
   "cell_type": "code",
   "execution_count": 10,
   "metadata": {},
   "outputs": [
    {
     "name": "stdout",
     "output_type": "stream",
     "text": [
      "un\n",
      "['a', 8, 'un']\n"
     ]
    }
   ],
   "source": [
    "print(myList[2])    # accède à l'élément à l'index 2. On compte à partir de 0, du coup c'est le 3e élément de la liste.\n",
    "print(myList[0:3]) # calcule la sous-liste constituée par tous les éléments de l'index 0 (inclue) à l'index 3 (exclu). On compte à partir de 0, du coup du premier élément (inclus) au 4e (exclu)."
   ]
  },
  {
   "cell_type": "markdown",
   "metadata": {
    "id": "EaFcdKf7Ib5p"
   },
   "source": [
    "Les éléments d'une liste python peuvent être efficacement modifiés, on notera en particulier :"
   ]
  },
  {
   "cell_type": "code",
   "execution_count": 11,
   "metadata": {
    "colab": {
     "base_uri": "https://localhost:8080/"
    },
    "id": "FG71fkWGIh7O",
    "outputId": "56259d65-0fb8-4add-c830-c54039bc74cd"
   },
   "outputs": [
    {
     "name": "stdout",
     "output_type": "stream",
     "text": [
      "[1, 2, 3, 4, 5]\n",
      "[1, 2, 3, 8, 5]\n",
      "[1, 2, 3, 8, 5, 0]\n",
      "0\n",
      "[1, 2, 3, 8, 5]\n"
     ]
    }
   ],
   "source": [
    "list_ex = [1,2,3,4,5]\n",
    "print(list_ex)\n",
    "list_ex[3] = 8  # le 4e élément est désormais égal à 8\n",
    "print(list_ex)\n",
    "list_ex.append(0) # on ajoute un 0 à la fin de list_ex\n",
    "print(list_ex)\n",
    "x = list_ex.pop() # on retire le dernier élément, et on le stocke dans x\n",
    "print(x)\n",
    "print(list_ex)"
   ]
  },
  {
   "cell_type": "markdown",
   "metadata": {
    "id": "wwDt26yCJwqZ"
   },
   "source": [
    "Enfin, voici une syntaxe utile pour manipuler des listes"
   ]
  },
  {
   "cell_type": "code",
   "execution_count": 12,
   "metadata": {
    "colab": {
     "base_uri": "https://localhost:8080/"
    },
    "id": "HK2BlrppJ69b",
    "outputId": "ace03f7a-72a4-43e7-ca9b-32ef5f7d3969"
   },
   "outputs": [
    {
     "name": "stdout",
     "output_type": "stream",
     "text": [
      "[5, 6, 7, 7, 8, 3, 4]\n"
     ]
    }
   ],
   "source": [
    "myList1 = [3, 4, 5, 5, 6, 1, 2]\n",
    "myList2 = [var + 2 for var in myList1]\n",
    "print(myList2)"
   ]
  },
  {
   "cell_type": "markdown",
   "metadata": {
    "id": "Y6Js3AWFKE-5"
   },
   "source": [
    "La syntaxe utilisée pour définir ```myList2``` peut être interprétée comme ```la liste des var+2 lorsque var parcourt myList1```'"
   ]
  },
  {
   "cell_type": "markdown",
   "metadata": {
    "id": "iuk2KN8wJDs8"
   },
   "source": [
    "## 2.3. Booléens\n",
    "\n",
    "Les Booléens sont un type de données ne contenant que ```True``` et ```False``` comme seule évaluation possible. Ils sont notamment utilisés dans les blocs ```if``` que nous allons voir plus tard dans ce document."
   ]
  },
  {
   "cell_type": "code",
   "execution_count": 13,
   "metadata": {
    "id": "RDGQNftFJXyQ"
   },
   "outputs": [
    {
     "name": "stdout",
     "output_type": "stream",
     "text": [
      "True:  True\n",
      "False:  False\n"
     ]
    }
   ],
   "source": [
    "t = True\n",
    "f = False\n",
    "\n",
    "print('True: ', t)\n",
    "print('False: ', f)"
   ]
  },
  {
   "cell_type": "markdown",
   "metadata": {
    "id": "nclRt9EHJmns"
   },
   "source": [
    "Les booléens possèdent leurs propres opérations :"
   ]
  },
  {
   "cell_type": "code",
   "execution_count": 14,
   "metadata": {
    "id": "bHqnnatrKWPg"
   },
   "outputs": [
    {
     "name": "stdout",
     "output_type": "stream",
     "text": [
      "False\n",
      "True\n",
      "False\n"
     ]
    }
   ],
   "source": [
    "print(t and f) # conjonction\n",
    "print(t or f)  # disjonction\n",
    "print(not t)   # négation"
   ]
  },
  {
   "cell_type": "markdown",
   "metadata": {
    "id": "7eCyzaoFKskK"
   },
   "source": [
    "Les booléens sont souvent créés en testant une équation mathématique. Attention cependant, puisque le '=' est déjà utilisé pour l'attribution de variable, on utilisera '==' pour vérifier une égalité et l'interpréter comme un booléen:"
   ]
  },
  {
   "cell_type": "code",
   "execution_count": 15,
   "metadata": {
    "colab": {
     "base_uri": "https://localhost:8080/"
    },
    "id": "zyd-b9e5K74v",
    "outputId": "9e623fc9-65ee-4d25-ea7b-435e237ca2cd"
   },
   "outputs": [
    {
     "name": "stdout",
     "output_type": "stream",
     "text": [
      "True\n",
      "False\n",
      "False\n",
      "True\n"
     ]
    }
   ],
   "source": [
    "print(5 > 3)  # (5 est-il supérieur à 3)?\n",
    "print(5 <= 3) # (5 est-il inférieur ou égal à 3)?\n",
    "print(5 == 3) # (5 est-il égal à 3)?\n",
    "print(5 != 3) # (5 est-il différent à 3)?"
   ]
  },
  {
   "cell_type": "markdown",
   "metadata": {
    "id": "zg43OJFALPSw"
   },
   "source": [
    "Python possède de nombreux autres types de données, comme les tuples, les dictionnaires, les ensembles, etc. Pour en apprendre plus, se référer aux ressources citées au début de la formation pratique. "
   ]
  },
  {
   "cell_type": "markdown",
   "metadata": {
    "id": "042Wn1mTDBxb"
   },
   "source": [
    "# 3. Contrôle de flux\n",
    "\n",
    "Python dispose de plusieurs instructions de contrôle de flux."
   ]
  },
  {
   "cell_type": "markdown",
   "metadata": {
    "id": "ohE2pTYV5d5q"
   },
   "source": [
    "## 3.1. Indentation et la condition if\n",
    "\n",
    "L'indentation est au coeur de la syntaxe en Python. En effet, même si elle joue parfois un rôle strictement décoratif dans d'autres langages, l'indentation dans Python modifie le sens d'un bloc de code, et peut parfois causer des erreurs. \n",
    "\n",
    "Un certain nombre d'opérations en Python (conditions, boucles, fonctions, classes) vont s'appliquer à un bloc de lignes de code. L'indentation est ce qui permet de distinguer lorsque l'on 'sort' d'un tel bloc. \n",
    "\n",
    "Prenons l'exemple de la condition. La déclaration ```if``` permet d'appliquer un bloc de code si et seulement si une certaine condition est vérifiée. Voyons l'impact de l'indentation dans les codes suivants :"
   ]
  },
  {
   "cell_type": "code",
   "execution_count": 16,
   "metadata": {
    "id": "CGn7UjRe6a9v"
   },
   "outputs": [],
   "source": [
    "# exemple 3.1.1\n",
    "if 2 > 3:\n",
    "    print(x1)\n",
    "    print(x2)\n"
   ]
  },
  {
   "cell_type": "code",
   "execution_count": 17,
   "metadata": {
    "colab": {
     "base_uri": "https://localhost:8080/"
    },
    "id": "jeqL6_em67Q8",
    "outputId": "e7bea937-39fd-433e-b039-59937974523c"
   },
   "outputs": [
    {
     "name": "stdout",
     "output_type": "stream",
     "text": [
      "5.0\n"
     ]
    }
   ],
   "source": [
    "# exemple 3.1.2\n",
    "if 2 > 3:\n",
    "    print(x1)\n",
    "print(x2)"
   ]
  },
  {
   "cell_type": "markdown",
   "metadata": {
    "id": "1NCMTC9u7DKL"
   },
   "source": [
    "Dans ```l'exemple 3.1.1```, puisque 2 n'est pas supérieur à 3, le bloc suivant le ```if``` ne sera pas exécuté. Dans le premier cas, rien ne se passe, car les deux lignes de codes sont indentées, et font donc toutes les deux parties du bloc ```if```.\n",
    "\n",
    "Dans ```l'exemple 3.1.2```, ```print(x2)``` n'est pas indenté, et est donc en dehors du bloc ```if```. C'est pourquoi il sera exécuté, et on observe bien que ```5.0``` est imprimé à l'écran. \n",
    "\n",
    "Que se passe-t-il si aucune ligne n'est indentée ?"
   ]
  },
  {
   "cell_type": "code",
   "execution_count": 18,
   "metadata": {
    "colab": {
     "base_uri": "https://localhost:8080/",
     "height": 130
    },
    "id": "iLNhOuQU7swK",
    "outputId": "06ca4c54-9832-4598-9819-a17d1e3d2a83"
   },
   "outputs": [
    {
     "ename": "IndentationError",
     "evalue": "expected an indented block (<ipython-input-18-6653a93037a1>, line 2)",
     "output_type": "error",
     "traceback": [
      "\u001b[1;36m  File \u001b[1;32m\"<ipython-input-18-6653a93037a1>\"\u001b[1;36m, line \u001b[1;32m2\u001b[0m\n\u001b[1;33m    print(x1)\u001b[0m\n\u001b[1;37m    ^\u001b[0m\n\u001b[1;31mIndentationError\u001b[0m\u001b[1;31m:\u001b[0m expected an indented block\n"
     ]
    }
   ],
   "source": [
    "if 2 > 3:\n",
    "print(x1)"
   ]
  },
  {
   "cell_type": "markdown",
   "metadata": {
    "id": "HxDF5tkV7wMU"
   },
   "source": [
    "On obtient l'erreur ```IndentationError: expected an indented block```. Cette erreur survient parce que la déclaration ```if``` doit impérativement être suivie d'un bloc indenté auquel elle s'applique. Naturellement, plusieurs ```if``` peuvent être combinés, résultant en plusieurs niveaux d'indentation."
   ]
  },
  {
   "cell_type": "markdown",
   "metadata": {},
   "source": [
    "L'instruction ```if``` peut-être combinée avec le type booléen comme suit:"
   ]
  },
  {
   "cell_type": "code",
   "execution_count": 19,
   "metadata": {
    "id": "RDGQNftFJXyQ"
   },
   "outputs": [
    {
     "name": "stdout",
     "output_type": "stream",
     "text": [
      "true !\n"
     ]
    }
   ],
   "source": [
    "t = True\n",
    "f = False\n",
    "\n",
    "if t:\n",
    "    print('true !')\n",
    "if f:\n",
    "    print('false !')"
   ]
  },
  {
   "cell_type": "code",
   "execution_count": 20,
   "metadata": {
    "colab": {
     "base_uri": "https://localhost:8080/"
    },
    "id": "zR_An6Vh8Ezu",
    "outputId": "d35386f8-118d-4ad3-d19c-cbb9b36931e9"
   },
   "outputs": [
    {
     "name": "stdout",
     "output_type": "stream",
     "text": [
      "premier bloc\n",
      "premier bloc\n"
     ]
    }
   ],
   "source": [
    "if True:    # True est un booléen, qui sera toujours interprété comme 'vrai'\n",
    "    print('premier bloc')\n",
    "    if False: # False est l'autre booléen, et sera toujours interprété comme 'faux'\n",
    "        print('second bloc')\n",
    "    print('premier bloc')"
   ]
  },
  {
   "cell_type": "markdown",
   "metadata": {
    "id": "Pq3fwztG8EFw"
   },
   "source": [
    "Le premier ```if``` évalue sa condition à ```vrai```, et exécute donc le premier bloc de code. Dans ce bloc, un second ```if``` évalue sa condition à ```vrai``` et la ligne doublement indentée, correspondant au bloc de ce second ```if```, ne sera donc pas exécutée."
   ]
  },
  {
   "cell_type": "markdown",
   "metadata": {
    "id": "idaVglh9LlEs"
   },
   "source": [
    "## 3.2. Les boucles\n",
    "\n",
    "Pour écrire une boucle en python, on peut soit parcourir les éléments d'une liste, soit continuer tant qu'une condition est vérifiée"
   ]
  },
  {
   "cell_type": "code",
   "execution_count": 21,
   "metadata": {
    "colab": {
     "base_uri": "https://localhost:8080/"
    },
    "id": "ypChJjBkMMmF",
    "outputId": "56776f39-655a-4f19-e08d-7c5c99118721"
   },
   "outputs": [
    {
     "name": "stdout",
     "output_type": "stream",
     "text": [
      "0\n",
      "1\n",
      "2\n",
      "3\n",
      "4\n"
     ]
    }
   ],
   "source": [
    "i = 0\n",
    "while i < 5:\n",
    "    print(i)\n",
    "    i += 1"
   ]
  },
  {
   "cell_type": "markdown",
   "metadata": {
    "id": "wTtj_hfwMRHr"
   },
   "source": [
    "Ce code très simple boucle tant que la valeur de i est strictement plus petite que 5. Puisque l'on part de 0 et augmente i à chaque itération, on exécute la boucle 5 fois en tout. Pour cela, on utilise le mot-clé ```while```, suivis d'une condition, puis d'un ```:``` et enfin d'un bloc indenté correspondant à une itération de la boucle\n",
    "\n",
    "On peut aussi (et ce sera le plus souvent le cas) utiliser une boucle ```for``` qui parcourt les éléments d'une liste (voir section 2.2 pour plus d'informations sur les listes). "
   ]
  },
  {
   "cell_type": "code",
   "execution_count": 22,
   "metadata": {
    "colab": {
     "base_uri": "https://localhost:8080/"
    },
    "id": "1jTVwUYYMe3f",
    "outputId": "09c27bb1-48ad-40a1-d089-a44fe77d2c92"
   },
   "outputs": [
    {
     "name": "stdout",
     "output_type": "stream",
     "text": [
      "1\n",
      "2\n",
      "3\n"
     ]
    }
   ],
   "source": [
    "myList = [1, 2, 3]\n",
    "for n in myList:\n",
    "    print(n)"
   ]
  },
  {
   "cell_type": "markdown",
   "metadata": {
    "id": "lqEhjIPJM-St"
   },
   "source": [
    "Le code précédent parcourt les éléments de la liste ```myList```, et pour chaque élément n de la liste ```myList```, il exécute la commande ```print(n)```.\n",
    "\n",
    "Pour parcourir les éléments i allant de 0 à 8 par exemple, on peut utiliser la méthode suivante :"
   ]
  },
  {
   "cell_type": "code",
   "execution_count": 23,
   "metadata": {
    "colab": {
     "base_uri": "https://localhost:8080/"
    },
    "id": "Sy6QrlExNMg0",
    "outputId": "06678f76-d7d7-43c1-d3be-a91b45b8486e"
   },
   "outputs": [
    {
     "name": "stdout",
     "output_type": "stream",
     "text": [
      "0\n",
      "1\n",
      "2\n",
      "3\n",
      "4\n",
      "5\n",
      "6\n",
      "7\n",
      "8\n"
     ]
    }
   ],
   "source": [
    "for i in range(0, 9):\n",
    "    print(i)"
   ]
  },
  {
   "cell_type": "markdown",
   "metadata": {
    "id": "SeQhhuvv8sYl"
   },
   "source": [
    "## 3.3. Fonctions\n",
    "\n",
    "Voyons à présent comment définir et appeler des fonctions en python."
   ]
  },
  {
   "cell_type": "code",
   "execution_count": 24,
   "metadata": {
    "id": "kgRh-jxw8zBB"
   },
   "outputs": [],
   "source": [
    "def myFunc(var1, var2, var3=' ', var4='!'):\n",
    "    print(var1 + var2 + var3 + var4)"
   ]
  },
  {
   "cell_type": "markdown",
   "metadata": {
    "id": "__LUhgRx9I0u"
   },
   "source": [
    "On définit une fonction avec le mot-clé ```def``` suivis du nom de la fonction, puis de ses arguments entre parenthèses. Enfin, on ajoute un `:` à la fin de la ligne et on écrit les instructions de la fonction dans un bloc indenté.\n",
    "\n",
    "Il y a deux types d'arguments. Les arguments comme ```var1``` et ```var2``` qui sont déclarés uniquement par leurs noms, et les arguments comme ```var3``` et ```var4``` qui sont déclarés avec une valeur par défaut, c'est-à-dire ```nom = val_defaut```\n",
    "\n",
    "Les arguments sans valeur par défaut sont toujours déclarés en premier, et leur ordre aura une grande importance lorsque l'on appellera la fonction. Les arguments avec une valeur par défaut peuvent être omis lorsque l'on appelle la fonction (auquel cas ils adopteront leur valeur par défaut) où peuvent voir leur valeur assignée comme dans les exemples suivants."
   ]
  },
  {
   "cell_type": "code",
   "execution_count": 25,
   "metadata": {
    "colab": {
     "base_uri": "https://localhost:8080/"
    },
    "id": "g9M30XxY-FwV",
    "outputId": "f1fb1521-95a9-4c16-aa8d-a09deb265f54"
   },
   "outputs": [
    {
     "name": "stdout",
     "output_type": "stream",
     "text": [
      "Hello world !\n",
      "Hello world   !!!!\n",
      "Hello world !\n"
     ]
    }
   ],
   "source": [
    "myFunc('Hello', ' world') # myFunc est appelé avec var1='Hello', var2='world', et var3 var4 ont leur valeur par défaut\n",
    "myFunc('Hello', ' world', var3='   ', var4='!!!!') # cette fois, on change les valeurs de var3 et var4\n",
    "myFunc('Hello', ' world', var4='!', var3=' ') # notez que l'ont peut assigner var3 et var4 dans l'ordre de notre choix"
   ]
  },
  {
   "cell_type": "markdown",
   "metadata": {
    "id": "Bhia9jkS-fTW"
   },
   "source": [
    "Comme vous vous en doutez surement, la fonction ```myFunc``` prend 4 arguments var1, var2, var3, var4, et imprime la chaîne de caractères obtenus en les concaténant les uns à la suite des autres.\n",
    "\n",
    "Bien qu'elle effectue l'action d'imprimer la chaîne de caractères, notre fonction ne renvoie cependant rien:"
   ]
  },
  {
   "cell_type": "code",
   "execution_count": 26,
   "metadata": {
    "colab": {
     "base_uri": "https://localhost:8080/"
    },
    "id": "kpoqrhJL_Rie",
    "outputId": "24c79db9-6889-412c-9bc7-47bffbf27ec6"
   },
   "outputs": [
    {
     "name": "stdout",
     "output_type": "stream",
     "text": [
      "Hello world !\n"
     ]
    }
   ],
   "source": [
    "result = myFunc('Hello ', 'world')"
   ]
  },
  {
   "cell_type": "code",
   "execution_count": 27,
   "metadata": {
    "colab": {
     "base_uri": "https://localhost:8080/"
    },
    "id": "goPJSxBr_Sdz",
    "outputId": "9a60a25e-2af5-4b66-91db-e4170c64ab41"
   },
   "outputs": [
    {
     "name": "stdout",
     "output_type": "stream",
     "text": [
      "None\n"
     ]
    }
   ],
   "source": [
    "print(result)"
   ]
  },
  {
   "cell_type": "markdown",
   "metadata": {
    "id": "arhcDpyn_Uho"
   },
   "source": [
    "On constate que le simple fait de définir la variable ```result``` imprime la chaîne de caractères, car la fonction est appelée. Cependant, quand on imprime la variable ```result```, elle ne contient rien (```None```) ! Si on veut pouvoir stocker ainsi la chaîne de caractères, il faut se servir de la méthode ```return```:"
   ]
  },
  {
   "cell_type": "code",
   "execution_count": 28,
   "metadata": {
    "id": "dLz1NkxJ_pO1"
   },
   "outputs": [],
   "source": [
    "def myFunc2(var1, var2, var3=' ', var4='!'):\n",
    "    return (var1 + var2 + var3 + var4)"
   ]
  },
  {
   "cell_type": "code",
   "execution_count": 29,
   "metadata": {
    "colab": {
     "base_uri": "https://localhost:8080/"
    },
    "id": "Ke-2BG6O_ikF",
    "outputId": "1b7e1db3-7e7d-4dfa-f4e4-c430a74c114c"
   },
   "outputs": [
    {
     "name": "stdout",
     "output_type": "stream",
     "text": [
      "Hello world !\n"
     ]
    }
   ],
   "source": [
    "result = myFunc2('Hello ', 'world')\n",
    "print(result)"
   ]
  },
  {
   "cell_type": "markdown",
   "metadata": {
    "id": "Ugskc-m__1no"
   },
   "source": [
    "Ainsi, quand on assigne une variable à une exécution de ```myFunc2```, elle contiendra ce que la fonction a renvoyé avec la déclaration ```return```."
   ]
  },
  {
   "cell_type": "markdown",
   "metadata": {
    "id": "MQlZ9U9ZACUJ"
   },
   "source": [
    "# 4. Classes\n",
    "\n",
    "Nous allons maintenant voir les classes en python. Bien que ce type d'objet soit extrêmement important en apprentissage automatique, il est plus complexe à manipuler, et ne sera donc que très superficiellement introduit dans le cadre de cette formation pratique.\n",
    "\n",
    "Créons notre première classe:"
   ]
  },
  {
   "cell_type": "code",
   "execution_count": 30,
   "metadata": {
    "id": "dJ9G63WKAWDI"
   },
   "outputs": [],
   "source": [
    "class MyClass():\n",
    "    def myClassFunc(self):\n",
    "        myFunc('Hello ', 'world')"
   ]
  },
  {
   "cell_type": "markdown",
   "metadata": {
    "id": "4oZgVJy8A0nv"
   },
   "source": [
    "Nous avons défini notre classe de façon similaire à une fonction, mais en utilisant le mot-clé ```classe```. Une classe ne prend pas d'arguments dans sa définition, mais peut hériter d'une autre classe alors indiquée dans les parenthèses, cependant cela sort du cadre de cette formation pratique.\n",
    "\n",
    "À l'intérieur de notre définition de classe, nous avons défini une fonction. Ces fonctions sont appelées des \"méthodes\" de la classe, et elles peuvent être appelées de la façon suivante :"
   ]
  },
  {
   "cell_type": "code",
   "execution_count": 31,
   "metadata": {
    "colab": {
     "base_uri": "https://localhost:8080/"
    },
    "id": "A0QcpqqtBV8_",
    "outputId": "324d1f37-8de7-4f3a-e2e3-0f34b19c716e"
   },
   "outputs": [
    {
     "name": "stdout",
     "output_type": "stream",
     "text": [
      "Hello world !\n"
     ]
    }
   ],
   "source": [
    "class_ex = MyClass() # instancie un élément de notre classe\n",
    "class_ex.myClassFunc() # exécute la méthode que nous avons définie, ce qui imprime 'Hello world !'"
   ]
  },
  {
   "cell_type": "markdown",
   "metadata": {
    "id": "BRvILmziBkHq"
   },
   "source": [
    "On remarquera que la méthode définie prend en argument ```self````. Ce mot-clé réfère en fait à l'instanciation de la classe qui exécutera la méthode. L'avantage des classes est entre autres que ses méthodes peuvent interagir avec des variables propres à l'instanciation de la classe, que nous appellerons attributs :"
   ]
  },
  {
   "cell_type": "code",
   "execution_count": 32,
   "metadata": {
    "id": "JaAWUj73B_Yi"
   },
   "outputs": [],
   "source": [
    "class MyClass():\n",
    "    def myClassFunc(self):\n",
    "        self.x = 3\n",
    "        myFunc('Hello ', 'world')"
   ]
  },
  {
   "cell_type": "markdown",
   "metadata": {
    "id": "WwAJYRmICEkM"
   },
   "source": [
    "Dans cette nouvelle définition, lorsque nous exécutons la méthode ```myClassFunc```, nous stockons la valeur '3' dans l'attribut 'x' de l'instance qui exécute la méthode. Voyons comment nous pouvons ensuite y accéder :"
   ]
  },
  {
   "cell_type": "code",
   "execution_count": 33,
   "metadata": {
    "colab": {
     "base_uri": "https://localhost:8080/"
    },
    "id": "SxfTaX3xCO7h",
    "outputId": "460517a5-24be-4682-f39e-d3be245d26ce"
   },
   "outputs": [
    {
     "name": "stdout",
     "output_type": "stream",
     "text": [
      "Hello world !\n",
      "3\n"
     ]
    }
   ],
   "source": [
    "class_ex = MyClass()\n",
    "class_ex.myClassFunc()\n",
    "print(class_ex.x)"
   ]
  },
  {
   "cell_type": "markdown",
   "metadata": {
    "id": "uy19irxBCfjc"
   },
   "source": [
    "Lorsque nous avons éxécuté ```class_ex.myClassFunc()```, nous avons assigné la valeur 3 à l'attribut ```x``` de ```class_ex```, auquel on peut donc accéder avec ```class_ex.x```.\n",
    "\n",
    "Notons que si l'on n'exécute pas la méthode, l'attribut n'est jamais assigné, et si l'on essaye d'y accéder, on obtient donc une erreur:"
   ]
  },
  {
   "cell_type": "code",
   "execution_count": 34,
   "metadata": {
    "colab": {
     "base_uri": "https://localhost:8080/",
     "height": 181
    },
    "id": "4515655yCzwi",
    "outputId": "ee476e95-0aa3-4042-f4cd-445c7d3b9f02"
   },
   "outputs": [
    {
     "ename": "AttributeError",
     "evalue": "'MyClass' object has no attribute 'x'",
     "output_type": "error",
     "traceback": [
      "\u001b[1;31m---------------------------------------------------------------------------\u001b[0m",
      "\u001b[1;31mAttributeError\u001b[0m                            Traceback (most recent call last)",
      "\u001b[1;32m<ipython-input-34-73bb76a1d892>\u001b[0m in \u001b[0;36m<module>\u001b[1;34m\u001b[0m\n\u001b[0;32m      1\u001b[0m \u001b[0mclass_ex\u001b[0m \u001b[1;33m=\u001b[0m \u001b[0mMyClass\u001b[0m\u001b[1;33m(\u001b[0m\u001b[1;33m)\u001b[0m\u001b[1;33m\u001b[0m\u001b[1;33m\u001b[0m\u001b[0m\n\u001b[1;32m----> 2\u001b[1;33m \u001b[0mprint\u001b[0m\u001b[1;33m(\u001b[0m\u001b[0mclass_ex\u001b[0m\u001b[1;33m.\u001b[0m\u001b[0mx\u001b[0m\u001b[1;33m)\u001b[0m\u001b[1;33m\u001b[0m\u001b[1;33m\u001b[0m\u001b[0m\n\u001b[0m",
      "\u001b[1;31mAttributeError\u001b[0m: 'MyClass' object has no attribute 'x'"
     ]
    }
   ],
   "source": [
    "class_ex = MyClass()\n",
    "print(class_ex.x)"
   ]
  },
  {
   "cell_type": "markdown",
   "metadata": {
    "id": "JprNKb0HC5yc"
   },
   "source": [
    "Il y a beaucoup d'autres aspects pour maitriser l'utilisation des classes en python. Pour en apprendre plus, se référer aux ressources citées au début de la formation pratique."
   ]
  },
  {
   "cell_type": "markdown",
   "metadata": {
    "id": "nniGbgNuNwgK"
   },
   "source": [
    "# 5. Importation\n",
    "\n",
    "Nous allons parfois avoir besoin d'importer des fonctions venant de librairies externes. Pour cela, nous allons utiliser le mot-clé ```import```.\n",
    "\n",
    "Par exemple, pour importer la librairie ```math```, on exécute la commande suivante :"
   ]
  },
  {
   "cell_type": "code",
   "execution_count": 35,
   "metadata": {
    "id": "nzuZl0HrN6Pb"
   },
   "outputs": [],
   "source": [
    "import math as mt"
   ]
  },
  {
   "cell_type": "markdown",
   "metadata": {
    "id": "bBWpTcb4OFtU"
   },
   "source": [
    "Nous pouvons maintenant accéder à toutes les fonctions de la librairie ```math``` en leur rajoutant le préfixe ```mt```. Par exemple, ```mt.pi``` pour avoir la valeur de ```pi``` ou ```mt.cos(mt.pi)``` appliquera la fonction ```cosinus``` de ```math``` à la valeur ```pi```."
   ]
  },
  {
   "cell_type": "code",
   "execution_count": 36,
   "metadata": {},
   "outputs": [
    {
     "data": {
      "text/plain": [
       "3.141592653589793"
      ]
     },
     "execution_count": 36,
     "metadata": {},
     "output_type": "execute_result"
    }
   ],
   "source": [
    "mt.pi"
   ]
  },
  {
   "cell_type": "code",
   "execution_count": 37,
   "metadata": {},
   "outputs": [
    {
     "data": {
      "text/plain": [
       "-1.0"
      ]
     },
     "execution_count": 37,
     "metadata": {},
     "output_type": "execute_result"
    }
   ],
   "source": [
    "mt.cos(mt.pi)"
   ]
  }
 ],
 "metadata": {
  "colab": {
   "name": "FP1.ipynb",
   "provenance": []
  },
  "kernelspec": {
   "display_name": "Python 3",
   "language": "python",
   "name": "python3"
  },
  "language_info": {
   "codemirror_mode": {
    "name": "ipython",
    "version": 3
   },
   "file_extension": ".py",
   "mimetype": "text/x-python",
   "name": "python",
   "nbconvert_exporter": "python",
   "pygments_lexer": "ipython3",
   "version": "3.8.10"
  }
 },
 "nbformat": 4,
 "nbformat_minor": 4
}
