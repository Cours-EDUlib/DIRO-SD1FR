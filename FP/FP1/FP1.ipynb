{
  "nbformat": 4,
  "nbformat_minor": 0,
  "metadata": {
    "colab": {
      "name": "FP1.ipynb",
      "provenance": []
    },
    "kernelspec": {
      "name": "python3",
      "display_name": "Python 3"
    }
  },
  "cells": [
    {
      "cell_type": "markdown",
      "metadata": {
        "id": "nuqtjBTC0mgs"
      },
      "source": [
        "# Formation Pratique 1 : Introduction à la syntaxe en Python\n",
        "\n",
        "**Cette formation pratique est optionnelle : si vous maitrisez déjà les bases en Python, vous pouvez en ignorer le contenu.**\n",
        "\n",
        "Le but de cette formation pratique est d'introduire la syntaxe en Python afin de simplifier la compréhension des contenus qui vont suivre. Notez cependant qu'il ne s'agit PAS d'un cours de python, et cette introduction ne sera donc que superficielle. Pour du contenu plus approfondis sur python en particulier, nous vous recommandons les ressources suivantes :\n",
        "- [W3Schools](https://www.w3schools.com/python/python_syntax.asp)\n",
        "- [Google tutorial](https://developers.google.com/edu/python/)\n",
        "\n",
        "Tout le contenu suivant s'applique à Python version 3.X, puisque les version 2.X ne sont officiellement plus maintenues par Python depuis le 1er Janvier 2020."
      ]
    },
    {
      "cell_type": "markdown",
      "metadata": {
        "id": "iD5vyikf3jhk"
      },
      "source": [
        "## 1.1 Syntaxe en Python\n",
        "\n",
        "### 1.1.1 Variables\n",
        "\n",
        "Les variables en python sont definies à partir du symbole \"=\" qui assigne une valeur à un nom. Dans l'exemple suivant, nous définissons plusieurs variavbles x1, x2, y, z, x, chacune ayant un type différent."
      ]
    },
    {
      "cell_type": "code",
      "metadata": {
        "id": "OEzNUeD432Ge"
      },
      "source": [
        "x1 = 5              # x1 est un int (entier)\n",
        "x2 = 5.             # x2 est un float\n",
        "y = 'hello world'   # y est un string (chaine de caractères)\n",
        "z = [1,2,3]         # z est une liste\n",
        "w = {'age': 20}     # w est un dictionnaire"
      ],
      "execution_count": 2,
      "outputs": []
    },
    {
      "cell_type": "markdown",
      "metadata": {
        "id": "d8EZ7CiN4c6g"
      },
      "source": [
        "Nous verrons plus tard les différents types introduit à l'instant. Notez que le texte après un '#' est ignoré par python, il s'agit d'un commentaire.\n",
        "\n",
        "La fonction print() permets \"d'imprimer\" un objet python. Nous pouvons accéder aux variables introduites précédement simplement en utilisant leur nom. Par exemple, la ligne de code suivante va afficher la variable z :\n"
      ]
    },
    {
      "cell_type": "code",
      "metadata": {
        "colab": {
          "base_uri": "https://localhost:8080/"
        },
        "id": "04becesl5ADm",
        "outputId": "2068f98f-e118-4dfd-a0ee-538ba1283fc9"
      },
      "source": [
        "print(z)"
      ],
      "execution_count": 3,
      "outputs": [
        {
          "output_type": "stream",
          "text": [
            "[1, 2, 3]\n"
          ],
          "name": "stdout"
        }
      ]
    },
    {
      "cell_type": "markdown",
      "metadata": {
        "id": "ohE2pTYV5d5q"
      },
      "source": [
        "### 1.1.2 Indentation\n",
        "\n",
        "L'indentation est au coeur de la syntaxe en python. En effet, même si elle joue parfois un rôle strictement décoratif dans d'autres langages, l'indentation dans python modifie le sens d'un bloc de code, et peut parfois causer des erreurs. \n",
        "\n",
        "Un certain nombre d'opération en python (if, loops, functions, classes) vont s'appliquer à un bloc de lignes de code. L'indentation est ce qui permets de distinguer lorsque l'on 'sort' d'un tel bloc. \n",
        "\n",
        "Prenons l'exemple de la condition. Le statement if permets d'appliquer un bloc de code si et seulement si une certaine condition est vérifiée. Voyons l'impact de l'indentation dans les codes suivant :"
      ]
    },
    {
      "cell_type": "code",
      "metadata": {
        "id": "CGn7UjRe6a9v"
      },
      "source": [
        "if 2 > 3:   \n",
        "  print(x1)\n",
        "  print(x2)\n"
      ],
      "execution_count": 4,
      "outputs": []
    },
    {
      "cell_type": "code",
      "metadata": {
        "colab": {
          "base_uri": "https://localhost:8080/"
        },
        "id": "jeqL6_em67Q8",
        "outputId": "e7bea937-39fd-433e-b039-59937974523c"
      },
      "source": [
        "if 2 > 3:\n",
        "  print(x1)\n",
        "print(x2)"
      ],
      "execution_count": 5,
      "outputs": [
        {
          "output_type": "stream",
          "text": [
            "5.0\n"
          ],
          "name": "stdout"
        }
      ]
    },
    {
      "cell_type": "markdown",
      "metadata": {
        "id": "1NCMTC9u7DKL"
      },
      "source": [
        "Puisque 2 n'est pas supérieur à 3, le bloc suivant le if ne sera pas éxecuté. Dans le premier cas, rien ne se passe, car les deux lignes de codes sont indentées, et font donc toutes les deux parties du bloc \"if\".\n",
        "Dans le deuxième cas, ```print(x2)``` n'est pas indenté, et est donc en dehors du bloc \"if\". C'est pourquoi il sera executé, et on observe bien que \"5.0\" est imprimé à l'écran. \n",
        "\n",
        "Que se passe t-il si aucune ligne n'est indentée ?"
      ]
    },
    {
      "cell_type": "code",
      "metadata": {
        "colab": {
          "base_uri": "https://localhost:8080/",
          "height": 130
        },
        "id": "iLNhOuQU7swK",
        "outputId": "06ca4c54-9832-4598-9819-a17d1e3d2a83"
      },
      "source": [
        "if 2 > 3:\n",
        "print(x1)"
      ],
      "execution_count": 8,
      "outputs": [
        {
          "output_type": "error",
          "ename": "IndentationError",
          "evalue": "ignored",
          "traceback": [
            "\u001b[0;36m  File \u001b[0;32m\"<ipython-input-8-6653a93037a1>\"\u001b[0;36m, line \u001b[0;32m2\u001b[0m\n\u001b[0;31m    print(x1)\u001b[0m\n\u001b[0m        ^\u001b[0m\n\u001b[0;31mIndentationError\u001b[0m\u001b[0;31m:\u001b[0m expected an indented block\n"
          ]
        }
      ]
    },
    {
      "cell_type": "markdown",
      "metadata": {
        "id": "HxDF5tkV7wMU"
      },
      "source": [
        "On obtient une 'IndentationError'. Cette erreur survient parce qu'un statement \"if\" doit impérativement être suivi d'un bloc indenté auquel il s'applique. Naturellement, plusieurs if peuvent être combinés, résultant en plusieurs niveaux d'indentation"
      ]
    },
    {
      "cell_type": "code",
      "metadata": {
        "colab": {
          "base_uri": "https://localhost:8080/"
        },
        "id": "zR_An6Vh8Ezu",
        "outputId": "d35386f8-118d-4ad3-d19c-cbb9b36931e9"
      },
      "source": [
        "if True:    # True est un booléen, qui sera toujours interprété comme 'vrai'\n",
        "  print('premier bloc')\n",
        "  if False: # False est l'autre booléen, et sera toujours interprété comme 'faux'\n",
        "    print('second bloc')\n",
        "  print('premier bloc')"
      ],
      "execution_count": 9,
      "outputs": [
        {
          "output_type": "stream",
          "text": [
            "premier bloc\n",
            "premier bloc\n"
          ],
          "name": "stdout"
        }
      ]
    },
    {
      "cell_type": "markdown",
      "metadata": {
        "id": "Pq3fwztG8EFw"
      },
      "source": [
        "Le premier \"if\" évalue sa condition à 'vrai', et execute donc le premier bloc de code. Dans ce bloc, un second \"if\" évalue sa condition à 'vrai' et la ligne doublement indenté, correspondant au bloc de ce second \"if\", ne sera donc pas éxecutée."
      ]
    },
    {
      "cell_type": "markdown",
      "metadata": {
        "id": "SeQhhuvv8sYl"
      },
      "source": [
        "### 1.1.3 Fonctions\n",
        "\n",
        "Voyons à présent comment définir et appeler des fonctions en python."
      ]
    },
    {
      "cell_type": "code",
      "metadata": {
        "id": "kgRh-jxw8zBB"
      },
      "source": [
        "def myFunc(var1, var2, var3=' ', var4='!'):\n",
        "  print(var1 + var2 + var3 + var4)"
      ],
      "execution_count": 10,
      "outputs": []
    },
    {
      "cell_type": "markdown",
      "metadata": {
        "id": "__LUhgRx9I0u"
      },
      "source": [
        "On définie une fonction avec le mot-clé ```def``` suivis du nom de la fonction, puis de ses arguments entre parenthèse. Enfin, on ajoute un `:` à la fin de la ligne et on écrit les instructions de la fonction dans un bloc indenté.\n",
        "\n",
        "Il y a deux types d'arguments. Les arguments comme ```var1``` et ```var2``` qui sont déclarés uniquement par leurs noms, et les arguments comme ```var3``` et ```var4``` qui sont déclaré avec une valeur par défaut, c'est à dire ```nom = val_defaut```\n",
        "\n",
        "Les arguments sans valeur par défaut sont toujours déclarés en premier, et leur ordre aura une grande importante lorsque l'on appelera la fonction. Les arguments avec une valeur par défaut peuvent être omis lorsque l'on appeller la fonction (auquel cas ils adopteront leur valeur par défaut) où peuvent voir leur valeur assignée comme dans les exemples suivants."
      ]
    },
    {
      "cell_type": "code",
      "metadata": {
        "colab": {
          "base_uri": "https://localhost:8080/"
        },
        "id": "g9M30XxY-FwV",
        "outputId": "f1fb1521-95a9-4c16-aa8d-a09deb265f54"
      },
      "source": [
        "myFunc('Hello', ' world') # myFunc est appellé avec var1='Hello', var2='world', et var3 var4 ont leur valeur par défaut\n",
        "myFunc('Hello', ' world', var3='   ', var4='!!!!') # cette fois, on change les valeurs de var3 et var4\n",
        "myFunc('Hello', ' world', var4='!', var3=' ') # notez que l'ont peut assigner var3 et var4 dans l'ordre de notre choix"
      ],
      "execution_count": 14,
      "outputs": [
        {
          "output_type": "stream",
          "text": [
            "Hello world !\n",
            "Hello world   !!!!\n",
            "Hello world !\n"
          ],
          "name": "stdout"
        }
      ]
    },
    {
      "cell_type": "markdown",
      "metadata": {
        "id": "Bhia9jkS-fTW"
      },
      "source": [
        "Comme vous vous en doutez surement, la fonction ```myFunc``` prends 4 arguments var1, var2, var3, var4, et imprime la chaine de caractères obtenus en les concatenant les uns à la suite des autres.\n",
        "\n",
        "Bien qu'elle effectue l'action d'imprimer la chaine de caractère, notre function ne renvoie cependant rien:"
      ]
    },
    {
      "cell_type": "code",
      "metadata": {
        "colab": {
          "base_uri": "https://localhost:8080/"
        },
        "id": "kpoqrhJL_Rie",
        "outputId": "24c79db9-6889-412c-9bc7-47bffbf27ec6"
      },
      "source": [
        "result = myFunc('Hello ', 'world')"
      ],
      "execution_count": 15,
      "outputs": [
        {
          "output_type": "stream",
          "text": [
            "Hello world !\n"
          ],
          "name": "stdout"
        }
      ]
    },
    {
      "cell_type": "code",
      "metadata": {
        "colab": {
          "base_uri": "https://localhost:8080/"
        },
        "id": "goPJSxBr_Sdz",
        "outputId": "9a60a25e-2af5-4b66-91db-e4170c64ab41"
      },
      "source": [
        "print(result)"
      ],
      "execution_count": 16,
      "outputs": [
        {
          "output_type": "stream",
          "text": [
            "None\n"
          ],
          "name": "stdout"
        }
      ]
    },
    {
      "cell_type": "markdown",
      "metadata": {
        "id": "arhcDpyn_Uho"
      },
      "source": [
        "On constate que le simple fait de définir la variable ```result``` imprime la chaine de caractère, car la fonction est appellée. Cependant, quand on imprime la variable result, elle ne contient rien (```None```) ! Si on veut pouvoir stocker ainsi la chaine de caractère, il faut se servir de la mèthode ```return```:"
      ]
    },
    {
      "cell_type": "code",
      "metadata": {
        "id": "dLz1NkxJ_pO1"
      },
      "source": [
        "def myFunc2(var1, var2, var3=' ', var4='!'):\n",
        "  return (var1 + var2 + var3 + var4)"
      ],
      "execution_count": 17,
      "outputs": []
    },
    {
      "cell_type": "code",
      "metadata": {
        "colab": {
          "base_uri": "https://localhost:8080/"
        },
        "id": "Ke-2BG6O_ikF",
        "outputId": "1b7e1db3-7e7d-4dfa-f4e4-c430a74c114c"
      },
      "source": [
        "result = myFunc2('Hello ', 'world')\n",
        "print(result)"
      ],
      "execution_count": 18,
      "outputs": [
        {
          "output_type": "stream",
          "text": [
            "Hello world !\n"
          ],
          "name": "stdout"
        }
      ]
    },
    {
      "cell_type": "markdown",
      "metadata": {
        "id": "Ugskc-m__1no"
      },
      "source": [
        "Ainsi, quand on assigne une variable à une execution de ```myFunc2```, elle contiendra ce que la fonction a renvoyé avec le statement ```return```"
      ]
    },
    {
      "cell_type": "markdown",
      "metadata": {
        "id": "MQlZ9U9ZACUJ"
      },
      "source": [
        "### 1.1.4 Classes\n",
        "\n",
        "Nous allons maintenant voir les classes en python. Bien que ce type d'objet soit extremement important en Machine Learning, il est plus complexe à manipuler, et ne sera donc que très superficiellement introduit dans le cadre de cette formation pratique.\n",
        "\n",
        "Créons notre première classe:"
      ]
    },
    {
      "cell_type": "code",
      "metadata": {
        "id": "dJ9G63WKAWDI"
      },
      "source": [
        "class MyClass():\n",
        "  def myClassFunc(self):\n",
        "    myFunc('Hello ', 'world')"
      ],
      "execution_count": 19,
      "outputs": []
    },
    {
      "cell_type": "markdown",
      "metadata": {
        "id": "4oZgVJy8A0nv"
      },
      "source": [
        "Nous avons définie notre classe de façon similaire à une fonction, mais en utilisant le mot-clé ```classe```. Une classe ne prends pas d'arguments dans sa définition, mais peut hériter d'une autre classe alors indiquée dans les parenthèse, cependant cela sort du cadre de cette formation pratique.\n",
        "\n",
        "À l'intérieur de notre définition de classe, nous avons définies une fonction. Ces fonctions sont appellées des \"méthodes\" de la classe, et elles peuvent être appellées de la façon suivante :"
      ]
    },
    {
      "cell_type": "code",
      "metadata": {
        "colab": {
          "base_uri": "https://localhost:8080/"
        },
        "id": "A0QcpqqtBV8_",
        "outputId": "324d1f37-8de7-4f3a-e2e3-0f34b19c716e"
      },
      "source": [
        "class_ex = MyClass() # instancie un élement de notre classe\n",
        "class_ex.myClassFunc() # Execute la methode que nous avons definie, ce qui imprime 'Hello world !'"
      ],
      "execution_count": 20,
      "outputs": [
        {
          "output_type": "stream",
          "text": [
            "Hello world !\n"
          ],
          "name": "stdout"
        }
      ]
    },
    {
      "cell_type": "markdown",
      "metadata": {
        "id": "BRvILmziBkHq"
      },
      "source": [
        "On remarquera que la méthode définie prends en argument 'self'. Ce mot-clé réfère en fait à l'instanciation de la classe qui exécutera la méthode. L'avantage des classes est entre autre que ses méthodes peuvent interagir avec des variables propres à l'instanciation de la classe, que nous appellerons attributs :"
      ]
    },
    {
      "cell_type": "code",
      "metadata": {
        "id": "JaAWUj73B_Yi"
      },
      "source": [
        "class MyClass():\n",
        "  def myClassFunc(self):\n",
        "    self.x = 3\n",
        "    myFunc('Hello ', 'world')"
      ],
      "execution_count": 26,
      "outputs": []
    },
    {
      "cell_type": "markdown",
      "metadata": {
        "id": "WwAJYRmICEkM"
      },
      "source": [
        "Dans cette nouvelle définition, lorsque nous éxecutons la méthode ```myClassFunc```, nous stockons la valeur '3' dans l'attribut 'x' de l'instance qui exécute la méthode. Voyons comment nous pouvons ensuite y accéder :"
      ]
    },
    {
      "cell_type": "code",
      "metadata": {
        "colab": {
          "base_uri": "https://localhost:8080/"
        },
        "id": "SxfTaX3xCO7h",
        "outputId": "460517a5-24be-4682-f39e-d3be245d26ce"
      },
      "source": [
        "class_ex = MyClass()\n",
        "class_ex.myClassFunc()\n",
        "print(class_ex.x)"
      ],
      "execution_count": 27,
      "outputs": [
        {
          "output_type": "stream",
          "text": [
            "Hello world !\n",
            "3\n"
          ],
          "name": "stdout"
        }
      ]
    },
    {
      "cell_type": "markdown",
      "metadata": {
        "id": "uy19irxBCfjc"
      },
      "source": [
        "Lorsque nous avons éxécuté ```class_ex.myClassFunc()```, nous avons assigné la valeur 3 à l'attribut ```x``` de ```class_ex```, auquel on peut donc accéder avec ```class_ex.x```.\n",
        "\n",
        "Notons que si l'on n'exécute pas la méthode, l'attribut n'est jamais assigné, et si l'on essaye d'y accéder, on obtient donc une erreur:"
      ]
    },
    {
      "cell_type": "code",
      "metadata": {
        "colab": {
          "base_uri": "https://localhost:8080/",
          "height": 181
        },
        "id": "4515655yCzwi",
        "outputId": "ee476e95-0aa3-4042-f4cd-445c7d3b9f02"
      },
      "source": [
        "class_ex = MyClass()\n",
        "print(class_ex.x)"
      ],
      "execution_count": 28,
      "outputs": [
        {
          "output_type": "error",
          "ename": "AttributeError",
          "evalue": "ignored",
          "traceback": [
            "\u001b[0;31m---------------------------------------------------------------------------\u001b[0m",
            "\u001b[0;31mAttributeError\u001b[0m                            Traceback (most recent call last)",
            "\u001b[0;32m<ipython-input-28-73bb76a1d892>\u001b[0m in \u001b[0;36m<module>\u001b[0;34m()\u001b[0m\n\u001b[1;32m      1\u001b[0m \u001b[0mclass_ex\u001b[0m \u001b[0;34m=\u001b[0m \u001b[0mMyClass\u001b[0m\u001b[0;34m(\u001b[0m\u001b[0;34m)\u001b[0m\u001b[0;34m\u001b[0m\u001b[0;34m\u001b[0m\u001b[0m\n\u001b[0;32m----> 2\u001b[0;31m \u001b[0mprint\u001b[0m\u001b[0;34m(\u001b[0m\u001b[0mclass_ex\u001b[0m\u001b[0;34m.\u001b[0m\u001b[0mx\u001b[0m\u001b[0;34m)\u001b[0m\u001b[0;34m\u001b[0m\u001b[0;34m\u001b[0m\u001b[0m\n\u001b[0m",
            "\u001b[0;31mAttributeError\u001b[0m: 'MyClass' object has no attribute 'x'"
          ]
        }
      ]
    },
    {
      "cell_type": "markdown",
      "metadata": {
        "id": "JprNKb0HC5yc"
      },
      "source": [
        "Il y a beaucoup d'autres aspects pour maitriser l'utilisations des classes en python. Pour en apprendre plus, se référer aux ressources citées au début de la formation pratique"
      ]
    },
    {
      "cell_type": "markdown",
      "metadata": {
        "id": "idaVglh9LlEs"
      },
      "source": [
        "### 1.1.5 Les boucles\n",
        "\n",
        "Pour écrire une boucle en python, on peut soit parcourir les élements d'une liste, soit continuer tant qu'une condition est vérifiée"
      ]
    },
    {
      "cell_type": "code",
      "metadata": {
        "colab": {
          "base_uri": "https://localhost:8080/"
        },
        "id": "ypChJjBkMMmF",
        "outputId": "56776f39-655a-4f19-e08d-7c5c99118721"
      },
      "source": [
        "i = 0\n",
        "while i < 5:\n",
        "  print(i)\n",
        "  i += 1"
      ],
      "execution_count": 63,
      "outputs": [
        {
          "output_type": "stream",
          "text": [
            "0\n",
            "1\n",
            "2\n",
            "3\n",
            "4\n"
          ],
          "name": "stdout"
        }
      ]
    },
    {
      "cell_type": "markdown",
      "metadata": {
        "id": "wTtj_hfwMRHr"
      },
      "source": [
        "Ce code très simple boucle tant que i est strictement plus petit que 5. Puisque l'on part de 0 et augmente i à chaque itération, on exécute la boucle 5 fois en tout. Pour cela, on utilise le mot-clé ```while```, suivis d'une condition, puis d'un ```:``` et enfin d'un bloc indenté correspondant à une itération de la boucle\n",
        "\n",
        "On peut aussi (et ce sera le plus souvent le cas) utiliser une boucle ```for``` qui parcourt les élements d'une liste (voir section #1.2.2 pour plus d'informations sur les listes). "
      ]
    },
    {
      "cell_type": "code",
      "metadata": {
        "colab": {
          "base_uri": "https://localhost:8080/"
        },
        "id": "1jTVwUYYMe3f",
        "outputId": "09c27bb1-48ad-40a1-d089-a44fe77d2c92"
      },
      "source": [
        "myList = [1, 2, 3]\n",
        "for n in myList:\n",
        "  print(n)"
      ],
      "execution_count": 64,
      "outputs": [
        {
          "output_type": "stream",
          "text": [
            "1\n",
            "2\n",
            "3\n"
          ],
          "name": "stdout"
        }
      ]
    },
    {
      "cell_type": "markdown",
      "metadata": {
        "id": "lqEhjIPJM-St"
      },
      "source": [
        "Le code précédent parcourt les éléments de la liste ```myList```, et pour chaque tel élément n, éxecute ```print(n)```.\n",
        "\n",
        "Pour parcourir les éléments i allant de 0 à 8 par exemple, on peut utiliser la méthode suivante :"
      ]
    },
    {
      "cell_type": "code",
      "metadata": {
        "colab": {
          "base_uri": "https://localhost:8080/"
        },
        "id": "Sy6QrlExNMg0",
        "outputId": "06678f76-d7d7-43c1-d3be-a91b45b8486e"
      },
      "source": [
        "for i in range(0, 9):\n",
        "  print(i)"
      ],
      "execution_count": 65,
      "outputs": [
        {
          "output_type": "stream",
          "text": [
            "0\n",
            "1\n",
            "2\n",
            "3\n",
            "4\n",
            "5\n",
            "6\n",
            "7\n",
            "8\n"
          ],
          "name": "stdout"
        }
      ]
    },
    {
      "cell_type": "markdown",
      "metadata": {
        "id": "nniGbgNuNwgK"
      },
      "source": [
        "### 1.1.6 Importation\n",
        "\n",
        "Nous allons parfois avoir besoin d'importer des fonctions venant de librairies externes. Pour cela, nous allons utiliser le mot-clé ```import```.\n",
        "\n",
        "Par exemple, pour importer la librairie numpy, dont nous nous servirons dans la section 1.3, on execute la commande suivante :"
      ]
    },
    {
      "cell_type": "code",
      "metadata": {
        "id": "nzuZl0HrN6Pb"
      },
      "source": [
        "import numpy as np"
      ],
      "execution_count": 68,
      "outputs": []
    },
    {
      "cell_type": "markdown",
      "metadata": {
        "id": "bBWpTcb4OFtU"
      },
      "source": [
        "Nous pouvons maintenant accéder à toutes les fonctions de la librairies numpy en leur rajoutant le prefixe 'np'. Par exemple, ```np.mean(x)``` appliquera la fonction ```mean``` de numpy à la variable ```x```."
      ]
    },
    {
      "cell_type": "markdown",
      "metadata": {
        "id": "042Wn1mTDBxb"
      },
      "source": [
        "## 1.2 Types de données et opérations de base\n",
        "\n",
        "Voyons maintenant les principaux types de données en python et comment les manipuler"
      ]
    },
    {
      "cell_type": "markdown",
      "metadata": {
        "id": "x09ZW_zkDMNi"
      },
      "source": [
        "### 1.2.1 Int et float\n",
        "\n",
        "Int et float correspondent respectivement aux entiers et aux réels continus.\n",
        "Si une opération implique un int et un float, le int sera automatiquement convertis en float, et le résultat sera du type float. Voyons quelques opérations de base:"
      ]
    },
    {
      "cell_type": "code",
      "metadata": {
        "colab": {
          "base_uri": "https://localhost:8080/"
        },
        "id": "mbLrCiaZDnSY",
        "outputId": "3df72d79-99cc-4712-dca3-b3f7ab989500"
      },
      "source": [
        "x = 4.\n",
        "print(x + 1)   # Addition\n",
        "print(x - 3) # Soustraction\n",
        "print(x * 2.7) # Multiplication\n",
        "print(x / 2) # Division\n",
        "print(x ** 3)  # Puissance"
      ],
      "execution_count": 32,
      "outputs": [
        {
          "output_type": "stream",
          "text": [
            "5.0\n",
            "1.0\n",
            "10.8\n",
            "2.0\n",
            "64.0\n"
          ],
          "name": "stdout"
        }
      ]
    },
    {
      "cell_type": "markdown",
      "metadata": {
        "id": "aSE5pHv3D_n4"
      },
      "source": [
        "La valeur d'une variable int ou float peut être mise à jour incrémentalement avec les opérations suivantes:"
      ]
    },
    {
      "cell_type": "code",
      "metadata": {
        "colab": {
          "base_uri": "https://localhost:8080/"
        },
        "id": "auQmVMwfEGtz",
        "outputId": "9dc401b2-b8f2-4161-cce1-e82bb96cdaeb"
      },
      "source": [
        "x = 3\n",
        "print(x)\n",
        "x += 2 # augmente x de 2\n",
        "print(x)\n",
        "x -= 7 # réduit x de 7\n",
        "print(x)\n",
        "x *= -1 # multiplie x par -1\n",
        "print(x)"
      ],
      "execution_count": 33,
      "outputs": [
        {
          "output_type": "stream",
          "text": [
            "3\n",
            "5\n",
            "-2\n",
            "2\n"
          ],
          "name": "stdout"
        }
      ]
    },
    {
      "cell_type": "markdown",
      "metadata": {
        "id": "7ctwrHyREa6Q"
      },
      "source": [
        "### 1.2.2 Strings et list\n",
        "\n",
        "Bien que ce soit deux types de données différents, cette section traite simultanément des chaines de caractères et des listes car nous allons voir qu'elles partagent de nombreux points communs. Une liste est une séquence d'objets python quelconques, pouvant avoir des types différents. Une chaine de caractère est une phrase, interprétées comme une liste de caractères alphabétiques. Définissons notre première chaine de caractère et notre première liste:\n",
        "\n"
      ]
    },
    {
      "cell_type": "code",
      "metadata": {
        "id": "lFNDvwoUFb4F"
      },
      "source": [
        "myString = 'a8un7.3'\n",
        "myList = ['a', 8, 'un', 7.3, 8, 'a', 'b']"
      ],
      "execution_count": 46,
      "outputs": []
    },
    {
      "cell_type": "markdown",
      "metadata": {
        "id": "7JUGMHPOFtfl"
      },
      "source": [
        "Les listes sont définies entre crochets et les éléments sont séparés par des virgules, alors que les strings sont définis entre ```'``` ou entre ```\"```. La plupart des types de données pythons peuvent être convertis en string en utilisant la fonction ```str()```"
      ]
    },
    {
      "cell_type": "code",
      "metadata": {
        "id": "mTB6vW7_F1rz"
      },
      "source": [
        "a = 8  # a est du type int\n",
        "b = str(a) # equivalent à b = '8'\n",
        "a = [2.3, 4] # a est du type list\n",
        "b = str(a) # equivalent à b = '[2.3, 4]'"
      ],
      "execution_count": 48,
      "outputs": []
    },
    {
      "cell_type": "markdown",
      "metadata": {
        "id": "Bo4YL8xbGpi5"
      },
      "source": [
        "Voyons quelques opérations de base sur les string et les lists :"
      ]
    },
    {
      "cell_type": "code",
      "metadata": {
        "colab": {
          "base_uri": "https://localhost:8080/"
        },
        "id": "jOCHTRE9Gt-F",
        "outputId": "6ee94079-3cf2-4117-e6da-a63270406431"
      },
      "source": [
        "print(myString + 'HelloWorld') # concatène deux strings\n",
        "print(myList + [2, 3, 4])      # concatène deux lists\n",
        "print(len(myString))      # calcule la longueur du string\n",
        "print(len(myList))        # calcule la longueur de la liste"
      ],
      "execution_count": 49,
      "outputs": [
        {
          "output_type": "stream",
          "text": [
            "a8un7.3HelloWorld\n",
            "['a', 8, 'un', 7.3, 8, 'a', 'b', 2, 3, 4]\n",
            "7\n",
            "7\n"
          ],
          "name": "stdout"
        }
      ]
    },
    {
      "cell_type": "code",
      "metadata": {
        "colab": {
          "base_uri": "https://localhost:8080/"
        },
        "id": "UM2Q3KMYHJHE",
        "outputId": "01a5f439-1d17-4265-8e1a-9041fdd1877b"
      },
      "source": [
        "print(myString[3])  # accède au 3ème élement du string\n",
        "print(myList[2])    # accède au 2ème élement de la list\n",
        "print(myString[4:7]) # calcule le sous-string constitué par tout les élements de la 4ème (inclue) position jusqu'à la 7ème (exclue) position\n",
        "print(myList[0:3]) # calcule la sous-liste constitué par tout les élements de la 0ème (inclue) position jusqu'à la 3ème (exclue) position"
      ],
      "execution_count": 50,
      "outputs": [
        {
          "output_type": "stream",
          "text": [
            "n\n",
            "un\n",
            "7.3\n",
            "['a', 8, 'un']\n"
          ],
          "name": "stdout"
        }
      ]
    },
    {
      "cell_type": "markdown",
      "metadata": {
        "id": "eZX6wIa1HzRo"
      },
      "source": [
        "Notez que l'indexation commence toujours à 0 en python. Ainsi, le premier élement de ```myList``` est dénoté ```myList[0]```, le second ```myList[1]``` etc..."
      ]
    },
    {
      "cell_type": "markdown",
      "metadata": {
        "id": "EaFcdKf7Ib5p"
      },
      "source": [
        "Les éléments d'une liste python peuvent être efficacement modifiés, on notera en particulier :"
      ]
    },
    {
      "cell_type": "code",
      "metadata": {
        "colab": {
          "base_uri": "https://localhost:8080/"
        },
        "id": "FG71fkWGIh7O",
        "outputId": "56259d65-0fb8-4add-c830-c54039bc74cd"
      },
      "source": [
        "list_ex = [1,2,3,4,5]\n",
        "print(list_ex)\n",
        "list_ex[3] = 8  # le 3éme élement est désormais égal à 8\n",
        "print(list_ex)\n",
        "list_ex.append(0) # on ajoute un 0 à la fin de list_ex\n",
        "print(list_ex)\n",
        "x = list_ex.pop() # on retire le dernier élement, et on le stock dans x\n",
        "print(x)\n",
        "print(list_ex)"
      ],
      "execution_count": 52,
      "outputs": [
        {
          "output_type": "stream",
          "text": [
            "[1, 2, 3, 4, 5]\n",
            "[1, 2, 3, 8, 5]\n",
            "[1, 2, 3, 8, 5, 0]\n",
            "0\n",
            "[1, 2, 3, 8, 5]\n"
          ],
          "name": "stdout"
        }
      ]
    },
    {
      "cell_type": "markdown",
      "metadata": {
        "id": "wwDt26yCJwqZ"
      },
      "source": [
        "Enfin, voici une syntaxe utile pour manipuler des listes"
      ]
    },
    {
      "cell_type": "code",
      "metadata": {
        "colab": {
          "base_uri": "https://localhost:8080/"
        },
        "id": "HK2BlrppJ69b",
        "outputId": "ace03f7a-72a4-43e7-ca9b-32ef5f7d3969"
      },
      "source": [
        "myList1 = [3, 4, 5, 5, 6, 1, 2]\n",
        "myList2 = [var + 2 for var in myList1]\n",
        "print(myList2)"
      ],
      "execution_count": 57,
      "outputs": [
        {
          "output_type": "stream",
          "text": [
            "[5, 6, 7, 7, 8, 3, 4]\n"
          ],
          "name": "stdout"
        }
      ]
    },
    {
      "cell_type": "markdown",
      "metadata": {
        "id": "Y6Js3AWFKE-5"
      },
      "source": [
        "La syntaxe utilisée pour définir myList2 peut être interprétée comme 'la liste des var+2 lorsque var parcourt ```myList1```'"
      ]
    },
    {
      "cell_type": "markdown",
      "metadata": {
        "id": "iuk2KN8wJDs8"
      },
      "source": [
        "### 1.2.3 Booléens\n",
        "\n",
        "Les Booléens sont un type de données ne contenant que ```True``` et ```False``` comme seule évaluation possibles. Ils sont notament utilisés dans les blocs ```if```."
      ]
    },
    {
      "cell_type": "code",
      "metadata": {
        "id": "RDGQNftFJXyQ"
      },
      "source": [
        "t = True\n",
        "f = False\n",
        "\n",
        "if t:\n",
        "  print('true !')\n",
        "if f:\n",
        "  print('false !')"
      ],
      "execution_count": null,
      "outputs": []
    },
    {
      "cell_type": "markdown",
      "metadata": {
        "id": "nclRt9EHJmns"
      },
      "source": [
        "Les booléens possèdent leurs propres opérations :"
      ]
    },
    {
      "cell_type": "code",
      "metadata": {
        "id": "bHqnnatrKWPg"
      },
      "source": [
        "print(t and f) # conjonction\n",
        "print(t or f)  # disjonction\n",
        "print(not t)   # negation"
      ],
      "execution_count": null,
      "outputs": []
    },
    {
      "cell_type": "markdown",
      "metadata": {
        "id": "7eCyzaoFKskK"
      },
      "source": [
        "Les booléens sont souvent créés en testant une équation mathématique. Attention cependant, puisque le '=' est déjà utilisé pour l'attribution de variable, on utilisera '==' pour vérifier une égalité et l'interpréter comme un booléen:"
      ]
    },
    {
      "cell_type": "code",
      "metadata": {
        "colab": {
          "base_uri": "https://localhost:8080/"
        },
        "id": "zyd-b9e5K74v",
        "outputId": "9e623fc9-65ee-4d25-ea7b-435e237ca2cd"
      },
      "source": [
        "print(5 > 3)  # str. superior\n",
        "print(5 <= 3) # inferior or equal\n",
        "print(5 == 3) # equal\n",
        "print(5 != 3) # not equal"
      ],
      "execution_count": 58,
      "outputs": [
        {
          "output_type": "stream",
          "text": [
            "True\n",
            "False\n",
            "False\n",
            "True\n"
          ],
          "name": "stdout"
        }
      ]
    },
    {
      "cell_type": "markdown",
      "metadata": {
        "id": "zg43OJFALPSw"
      },
      "source": [
        "Python possède de nombreux autres types de données, comme les tuples, les dictionnaires, les ensembles, etc. Pour en apprendre plus, se référer aux ressources citées au début de la formation pratique. "
      ]
    },
    {
      "cell_type": "markdown",
      "metadata": {
        "id": "2J_VEEAWNavK"
      },
      "source": [
        "## 1.3 NumPy\n",
        "\n",
        "NumPy est une librairie indispensable en NumPy. Elle nous permettra de définir un nouveau type de données, les \"arrays\" (tableaux) qui nous permettra de réaliser efficacement des calcules matriciels et autres opérations mathématiques. \n",
        "\n",
        "Commençons par importer NumPy (voir #1.1.6)"
      ]
    },
    {
      "cell_type": "code",
      "metadata": {
        "id": "nyjPHmfyOYbM"
      },
      "source": [
        "import numpy as np"
      ],
      "execution_count": 1,
      "outputs": []
    },
    {
      "cell_type": "markdown",
      "metadata": {
        "id": "rChvLOsPOhmc"
      },
      "source": [
        "### 1.3.1 Tableaux (arrays)\n",
        "\n",
        "Nous pouvons à présent définir des tableaux, par exemple en convertissant une liste en tableau :"
      ]
    },
    {
      "cell_type": "code",
      "metadata": {
        "colab": {
          "base_uri": "https://localhost:8080/"
        },
        "id": "7mrmTLC-OnOn",
        "outputId": "4e2c492c-f8ce-4976-c93f-9311c01904ea"
      },
      "source": [
        "a = np.array([1,2,3])\n",
        "print(a)\n",
        "b = np.array([[1,2,3],[4,5,6],[7,8,9]])\n",
        "print(b)"
      ],
      "execution_count": 72,
      "outputs": [
        {
          "output_type": "stream",
          "text": [
            "[1 2 3]\n",
            "[[1 2 3]\n",
            " [4 5 6]\n",
            " [7 8 9]]\n"
          ],
          "name": "stdout"
        }
      ]
    },
    {
      "cell_type": "markdown",
      "metadata": {
        "id": "lNz7mhRQOwaE"
      },
      "source": [
        "On remarquera que dans ce cas, ```b``` est defini à partir d'une liste de liste, et sera donc interprété comme une matrice de deux dimension (3x3) dans ce cas. On peut regarder la forme d'un tableau en utilisant ```shape```"
      ]
    },
    {
      "cell_type": "code",
      "metadata": {
        "colab": {
          "base_uri": "https://localhost:8080/"
        },
        "id": "MiN_Z2PHO8QV",
        "outputId": "9aaf0a22-8ecc-47cc-beb2-226a3436da07"
      },
      "source": [
        "print(a.shape)\n",
        "print(b.shape)"
      ],
      "execution_count": 73,
      "outputs": [
        {
          "output_type": "stream",
          "text": [
            "(3,)\n",
            "(3, 3)\n"
          ],
          "name": "stdout"
        }
      ]
    },
    {
      "cell_type": "markdown",
      "metadata": {
        "id": "x2qdg6HOO-uS"
      },
      "source": [
        "Comme avec les listes, nous pouvons reassigner les élements d'un array et y accéder. Si un tableau est en plusieurs dimension, on y accède en lui donnant la liste des index :"
      ]
    },
    {
      "cell_type": "code",
      "metadata": {
        "colab": {
          "base_uri": "https://localhost:8080/"
        },
        "id": "DwYmngROPGba",
        "outputId": "b777ff4a-ad8d-4c02-aeb6-fa181b4e5c90"
      },
      "source": [
        "print(b[1,2]) # imprime l'élement de la ligne 1, colonne 2 de b\n",
        "print(b[2,0]) # imprime l'élement de la ligne 2, colonne 0 de b\n",
        "\n",
        "# Ne pas oublier que la colonne 2, en python, correspond a la troisieme colonne ! la premiere colonne est indiquee comme etant la colonne 0"
      ],
      "execution_count": 75,
      "outputs": [
        {
          "output_type": "stream",
          "text": [
            "6\n",
            "7\n"
          ],
          "name": "stdout"
        }
      ]
    },
    {
      "cell_type": "markdown",
      "metadata": {
        "id": "oAMCC9PPPmSZ"
      },
      "source": [
        "On peut aussi créer des tableaux remplis de 1 ou de 0, en indiquant uniquement la forme voulue :"
      ]
    },
    {
      "cell_type": "code",
      "metadata": {
        "colab": {
          "base_uri": "https://localhost:8080/"
        },
        "id": "7MlTJAb0Pr-4",
        "outputId": "f295fa61-decd-4dce-8479-e33bdc651051"
      },
      "source": [
        "a = np.ones((4,3,2))\n",
        "b = np.zeros((2,))\n",
        "print(a)\n",
        "print(b)"
      ],
      "execution_count": 78,
      "outputs": [
        {
          "output_type": "stream",
          "text": [
            "[[[1. 1.]\n",
            "  [1. 1.]\n",
            "  [1. 1.]]\n",
            "\n",
            " [[1. 1.]\n",
            "  [1. 1.]\n",
            "  [1. 1.]]\n",
            "\n",
            " [[1. 1.]\n",
            "  [1. 1.]\n",
            "  [1. 1.]]\n",
            "\n",
            " [[1. 1.]\n",
            "  [1. 1.]\n",
            "  [1. 1.]]]\n",
            "[0. 0.]\n"
          ],
          "name": "stdout"
        }
      ]
    },
    {
      "cell_type": "markdown",
      "metadata": {
        "id": "DYcTi5feP2UF"
      },
      "source": [
        "Dans cet exemple, a est une matrice de dimension 3 (taille 4x3x2) remplies de '1', alors que b est une matrice de dimension 1 (taille 2) remplies de '0'."
      ]
    },
    {
      "cell_type": "markdown",
      "metadata": {
        "id": "TbdX0lPjQRGB"
      },
      "source": [
        "La librairie numpy dispose d'un grand nombre d'implementation d'operations mathematique utiles:"
      ]
    },
    {
      "cell_type": "code",
      "metadata": {
        "colab": {
          "base_uri": "https://localhost:8080/"
        },
        "id": "YS66B68aQYbu",
        "outputId": "bb5b234f-f21e-4fa0-8ca5-50cf7437676f"
      },
      "source": [
        "a = np.ones((2,3))\n",
        "\n",
        "print(np.mean(a)) # calcule la valeur moyenne des éléments de a\n",
        "print(np.var(a)) # calcule la variance des élements de a\n",
        "\n",
        "print(np.mean(a, axis=0)) # calcule la moyenne des élements de 'a' pour chaque ligne, et les renvoie dans un nouveau tableau"
      ],
      "execution_count": 85,
      "outputs": [
        {
          "output_type": "stream",
          "text": [
            "1.0\n",
            "0.0\n",
            "[1. 1. 1.]\n"
          ],
          "name": "stdout"
        }
      ]
    },
    {
      "cell_type": "code",
      "metadata": {
        "colab": {
          "base_uri": "https://localhost:8080/"
        },
        "id": "o84xWDtOQeaf",
        "outputId": "1f166d78-c897-4e84-b0ef-62dae0e96247"
      },
      "source": [
        "a = np.ones((2,3))\n",
        "b = np.ones((3,4))\n",
        "\n",
        "print(np.dot(a,b)) # calcule le produit matriciel de a par b\n",
        "print(a + a) # additionne a avec lui-même"
      ],
      "execution_count": 86,
      "outputs": [
        {
          "output_type": "stream",
          "text": [
            "[[3. 3. 3. 3.]\n",
            " [3. 3. 3. 3.]]\n",
            "[[2. 2. 2.]\n",
            " [2. 2. 2.]]\n"
          ],
          "name": "stdout"
        }
      ]
    },
    {
      "cell_type": "markdown",
      "metadata": {
        "id": "fjD4UXDdXdfQ"
      },
      "source": [
        "Numpy permets d'implémenter très simplement des opérations qui necessiteraient normalement un certain nombre de boucles :"
      ]
    },
    {
      "cell_type": "code",
      "metadata": {
        "colab": {
          "base_uri": "https://localhost:8080/"
        },
        "id": "taXOv_paXoe4",
        "outputId": "4a00ebe9-79ed-426c-f5aa-72d05e1b71ab"
      },
      "source": [
        "a = np.array([[0,1,2,3],[4,5,6,7]])\n",
        "print(a)\n",
        "print(a > 2) # a>2 calcule pour chaque élément de a si il est superieur à deux, et renvoie le résultat sous forme d'un array de même taille\n",
        "print(a[a > 2]) # renvoie la liste des éléments de a aux indices où a est plus grand que 2. Donc, la liste des élements de a plus grand que 2."
      ],
      "execution_count": 89,
      "outputs": [
        {
          "output_type": "stream",
          "text": [
            "[[0 1 2 3]\n",
            " [4 5 6 7]]\n",
            "[[False False False  True]\n",
            " [ True  True  True  True]]\n",
            "[3 4 5 6 7]\n"
          ],
          "name": "stdout"
        }
      ]
    },
    {
      "cell_type": "markdown",
      "metadata": {
        "id": "t4oAc2mAYKj1"
      },
      "source": [
        "### 1.3.2 Géneration Aléatoire\n",
        "\n",
        "Numpy est aussi utilisé pour génerer des valeurs aléatoire. Pour cela, on se sert de numpy.random \n"
      ]
    },
    {
      "cell_type": "code",
      "metadata": {
        "colab": {
          "base_uri": "https://localhost:8080/"
        },
        "id": "tsTvFdIbYrn4",
        "outputId": "61d5e8e6-c924-462c-a18a-fa63be7d74cf"
      },
      "source": [
        "print(np.random.randn(3,2)) # genere un tableau de forme 3x2 dont les élements sont tirés d'une normale de moyenne 0 et variance 1\n",
        "print(np.random.randint(100)) # genere un entier aleatoire entre 0 et 99"
      ],
      "execution_count": 112,
      "outputs": [
        {
          "output_type": "stream",
          "text": [
            "[[-0.19398987  0.34084579]\n",
            " [ 0.59450957  1.292418  ]\n",
            " [ 1.55976568 -0.46903399]]\n",
            "47\n"
          ],
          "name": "stdout"
        }
      ]
    },
    {
      "cell_type": "markdown",
      "metadata": {
        "id": "eOerI7u9ZLJ3"
      },
      "source": [
        "On peut fixer le \"seed\" de numpy, ce qui permettra de reproduire les mêmes générations aléatoires à chaque éxecution, et donc d'avoir des résultat reproduisibles:"
      ]
    },
    {
      "cell_type": "code",
      "metadata": {
        "colab": {
          "base_uri": "https://localhost:8080/"
        },
        "id": "D0iwCEO_Za61",
        "outputId": "abfdc9e6-ba56-4439-9495-8cb1d3340b9f"
      },
      "source": [
        "np.random.seed(seed=1)\n",
        "print(np.random.randint(10**9))\n",
        "\n",
        "np.random.seed(seed=3)\n",
        "print(np.random.randint(10**9))\n",
        "\n",
        "np.random.seed(seed=1)\n",
        "print(np.random.randint(10**9))"
      ],
      "execution_count": 5,
      "outputs": [
        {
          "output_type": "stream",
          "text": [
            "717354021\n",
            "218175338\n",
            "717354021\n"
          ],
          "name": "stdout"
        }
      ]
    },
    {
      "cell_type": "markdown",
      "metadata": {
        "id": "WWmQp78daLLP"
      },
      "source": [
        "Le 1er et le 3eme entier génerés sont les mêmes car ils ont été générés après avoir fixé le seed à la même valeur. Le second n'est pas le même, car le seed diffère. À chaque éxecution, on obtient les mêmes valeurs, car les seeds sont fixés"
      ]
    }
  ]
}