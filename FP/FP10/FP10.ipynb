{
  "nbformat": 4,
  "nbformat_minor": 0,
  "metadata": {
    "colab": {
      "name": "Démo10.ipynb",
      "provenance": [],
      "toc_visible": true
    },
    "kernelspec": {
      "display_name": "Python 3",
      "language": "python",
      "name": "python3"
    },
    "language_info": {
      "codemirror_mode": {
        "name": "ipython",
        "version": 3
      },
      "file_extension": ".py",
      "mimetype": "text/x-python",
      "name": "python",
      "nbconvert_exporter": "python",
      "pygments_lexer": "ipython3",
      "version": "3.9.1"
    }
  },
  "cells": [
    {
      "cell_type": "markdown",
      "metadata": {
        "id": "f4FLQOS4tWQv"
      },
      "source": [
        "# Formation Pratique 10  - Confidentialité différentielle \n",
        "\n"
      ]
    },
    {
      "cell_type": "markdown",
      "metadata": {
        "id": "fWmLK6OIJnoh"
      },
      "source": [
        "## 10.1.1 Anonymiser\n",
        "Jusqu'à maintenant nous avons étudié plusieurs méthodes permettant de tirer des conclusions à partir de jeux de données. Or, en pratique, ces jeux de données contiennent souvent des informations privés. Par exemple, une compagnie qui récolte des données sur la santé physique pourrait vouloir partager ses données tout en protégeant la vie privée de ses utilisateurs. S'il est possible de retracer les résultats d'une personne, cela pourrait avoir des conséquences désastreuses (ex. assurances). La première étape consiste naturellement à retirer les informations qui permettraient de directement retracer un participant (i.e. qui sont uniques à un participant): son nom, son numéro de téléphone, son adresse, etc. Or, cette précaution n'est pas suffisante...\n",
        "\n"
      ]
    },
    {
      "cell_type": "markdown",
      "metadata": {
        "id": "ywI2-4yVJo4q"
      },
      "source": [
        "## 10.1.2 Linkage Attack\n",
        "En utilisant plusieurs jeux de données ayant un même participant, il est possible de le retracer même si les jeux de données ont été anonymisés. Pour reprendre un exemple non-fictif (Sweeney, 2002), il a été possible de retracer les données médicales du gouverneur du Massachusetts en utilisant plusieurs jeux de données. Un premier jeu de données, le *National Association of Health Data Organizations*, contenant des dossiers médicaux avait été rendu publique. Il contenait des informations comme: la date de visite, le diagnostic, l'ethnicité, le sexe, la date de naissance, le code postal, etc. En utilisant un second jeu de données, la liste électorale de Cambridge (qui contient le nom des personnes ainsi que la date de naisance et le code postal), il a été possible de la comparer aux dossiers médicaux anonymisés pour le lier au gouverneur  (voir l'image ci-dessous tirée de Sweeney, 2002). Seulement cinq voteurs avaient la même date de naissance que le gouverneur et ces cinq personnes avaient tous un code postal différent...\n",
        "\n",
        "<img src=\"https://github.com/Cours-EDUlib/DIRO-SD1FR/blob/master/FP/FP10/linkage_attack.png?raw=1\" width=\"400\">\n",
        "\n",
        "Comment éviter ce genre d'attaque?\n",
        "\n"
      ]
    },
    {
      "cell_type": "markdown",
      "metadata": {
        "id": "6KFWsbzuJqMY"
      },
      "source": [
        "## 10.1.3 La k-anonymité\n",
        "Un jeu de données (ou en fait un rapport public présentant des statistiques) est dit k-anonyme si chaque individu est indistinguable d'au moins k-1 individus. En pratique, il existe plusieurs méthodes simples pour rendre un rapport k-anonyme dont la suppression et la généralisation. La suppression consiste simplement à retirer des colonnes. La généralisation consiste à grouper en catégorie certaine valeurs. Par exemple, pour reprendre l'exemple précédent, au lieu de publier la date de naissance, il aurait été possible de seulement garder l'année de naissance ou bien de créer des catégories d'âges (20 à 30 ans, 30 à 40 ans, etc). Voici un exemple tiré de Sweeney 2002 qui respecte la 2-anonymité où la donnée sensible est le problème de santé:\n",
        "\n",
        "| Race  | Birth|  Gender | ZIP   | Problem      |\n",
        "|-------|------|---------|-------|--------------|\n",
        "| Black | 1965 |  m      | 0214* | short breath |\n",
        "| Black | 1965 |  m      | 0214* | chest pain   |\n",
        "| Black | 1965 |  f      | 0213* | hypertension |\n",
        "| Black | 1965 |  f      | 0213* | hypertension |\n",
        "| Black | 1964 |  f      | 0213* | obesity      |\n",
        "| Black | 1964 |  f      | 0213* | chest pain   |\n",
        "| White | 1964 |  m      | 0213* | chest pain   |\n",
        "| White | 1964 |  m      | 0213* | obesity      |\n",
        "| White | 1964 |  m      | 0213* | short breath |\n",
        "| White | 1967 |  m      | 0213* | chest pain   |\n",
        "| White | 1967 |  m      | 0213* | chest pain   |\n",
        "\n",
        "C'est-à-dire que pour chaque entrée possible de race, année de naissance, genre et code postal (Race, Birth, Gender, ZIP), il y a au moins deux individus qui sont indistinguables: il ne serait pas possible de retracer une personne seulement avec ce rapport. \n",
        "\n",
        "Cependant, cette méthode contient plusieurs faiblesses: elle peut encore être la cible de \"linkage attack\". Si par exemple je sais que mon ami Jean a participé à l'étude et qu'il est un homme blanc né en 1967, je peux déduire qu'il a des douleurs à la poitrine (\"chest pain\"). Ce problème se nomme attaque par homogénéité. Pour contrer ce type d'attaque, une variante de k-anonymité a été proposé: la l-diversité (Machanavajjhala et al., 2007). Le principe est simple: on s'assure que pour chaque groupe ayant la même valeur, la variable sensible prend des valeurs diverses. Un autre type d'attaque: si je connais Jeanne qui est une femme noire née en 1964 et que je sais qu'elle n'est pas obèse, je peux déduire qu'elle a des douleurs à la poitrine. \n",
        "\n",
        "Bien que plusieurs améliorations ont été suggérée, il reste que lorsqu'on fait une aggrégation des données, on perd de l'information. Ces méthodes ne donnent aucune indication sur la perte d'information encourue. Par exemple, si pour s'assurer d'avoir la k-anonymité on devait faire une aggrégation de l'âge par tranche de 30 ans, il se peut que certaines corrélations statistiques ne soient plus observables. K-anonymité n'offre aucune balise sur le \"bruit\" qui est ajouté aux données."
      ]
    },
    {
      "cell_type": "markdown",
      "metadata": {
        "id": "VhcJNCdzXH_U"
      },
      "source": [
        "### Exercice \n",
        "\n",
        "Étant donné un jeu de données sous forme de $n$ entrées en $m$ dimensions, proposer une implémentation naive de la fonction **test_k_anonymity** dans la cellule de code ci-dessous, qui vérifie si la condition de k-anonymité est vérifiée par rapport à l'ensemble des features, autrement dit on veut s'assurer que tout élement a au moins k-1 copies exactes (on suppose que l'on a déjà sélectionné les variables pertinentes). Votre fonction peut avoir un temps de calcul quadratique en $n$, bien que cette complexité ne soit pas optimale. "
      ]
    },
    {
      "cell_type": "code",
      "metadata": {
        "id": "FiF_GpwmX3Qi"
      },
      "source": [
        "def test_k_anonymity(data, k):\n",
        "  # data is 2d matrix with entries as rows and features as columns. k is an integer.\n",
        "  # returns a boolean, True if data is k-anonymous and False otherwise\n",
        "  return"
      ],
      "execution_count": 12,
      "outputs": []
    },
    {
      "cell_type": "markdown",
      "metadata": {
        "id": "L-UDD763YGiJ"
      },
      "source": [
        "Testez à présent votre implémentation sur le jeu de données suivant. Est-il 2-anonyme ? Est-il 3-anonyme ?"
      ]
    },
    {
      "cell_type": "code",
      "metadata": {
        "id": "3l8vsTezYMae",
        "outputId": "ab6814c5-5aa3-4a8a-af0f-4f5a4eb73724",
        "colab": {
          "base_uri": "https://localhost:8080/"
        }
      },
      "source": [
        "data = [['male', '1988', 'France'],\n",
        "        ['female', '1992', 'United States'],\n",
        "        ['male', '1988', 'France'],\n",
        "        ['male', '1999', 'Germany'],\n",
        "        ['male', '1988', 'France'],\n",
        "        ['female', '1988', 'France'],\n",
        "        ['male', '1988', 'France'],\n",
        "        ['female', '1992', 'United States'],\n",
        "        ['male', '1999', 'Germany'],\n",
        "        ['male', '1999', 'Germany'],\n",
        "        ['female', '1988', 'France'],\n",
        "        ['female', '1992', 'United States']]\n",
        "\n",
        "print(test_k_anonymity(data, 2))\n",
        "print(test_k_anonymity(data, 3))\n"
      ],
      "execution_count": 13,
      "outputs": [
        {
          "output_type": "stream",
          "text": [
            "None\n",
            "None\n"
          ],
          "name": "stdout"
        }
      ]
    },
    {
      "cell_type": "markdown",
      "metadata": {
        "id": "PQ2XUMvTaTlE"
      },
      "source": [
        "#### Réponses (Essayez de trouver par vous-même avant de regarder les réponses)"
      ]
    },
    {
      "cell_type": "code",
      "metadata": {
        "id": "7HGQv5eeaXyk"
      },
      "source": [
        "def test_k_anonymity(data, k):\n",
        "  for x in data:\n",
        "    counter = 0\n",
        "    for y in data:\n",
        "      if y == x:\n",
        "        counter += 1\n",
        "    if counter < k:\n",
        "      return False\n",
        "  return True"
      ],
      "execution_count": 10,
      "outputs": []
    },
    {
      "cell_type": "markdown",
      "metadata": {
        "id": "QURXLP5RbIhf"
      },
      "source": [
        "On obtient que l'exemple de données est 2-anonyme, mais n'est pas 3 anonyme. En effet, l'élément ['female', '1988', 'France'] n'a que deux copies dans le tableau."
      ]
    },
    {
      "cell_type": "markdown",
      "metadata": {
        "id": "derugMFStWRF"
      },
      "source": [
        "## 10.2 Confidentialité différentielle\n",
        "La confidentialité différentielle (*differential privacy*) n'est pas un algorithme, mais plutôt une définition (ou un standard) d'un type de confidentialité. On veut que l'inclusion ou la non-inclusion d'une personne ne change pas le résultat d'une analyse (ex. calculer la moyenne de différents groupes).\n",
        "\n",
        "<img src=\"https://github.com/Cours-EDUlib/DIRO-SD1FR/blob/master/FP/FP10/dp_diagram.png?raw=1\" width=\"400\">\n",
        "\n",
        "Naturellement, cet idéal n'est pas atteignable: on ne peut parfaitement cacher l'information de tous les individus tout en conservant les mêmes données. Cependant, en tolérant une très petite variation ($\\epsilon$) entre les données (jeu de données complet vs jeu de données ne contenant pas un certain individu), on obtient quelque chose d'intéressant et de réalisable. On dira qu'un algorithme $\\mathcal{A}$ ayant une composante aléatoire respecte la *$\\epsilon$-confidentialité différentielle* si, pour tous jeux de données $D_1$ et $D_2$ qui ne varie que d'une entrée, on a:\n",
        "\n",
        "$$ P(\\mathcal{A}(D_1) \\in \\mathcal{S}) \\leq e^\\epsilon P(\\mathcal{A}(D_2) \\in \\mathcal{S}) $$\n",
        "\n",
        "où $\\mathcal{S}$ représente tous les sous-ensembles de l'image de $\\mathcal{A}$. Intuitivement, ce que l'on doit comprendre de cette définition, c'est que la probabilité d'obtenir un certain résultat doit être pratiquement la même (car pour $\\epsilon$ petit, $e^\\epsilon \\approx 1$) quand on enlève une entrée. Cette définition peut sembler complexe, mais en s'attaquant à un exemple concret ce sera plus clair...\n"
      ]
    },
    {
      "cell_type": "markdown",
      "metadata": {
        "id": "_8J6jSDl0zBP"
      },
      "source": [
        "### 10.2.1 Implémentation réponse aléatoire\n",
        "Un participant doit répondre à une question par oui ou non. Imaginez par exemple qu'on demande à cette personne si elle a déjà commis un crime. Le répondant veut que cette réponse reste confidentielle et pourrait ne pas vouloir répondre honnêtement. Or, en utilisant une petite astuce, on peut protéger l'information de la personne.\n",
        "\n",
        "On pourrait par exemple suggérer la méthode suivante: à chaque question la personne lance une pièce de monnaie. S'il obtient pile, il doit répondre honnêtement. S'il obtient face, il répond au hasard (il relance la pièce, pile=0, face=1). Au lieu d'une pièce de monnaie, on peut définir une distribution de Bernoulli tel que l'algorithme soit *$\\epsilon$-confidentialité différentiable*. Soit:\n",
        "\n",
        "$$ f(x) = \\begin{cases}\n",
        "             \\frac{1}{2} + \\alpha & si\\ x = 0 \\\\\n",
        "             \\frac{1}{2} - \\alpha & si\\ x = 1 \\\\\n",
        "          \\end{cases} $$\n",
        "          \n",
        "Si $ \\alpha = \\frac{1}{2}\\frac{e^\\epsilon - 1}{e^\\epsilon + 1} $, alors $f$ est *$\\epsilon$-confidentialité différentielle*. La preuve est assez simple:\n",
        "\n",
        "$$ P(\\mathcal{A}(D_1) \\in \\mathcal{S}) \\leq e^\\epsilon P(\\mathcal{A}(D_2) \\in \\mathcal{S}) $$\n",
        "\n",
        "$$ \\frac{P(\\mathcal{A}(D_1) \\in \\mathcal{S})}{P(\\mathcal{A}(D_2) \\in \\mathcal{S})} \\leq e^\\epsilon $$\n",
        "\n",
        "La plus grande différence entre $D_1$ et $D_2$ est obtenue lorsque $D_1$ contient 0 et $D_2$ contient 1.\n",
        "\n",
        "$$ \\frac{\\frac{1}{2} + \\alpha}{\\frac{1}{2} - \\alpha} \\leq e^\\epsilon $$\n",
        "\n",
        "$$ \\frac{\\frac{1}{2}(1 + \\frac{e^\\epsilon - 1}{e^\\epsilon + 1})}{\\frac{1}{2}(1 - \\frac{e^\\epsilon - 1}{e^\\epsilon + 1})} = e^\\epsilon $$"
      ]
    },
    {
      "cell_type": "markdown",
      "metadata": {
        "id": "9fe08kOV0t4q"
      },
      "source": [
        "### 10.2.2 Mécanisme de Laplace\n",
        "Supposons que la fonction qui nous intéresse est de compter le nombre d'individus selon une certaine condition. Par exemple, combien y a-t-il d'individu dans la tranche d'âge 20 à 30 ans? "
      ]
    },
    {
      "cell_type": "code",
      "metadata": {
        "id": "oWOPoYOJumrY"
      },
      "source": [
        "import pandas as pd\n",
        "import numpy as np\n",
        "\n",
        "!rm -rf DIRO-SD1FR\n",
        "!git clone https://github.com/Cours-EDUlib/DIRO-SD1FR\n",
        "import sys\n",
        "sys.path += ['DIRO-SD1FR/FP/FP10']"
      ],
      "execution_count": null,
      "outputs": []
    },
    {
      "cell_type": "code",
      "metadata": {
        "id": "HukERLKxtWRI"
      },
      "source": [
        "df = pd.read_csv('DIRO-SD1FR/FP/FP10/adult.csv')\n",
        "df['label'] = df['label'].astype(str)"
      ],
      "execution_count": null,
      "outputs": []
    },
    {
      "cell_type": "code",
      "metadata": {
        "colab": {
          "base_uri": "https://localhost:8080/",
          "height": 428
        },
        "id": "25xU4JYJtWRV",
        "outputId": "a1f74382-3d48-4872-83fe-4505209d59ef"
      },
      "source": [
        "df.head()"
      ],
      "execution_count": null,
      "outputs": [
        {
          "output_type": "execute_result",
          "data": {
            "text/html": [
              "<div>\n",
              "<style scoped>\n",
              "    .dataframe tbody tr th:only-of-type {\n",
              "        vertical-align: middle;\n",
              "    }\n",
              "\n",
              "    .dataframe tbody tr th {\n",
              "        vertical-align: top;\n",
              "    }\n",
              "\n",
              "    .dataframe thead th {\n",
              "        text-align: right;\n",
              "    }\n",
              "</style>\n",
              "<table border=\"1\" class=\"dataframe\">\n",
              "  <thead>\n",
              "    <tr style=\"text-align: right;\">\n",
              "      <th></th>\n",
              "      <th>age</th>\n",
              "      <th>workclass</th>\n",
              "      <th>fnlwgt</th>\n",
              "      <th>education</th>\n",
              "      <th>education-num</th>\n",
              "      <th>marital-status</th>\n",
              "      <th>occupation</th>\n",
              "      <th>relationship</th>\n",
              "      <th>race</th>\n",
              "      <th>sex</th>\n",
              "      <th>capital-gain</th>\n",
              "      <th>capital-loss</th>\n",
              "      <th>hours-per-week</th>\n",
              "      <th>native-country</th>\n",
              "      <th>label</th>\n",
              "      <th>postal codes</th>\n",
              "      <th>NAS</th>\n",
              "      <th>birthdate</th>\n",
              "      <th>name</th>\n",
              "    </tr>\n",
              "  </thead>\n",
              "  <tbody>\n",
              "    <tr>\n",
              "      <th>0</th>\n",
              "      <td>39</td>\n",
              "      <td>State-gov</td>\n",
              "      <td>77516</td>\n",
              "      <td>Bachelors</td>\n",
              "      <td>13</td>\n",
              "      <td>Never-married</td>\n",
              "      <td>Adm-clerical</td>\n",
              "      <td>Not-in-family</td>\n",
              "      <td>White</td>\n",
              "      <td>Male</td>\n",
              "      <td>2174</td>\n",
              "      <td>0</td>\n",
              "      <td>40</td>\n",
              "      <td>United-States</td>\n",
              "      <td>&lt;=50K</td>\n",
              "      <td>V9R 5K5</td>\n",
              "      <td>986-171-731</td>\n",
              "      <td>1980-4-9</td>\n",
              "      <td>Koczan Bochra</td>\n",
              "    </tr>\n",
              "    <tr>\n",
              "      <th>1</th>\n",
              "      <td>50</td>\n",
              "      <td>Self-emp-not-inc</td>\n",
              "      <td>83311</td>\n",
              "      <td>Bachelors</td>\n",
              "      <td>13</td>\n",
              "      <td>Married-civ-spouse</td>\n",
              "      <td>Exec-managerial</td>\n",
              "      <td>Husband</td>\n",
              "      <td>White</td>\n",
              "      <td>Male</td>\n",
              "      <td>0</td>\n",
              "      <td>0</td>\n",
              "      <td>13</td>\n",
              "      <td>United-States</td>\n",
              "      <td>&lt;=50K</td>\n",
              "      <td>P7P 4C6</td>\n",
              "      <td>575-238-128</td>\n",
              "      <td>1968-12-14</td>\n",
              "      <td>Karkampasis Russel</td>\n",
              "    </tr>\n",
              "    <tr>\n",
              "      <th>2</th>\n",
              "      <td>38</td>\n",
              "      <td>Private</td>\n",
              "      <td>215646</td>\n",
              "      <td>HS-grad</td>\n",
              "      <td>9</td>\n",
              "      <td>Divorced</td>\n",
              "      <td>Handlers-cleaners</td>\n",
              "      <td>Not-in-family</td>\n",
              "      <td>White</td>\n",
              "      <td>Male</td>\n",
              "      <td>0</td>\n",
              "      <td>0</td>\n",
              "      <td>40</td>\n",
              "      <td>United-States</td>\n",
              "      <td>&lt;=50K</td>\n",
              "      <td>E8A 2Q6</td>\n",
              "      <td>771-950-636</td>\n",
              "      <td>1981-11-2</td>\n",
              "      <td>Solaun Sekhou</td>\n",
              "    </tr>\n",
              "    <tr>\n",
              "      <th>3</th>\n",
              "      <td>53</td>\n",
              "      <td>Private</td>\n",
              "      <td>234721</td>\n",
              "      <td>11th</td>\n",
              "      <td>7</td>\n",
              "      <td>Married-civ-spouse</td>\n",
              "      <td>Handlers-cleaners</td>\n",
              "      <td>Husband</td>\n",
              "      <td>Black</td>\n",
              "      <td>Male</td>\n",
              "      <td>0</td>\n",
              "      <td>0</td>\n",
              "      <td>40</td>\n",
              "      <td>United-States</td>\n",
              "      <td>&lt;=50K</td>\n",
              "      <td>A6Q 5A8</td>\n",
              "      <td>587-870-707</td>\n",
              "      <td>1965-12-17</td>\n",
              "      <td>Sonderkamp Faty</td>\n",
              "    </tr>\n",
              "    <tr>\n",
              "      <th>4</th>\n",
              "      <td>28</td>\n",
              "      <td>Private</td>\n",
              "      <td>338409</td>\n",
              "      <td>Bachelors</td>\n",
              "      <td>13</td>\n",
              "      <td>Married-civ-spouse</td>\n",
              "      <td>Prof-specialty</td>\n",
              "      <td>Wife</td>\n",
              "      <td>Black</td>\n",
              "      <td>Female</td>\n",
              "      <td>0</td>\n",
              "      <td>0</td>\n",
              "      <td>40</td>\n",
              "      <td>Cuba</td>\n",
              "      <td>&lt;=50K</td>\n",
              "      <td>Y0M 4B2</td>\n",
              "      <td>236-414-311</td>\n",
              "      <td>1991-1-24</td>\n",
              "      <td>Ras Marika</td>\n",
              "    </tr>\n",
              "  </tbody>\n",
              "</table>\n",
              "</div>"
            ],
            "text/plain": [
              "   age          workclass  fnlwgt  ...          NAS   birthdate                name\n",
              "0   39          State-gov   77516  ...  986-171-731    1980-4-9       Koczan Bochra\n",
              "1   50   Self-emp-not-inc   83311  ...  575-238-128  1968-12-14  Karkampasis Russel\n",
              "2   38            Private  215646  ...  771-950-636   1981-11-2       Solaun Sekhou\n",
              "3   53            Private  234721  ...  587-870-707  1965-12-17     Sonderkamp Faty\n",
              "4   28            Private  338409  ...  236-414-311   1991-1-24          Ras Marika\n",
              "\n",
              "[5 rows x 19 columns]"
            ]
          },
          "metadata": {
            "tags": []
          },
          "execution_count": 26
        }
      ]
    },
    {
      "cell_type": "code",
      "metadata": {
        "colab": {
          "base_uri": "https://localhost:8080/"
        },
        "id": "6ritpADatWRe",
        "outputId": "47368b17-d98e-44bb-8b45-f174ab9abcfa"
      },
      "source": [
        "np.sum((df['age'] >= 20) & (df['age'] <= 30))"
      ],
      "execution_count": null,
      "outputs": [
        {
          "output_type": "execute_result",
          "data": {
            "text/plain": [
              "8915"
            ]
          },
          "metadata": {
            "tags": []
          },
          "execution_count": 27
        }
      ]
    },
    {
      "cell_type": "markdown",
      "metadata": {
        "id": "lIR-4hDntWRm"
      },
      "source": [
        "Cette information pourrait être utilisée pour identifier des individus. Pour donner un exemple simple, si on sait qu'un certain individu a participé à l'étude, il serait possible de savoir s'il gagne plus ou moins de 50k. \n",
        "\n",
        "Le mécanisme de Laplace est une méthode générale (pas spécifique au compte) qui consiste à ajouter un bruit laplacien pour rendre une fonction *$\\epsilon$-confidentialité différentiable*. Plus précisément, si on a une fonction $f(x) \\in \\mathbb{R}$ on peut la rendre *$\\epsilon$-confidentialité différentiable* en y sommant $Laplace(0, \\frac{s}{\\epsilon})$. $s$ représente la sensibilité de la fonction $f$ qui est définie comme suit:\n",
        "$$ s = \\max_{D_1, D_2} || f(D_1) - f(D_2) || $$\n",
        "En d'autres termes, c'est la plus grande variation du résultat de $f$ que l'on peut obtenir en changeant seulement une entrée du jeu de données.\n",
        "\n",
        "Pour reprendre l'exemple du compte, la sensibilité de la fonction est simplement 1. En effet, en retirant une seule personne du jeu de données, on ne pourra que réduire le compte de 1 pour n'importe quelle catégorie."
      ]
    },
    {
      "cell_type": "markdown",
      "metadata": {
        "id": "TLcoOcsQuxfv"
      },
      "source": [
        "#### **Question**: \n",
        "\n",
        "Implémentez une fonction nommée `laplace_count` qui retourne un compte en lui ajoutant un bruit laplacien permettant de rendre le compte *$\\epsilon$-confidentialité différentiable*."
      ]
    },
    {
      "cell_type": "code",
      "metadata": {
        "id": "9Dr63bSXtWRo"
      },
      "source": [
        "def laplace_count(index, epsilon):\n",
        "    \"\"\"Le but est de compter les élèments de index en y ajoutant le bruit adéquat.\"\"\"\n",
        "\n",
        "    # indication : utilisez la fonction np.random.laplace(x,y)\n",
        "    pass"
      ],
      "execution_count": null,
      "outputs": []
    },
    {
      "cell_type": "markdown",
      "metadata": {
        "id": "d8fZmXhutL-t"
      },
      "source": [
        "#### Réponses (essayez d'abord de répondre par vous-même avant de regarder la réponse)\n"
      ]
    },
    {
      "cell_type": "code",
      "metadata": {
        "id": "adVJg-qitWRy"
      },
      "source": [
        "def laplace_count(index, epsilon):\n",
        "    return np.sum(index) + np.random.laplace(0, 1/epsilon)"
      ],
      "execution_count": null,
      "outputs": []
    },
    {
      "cell_type": "markdown",
      "metadata": {
        "id": "13yiDihtvdSg"
      },
      "source": [
        "#### Exemple d'utilisation"
      ]
    },
    {
      "cell_type": "code",
      "metadata": {
        "colab": {
          "base_uri": "https://localhost:8080/"
        },
        "id": "Vex1jo7HtWR4",
        "outputId": "a3949bc2-f61f-482a-8ada-a898eb98e14f"
      },
      "source": [
        "laplace_count((df['age'] >= 20) & (df['age'] <= 30), 0.1)"
      ],
      "execution_count": null,
      "outputs": [
        {
          "output_type": "execute_result",
          "data": {
            "text/plain": [
              "8911.122920972957"
            ]
          },
          "metadata": {
            "tags": []
          },
          "execution_count": 16
        }
      ]
    },
    {
      "cell_type": "markdown",
      "metadata": {
        "id": "jP2J6JKZtWSA"
      },
      "source": [
        "Pour vous convaincre que votre méthode fonctionne, testez si vous pouvez déterminer le salaire de 'Koczan Bochra'. Comptez le nombre d'entrées ayant les mêmes identifiants et gagnant >= 50k. Vous devriez obtenir 1. Maintenant, comptez le nombre d'entrée avec `laplace_count`."
      ]
    },
    {
      "cell_type": "code",
      "metadata": {
        "colab": {
          "base_uri": "https://localhost:8080/"
        },
        "id": "IwCVExlbtWSB",
        "outputId": "cb2740dd-64ca-4f96-9d13-8f8b8ac946b8"
      },
      "source": [
        "df[(df['name'] == 'Koczan Bochra') & (df['label'] == ' <=50K')].shape[0]"
      ],
      "execution_count": null,
      "outputs": [
        {
          "output_type": "execute_result",
          "data": {
            "text/plain": [
              "1"
            ]
          },
          "metadata": {
            "tags": []
          },
          "execution_count": 28
        }
      ]
    },
    {
      "cell_type": "code",
      "metadata": {
        "colab": {
          "base_uri": "https://localhost:8080/"
        },
        "id": "yUqEoAO4tWSI",
        "outputId": "6c8197ea-6aae-4eb7-af71-c862f82541e5"
      },
      "source": [
        "laplace_count((df['name'] == 'Koczan Bochra') & (df['label'] == ' <=50K'), 0.1)"
      ],
      "execution_count": null,
      "outputs": [
        {
          "output_type": "execute_result",
          "data": {
            "text/plain": [
              "1.119342392241252"
            ]
          },
          "metadata": {
            "tags": []
          },
          "execution_count": 20
        }
      ]
    },
    {
      "cell_type": "markdown",
      "metadata": {
        "id": "lh8IIpdftWSQ"
      },
      "source": [
        "#### **Question**: \n",
        "\n",
        "Implémentez la fonction `laplace_mean` qui retourne une moyenne bruitée. Supposons que cette fonction renvoie la moyenne pour la variable `age` du jeu de données entier (pas de sous-ensembles). Quelle sera la valeur de s (la sensibilité de la fonction)? "
      ]
    },
    {
      "cell_type": "code",
      "metadata": {
        "id": "cEWubz1-tWSR"
      },
      "source": [
        "def laplace_mean(feature_list, epsilon):\n",
        "    s = # Calculez ici la valeur de s dont on se servira pour ajouter le bruit adéquat.\n",
        "    # Il suffit ensuite de calculer la moyenne de la list de variable et y ajouter le bruit\n",
        "\n",
        "    pass "
      ],
      "execution_count": null,
      "outputs": []
    },
    {
      "cell_type": "markdown",
      "metadata": {
        "id": "h66xnAlFxVea"
      },
      "source": [
        "#### Réponses (essayez d'abord de répondre par vous-même avant de regarder la réponse)"
      ]
    },
    {
      "cell_type": "markdown",
      "metadata": {
        "id": "6Ml-X4qayQgU"
      },
      "source": [
        "La valeur de la sensibilité sera la valeur maximum de la variable choisie, divisée par la taille de la liste à moyenner. En effet, l'impact sur la moyenne sera maximum si on change la donnée de valeur maximum, et cet impact sera bien $$s=\\frac{max(feature\\_list)}{len(feature\\_list)}$$"
      ]
    },
    {
      "cell_type": "code",
      "metadata": {
        "id": "oe8n2U84tWSX"
      },
      "source": [
        "def laplace_mean(feature_list, epsilon):\n",
        "    s = np.max(feature_list) / feature_list.shape[0]\n",
        "    return np.mean(feature_list) + np.random.laplace(0, s / epsilon)"
      ],
      "execution_count": null,
      "outputs": []
    },
    {
      "cell_type": "markdown",
      "metadata": {
        "id": "882Dpf0hxd_j"
      },
      "source": [
        "#### Exemple pratique \n",
        "Comparons maintenant la vraie moyenne d'âge avec la moyenne obtenu par `laplace_mean` avec $\\epsilon = \\{ 0.001, 0.01, 0.1, 1 \\}$."
      ]
    },
    {
      "cell_type": "code",
      "metadata": {
        "colab": {
          "base_uri": "https://localhost:8080/"
        },
        "id": "DNWlNOV8tWSe",
        "outputId": "bd38a345-63ae-44ad-c01f-9cfb0b079e34"
      },
      "source": [
        "epsilon = [0.001, 0.01, 0.1, 1]\n",
        "\n",
        "for e in epsilon:\n",
        "    print(f\"Epsilon={e}: \\t{laplace_mean(df['age'], e)}\")\n",
        "    \n",
        "print(\"\\nMoyenne du jeu de données original:\")\n",
        "print(df['age'].mean())"
      ],
      "execution_count": null,
      "outputs": [
        {
          "output_type": "stream",
          "text": [
            "Epsilon=0.001: \t35.46522395049011\n",
            "Epsilon=0.01: \t38.68670699926789\n",
            "Epsilon=0.1: \t38.730999223956346\n",
            "Epsilon=1: \t38.581366198154846\n",
            "\n",
            "Moyenne du jeu de données original:\n",
            "38.58164675532078\n"
          ],
          "name": "stdout"
        }
      ]
    },
    {
      "cell_type": "markdown",
      "metadata": {
        "id": "s4pvypEItWSm"
      },
      "source": [
        "### 10.2.3 Bruit: réponse aléatoire vs mécanisme de Laplace\n",
        "Il existe un très grand nombre de méthodes permettant de rendre une fonction *$\\epsilon$-confidentialité différentiable*. Cependant, on souhaite trouver une fonction qui n'ajoute pas trop de variance afin que nos conclusions statistiques n'en soient pas trop affectées. Dans cette section, nous allons comparer empiriquement la variance des deux méthodes présentées précedemment."
      ]
    },
    {
      "cell_type": "code",
      "metadata": {
        "id": "Hiw0PI2ztWSn"
      },
      "source": [
        "def randomized_response(data, epsilon):\n",
        "    sum_ = 0\n",
        "    alpha = 0.5 * float(np.exp(epsilon) - 1)/(np.exp(epsilon) + 1)\n",
        "    \n",
        "    for x in data:\n",
        "        coin = np.random.binomial(1, 0.5 + alpha, 1)\n",
        "        if coin == 0:\n",
        "            sum_ += x\n",
        "        else:\n",
        "            sum_ += np.random.randint(0, 2)\n",
        "            \n",
        "    sum_estimate = 0.5 * (((sum_)/data.shape[0] - 0.5)/alpha + 1)\n",
        "    return sum_estimate * data.shape[0]"
      ],
      "execution_count": null,
      "outputs": []
    },
    {
      "cell_type": "code",
      "metadata": {
        "id": "bGiTdhxztWSs"
      },
      "source": [
        "def laplace_sum(x, epsilon):\n",
        "    return np.sum(x) + np.random.laplace(0, 1/epsilon)"
      ],
      "execution_count": null,
      "outputs": []
    },
    {
      "cell_type": "code",
      "metadata": {
        "id": "-c8iPSkwtWS1",
        "outputId": "5ef913b2-abcf-4291-db84-9d814cf8ea75"
      },
      "source": [
        "x = np.random.binomial(1, 0.3, 100)\n",
        "print(f\"Vraie moyenne: {np.sum(x)}\")\n",
        "epsilon = 0.5\n",
        "n_iters = 100\n",
        "rr = []\n",
        "laplace = []\n",
        "\n",
        "for i in range(n_iters):\n",
        "    rr.append(randomized_response(x, epsilon))\n",
        "    laplace.append(laplace_sum(x, epsilon))\n",
        "    \n",
        "print(f\"RR - Moyenne: {np.mean(rr)}, Std: {np.std(rr)}\")\n",
        "print(f\"Laplace - Moyenne: {np.mean(laplace)}, Std: {np.std(laplace)}\")"
      ],
      "execution_count": null,
      "outputs": [
        {
          "output_type": "stream",
          "text": [
            "Vraie moyenne: 34\n",
            "RR - Moyenne: 25.7062204178121, Std: 17.58412696796007\n",
            "Laplace - Moyenne: 34.46112542954675, Std: 2.527513979819353\n"
          ],
          "name": "stdout"
        }
      ]
    },
    {
      "cell_type": "markdown",
      "metadata": {
        "id": "xsPAZrNVtWS5"
      },
      "source": [
        "Si vos expériences ont bien fonctionnées, vous devriez remarquer que l'écart-type de la réponse alétoire est beaucoup plus élevé que celui du mécanisme de laplace. En fait, l'écart-type de la réponse alétoire est $\\approx \\frac{\\sqrt{n}}{\\epsilon}$ tandis l'écart-type du mécanisme de laplace est de $\\approx \\sqrt{n}$"
      ]
    },
    {
      "cell_type": "markdown",
      "metadata": {
        "id": "kqAYiJ6ktWS7"
      },
      "source": [
        "### 10.2.4 Propriétés intéressantes: composition et de post-processing\n",
        "Souvent, lorsqu'on veut analyser des données, on va appliquer des méthodes complexes. Par exemple, on va appliquer plusieurs méthodes en chaînes. Est-ce que nos méthodes vont conserver leur propriété de confidentialité? La confidentialité diférentielle a plusieurs propriétés très intéressantes. Si on applique une fonction déterministe (comme post-processing), on ne va pas changer la *$\\epsilon$-confidentialité*. Si on compose deux fonctions qui sont respectivement *$\\epsilon_1$-confidentialité* et *$\\epsilon_2$-confidentialité*, la fonction résultante sera $\\epsilon_1 + \\epsilon_2$-confidentialité."
      ]
    },
    {
      "cell_type": "markdown",
      "metadata": {
        "id": "XbhD2-7VtWS8"
      },
      "source": [
        "## 10.3 Pour aller plus loin: Implémentation RAPPOR\n",
        "Si vous souhaitez voir une vraie implémentation de la confidentialité différentielle, vous pouvez réimplémenter la méthode RAPPOR. Cette méthode a été introduite par Google et est, entre autre, utilisée pour traiter les statistiques d'utilisation du navigateur Google Chrome. Elle se base sur les filtres de Bloom. Consultez l'article: \"Erlingsson, Ú., Pihur, V., & Korolova, A. (2014, November). Rappor: Randomized aggregatable privacy-preserving ordinal response. In Proceedings of the 2014 ACM SIGSAC conference on computer and communications security (pp. 1054-1067). ACM.\" https://arxiv.org/abs/1503.01214\n",
        "\n"
      ]
    },
    {
      "cell_type": "markdown",
      "metadata": {
        "id": "xH5BvY0QKWh1"
      },
      "source": [
        "## Références\n",
        "\n",
        "Pour davantages d'information, vous pouvez consulter un tutoriel conçu par un des auteurs de la confidentialité différentielle: http://helper.ipam.ucla.edu/publications/pbd2018/pbd2018_14892.pdf.\n",
        "\n",
        "Pour aller plus loin dans le domaine général de la confidentialité différentielle, je vous invite à consulter ce cours en ligne: https://github.com/jnear/cs295-data-privacy\n",
        "\n",
        "Pour une libraire implémentant plusieurs techniques de confidentialité différentielle: https://github.com/google/differential-privacy/\n"
      ]
    }
  ]
}