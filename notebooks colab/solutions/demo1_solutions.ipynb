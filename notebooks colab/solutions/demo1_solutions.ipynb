{
 "cells": [
  {
   "cell_type": "markdown",
   "metadata": {},
   "source": [
    "##### Démonstration 1 - IFT 3700\n",
    "### Sujets abordés :\n",
    "- Fonctionnement des démonstrations\n",
    "- Présentation du format \"Jupyter Notebook\"\n",
    "- Biais cognitifs :\n",
    "  1. Problème de comparaisons multiples\n",
    "    - Révision des valeurs p\n",
    "    - Correction de Bonferroni\n",
    "  2. Régression vers la moyenne\n",
    "  3. Le théorème de Bayes\n",
    "- Présentation du jeu de données MNIST\n",
    "- Implémentation d'une méthode de classification : \"Classification naïve bayésienne\"\n",
    "\n",
    "## Partie Théorique :\n",
    "\n",
    "### Problème de comparaisons multiples\n",
    "\n",
    "**Valeur p :** Probabilité que nous observerions le même résultat si notre hypothèse était fausse. Autrement dit, nous croyons observer un résultat significatif alors que nous l'avons obtenu par chance. Ceci revient à commettre une erreur de type 1. Nous voulons bien évidemment éviter de commettre ces erreurs.\n",
    "\n",
    "En résumé : petite valeur p $\\implies$ plus grande certitude de la véracité de nos résultats.\n",
    "\n",
    "Le problème de comparaisons multiples survient lorsque nous testons un **ensemble** d'hypothèses avec une certaine valeur p. Comme exemple, prenons un scénario où nous testons 30 hypothèses avec une valeur p de 0.05, soit 5%. Assumons que **chacune de nos hypothèses soient fausses**. Quelle sera la probabilité d'observer au moins un résultat significatif par chance?\n",
    "\n",
    "La probabilité que nous ayons au moins un résultat significatif est le complément d'en observer aucun.\n",
    "\n",
    "Nous avons :\n",
    "\n",
    "$$P(au\\ moins\\ un\\ résultat\\ significatif) = 1 - P(aucun\\ résultat\\ significatif)$$\n",
    "\n",
    "$$= 1 - (0.95)^{30}$$\n",
    "\n",
    "$$\\approx 79\\%$$\n",
    "\n",
    "Nous voyons donc qu'il est très probable d'obtenir un résultat significatif qui nous pousserait à commettre une erreur de type 1.\n",
    "\n",
    "*Comment faire pour résoudre ce problème?*\n",
    "\n",
    "### Correction de Bonferroni\n",
    "\n",
    "La correction de Bonferroni corrige ce problème de manière assez simple en divisant la valeur p par le nombre d'hypothèses que nous voulons poser :\n",
    "\n",
    "Soit $n$ le nombre d'hypothèses, notre valeur p devient $\\frac{\\alpha}{n}$ où $\\alpha$ était notre valeur p originale.\n",
    "\n",
    "Nous remarquons maintenant que notre calcul original est ajusté :\n",
    "\n",
    "$$P(au\\ moins\\ un\\ résultat\\ significatif) = 1 - P(aucun\\ résultat\\ significatif)$$\n",
    "\n",
    "$$ = 1 - (1 - \\frac{\\alpha}{n})^{30}$$\n",
    "\n",
    "$$= 1 - (1 - \\frac{0.05}{30})^{30}$$\n",
    "\n",
    "$$\\approx 1 - (1 - 0.00167)^{30}$$\n",
    "\n",
    "$$\\approx 1 - 0.9512$$\n",
    "\n",
    "$$\\approx 5\\%$$\n",
    "\n",
    "Toutefois, cette correction prend en compte que tous les tests d'hypothèses sont *indépendents*. S'il y a une corrélation positive entre ces dernières, la correction de Bonferroni engendrera une valeur p **trop conservatrice**. Ceci aura comme conséquence d'amener des erreurs de type 2, soit de rejeter un résultat significatif alors qu'il est **tout à fait valide**.\n",
    "\n",
    "D'autres approches plus courrantes et efficaces existent pour éliminer ce problème, telles que la méthode de Holm-Bonferroni et la correction de Sidak. Elles sont d'ailleurs beaucoup moins naïves et plus intéressantes. Je vous invite à jeter un coup d'oeil si ça vous intéresse.\n",
    "\n",
    "### Régression vers la moyenne\n",
    "\n",
    "En résumé, c'est le principe que si la valeur d'une variable semble extrême lors d'un premier test, elle sera probablement plus près de la moyenne lors du deuxième. Ceci peut nous mener à des conclusions erronées.\n",
    "\n",
    "L'exemple classique est de prendre une classe d'étudiants et de leur faire répondre aléatoirement à un test composé de 100 questions de type vrai ou faux, *en prenant compte qu'il n'y a pas de correction négative ;)*. Nous nous attendons évidemment à ce que la moyenne de la classe soit de 50%. Cependant, certains élèves seront chanceux et auront des notes au dessus de la moyenne et vice-versa pour les étudiants malchanceux. Bref, nous aurons environ une distribution normale de notes avec 50% comme moyenne générale.\n",
    "\n",
    "Si nous répétons l'expérience avec les élèves qui ont été chanceux au premier examen, nous obtiendrons une nouvelle distribution normale centrée à 50%. Méme scénario pour les élèves qui ont été moins chanceux lors du premier test. \n",
    "\n",
    "Ceci donne l'illusion que les élèves qui ont eu une mauvaise note au premier examen se sont améliorés au deuxième et que les élèves qui ont eu une bonne note au premier n'ont pas assez étudié pour le deuxième. Cependant, nous savons très bien que ce n'est pas le cas, puisque tous les étudiants répondent aléatoirement!\n",
    "\n",
    "C'est ce qu'on appelle la régression vers la moyenne. Bien évidemment, l'exemple précédent est très peu réaliste. Dans la vraie vie, il s'agit souvent de scénarios où plusieurs facteurs affectent un certain résultat, et non pas seulement la chance. C'est d'ailleurs cela qui nous amène à former des hypothèses pour expliquer certaines tendances.\n",
    "\n",
    "Bref, il faut réaliser que la \"tendance naturelle\" de régression vers la moyenne peut parfois entièrement expliquer des résultats alors que l'on pourrait formuler des hypothèses erronées pour les expliquer.\n",
    "\n",
    "Je vous recommande une très bonne vidéo assez populaire qui traite d'une instance de ce biais cognitif, soit une étude qui tentait de déterminer si un renforcement positif ou négatif était plus efficace dans le cadre de la formation de pilotes de chasse de l'armée israélienne :\n",
    "\n",
    "https://www.youtube.com/watch?v=1tSqSMOyNFE\n",
    "\n",
    "### Le théorème de Bayes\n",
    "\n",
    "Comme discuté dans le cours avec l'exemple d'un test médical pour une maladie relativement rare qui donne parfois des faux positifs, le théorème de Bayes est utilisé pour calculer des **probabilités conditionnelles**.\n",
    "\n",
    "La formule est la suivante :\n",
    "\n",
    "$$P(A|B) = \\frac{P(B|A) \\cdot P(A)}{P(B)}$$\n",
    "\n",
    "Cette formule peut être obtenue en combinant deux instances de la définition de probabilité conditionnelle:\n",
    "\n",
    "$$P(A|B) = \\frac{P(A \\cap B)}{P(B)}$$\n",
    "\n",
    "Similairement,\n",
    "\n",
    "$$P(B|A) = \\frac{P(B \\cap A)}{P(A)}$$\n",
    "\n",
    "Puisque $P(B \\cap A) = P(A \\cap B)$,\n",
    "\n",
    "$$P(A|B)\\cdot P(B) = P(B|A)\\cdot P(A)$$\n",
    "\n",
    "Finalement, diviser les deux cotés par $P(B)$ nous donne :\n",
    "\n",
    "$$P(A|B) = \\frac{P(B|A) \\cdot P(A)}{P(B)}$$\n",
    "\n",
    "## Partie Pratique :\n",
    "\n",
    "Nous pouvons déjà plonger dans le coté pratique maintenant que nous connaissons la formule de Bayes. Nous pouvons implémenter l'algorithme de classification naïve bayésienne en utilisant le jeu de données MNIST. Pour ce faire, il serait avantageux d'être à l'aise avec Jupyter et Python 3. Voir les tutoriels ci-dessous si vous n'êtes pas familiers avec cet environnement :\n",
    "\n",
    "https://jupyter-notebook-beginner-guide.readthedocs.io/en/latest/what_is_jupyter.html\n",
    "\n",
    "https://docs.python.org/3/tutorial/index.html \n",
    "\n",
    "# ATTENTION :\n",
    "\n",
    "**L'exercice suivant peut être complété entièrement en suivant l'énoncé ci-dessous (pages 1 à 8). Si vous voulez faire l'implémentation entière par vous-même (recommandé), ne lisez pas le reste de ce notebook. Cependant, mon opinon biaisée est que ce notebook est beaucoup plus clair et intuitif que cet énoncé. Si vous voulez être guidés, vous pouvez suivre les étapes décrites dans le reste du notebook. Une version du notebook avec le code manquant sera également publiée sur le site web. Si vous choisissez de le faire par vous-même, n'oubliez pas de revenir au notebook et de lire la section \"Conclusion\".**\n",
    "\n",
    "http://www-inst.eecs.berkeley.edu/~cs70/sp15/notes/n21.pdf\n",
    "\n",
    "Voyons premièrement comment utiliser le jeu de données MNIST pour cet exercice.\n",
    "\n",
    "### Jeu de données MNIST\n",
    "\n",
    "Le jeu de données MNIST est une large base de données d'images de chiffres écrits à la main. Ces images sont d'une dimension de $28 \\times 28$ pixels. Dans le fichier *\"mnist_train.csv\"* que nous utiliserons, ces données sont organisées sous la forme d'un tableau (voir le format de données CSV). Si vous ouvrez ce fichier sur Excel ou dans un éditeur de texte, vous verrez qu'il s'agit de 60 001 lignes et 785 colonnes. Ces colonnes sont séparées par des virgules, d'où le nom CSV (Comma Seperated Values). Chaque ligne correspond à une donnée. La première colonne représente \"l'étiquette\" (label), soit la réelle classification du chiffre. Les colonnes suivantes représentent la valeur de chaque pixel de l'image. Ces colonnes sont les dimensions du jeu de données.\n",
    "\n",
    "Puisqu'il y a $28 \\times 28 = 784$ pixels dans l'image, nous avons un total de 785 colones en incluant l'étiquette. Les 60,001 lignes sont expliquées par les 60 000 données et la première ligne qui contient les identifiants des colonnes. Chaque donnée est en réalité un vecteur de 784 dimensions composé d'entiers allant de 0 à 255 pour chaque dimension suivant \"l'étiquette\" de cette donnée. Ces chiffres représentent l'intensité d'un pixel en niveau de gris (grayscale), 0 étant l'extrême noire de l'échelle et 255 étant l'extrême blanche.\n",
    "\n",
    "### Importer MNIST dans le Jupyter Notebook\n",
    "\n",
    "Nous devons utiliser le module ```csv``` pour importer le fichier *\"mnist_train.csv\"*. Ce fichier est disponible sur le site web du cours. Pour simplifier le \"path\" à spécifier à la fonction ```open()```, je vous suggère de placer ce fichier dans le même répertoire que ce notebook. Voici comment obtenir une liste de lignes à partir du fichier : "
   ]
  },
  {
   "cell_type": "code",
   "execution_count": 1,
   "metadata": {},
   "outputs": [
    {
     "name": "stdout",
     "output_type": "stream",
     "text": [
      "['5', '0', '0', '0', '0', '0', '0', '0', '0', '0', '0', '0', '0', '0', '0', '0', '0', '0', '0', '0', '0', '0', '0', '0', '0', '0', '0', '0', '0', '0', '0', '0', '0', '0', '0', '0', '0', '0', '0', '0', '0', '0', '0', '0', '0', '0', '0', '0', '0', '0', '0', '0', '0', '0', '0', '0', '0', '0', '0', '0', '0', '0', '0', '0', '0', '0', '0', '0', '0', '0', '0', '0', '0', '0', '0', '0', '0', '0', '0', '0', '0', '0', '0', '0', '0', '0', '0', '0', '0', '0', '0', '0', '0', '0', '0', '0', '0', '0', '0', '0', '0', '0', '0', '0', '0', '0', '0', '0', '0', '0', '0', '0', '0', '0', '0', '0', '0', '0', '0', '0', '0', '0', '0', '0', '0', '0', '0', '0', '0', '0', '0', '0', '0', '0', '0', '0', '0', '0', '0', '0', '0', '0', '0', '0', '0', '0', '0', '0', '0', '0', '0', '0', '0', '3', '18', '18', '18', '126', '136', '175', '26', '166', '255', '247', '127', '0', '0', '0', '0', '0', '0', '0', '0', '0', '0', '0', '0', '30', '36', '94', '154', '170', '253', '253', '253', '253', '253', '225', '172', '253', '242', '195', '64', '0', '0', '0', '0', '0', '0', '0', '0', '0', '0', '0', '49', '238', '253', '253', '253', '253', '253', '253', '253', '253', '251', '93', '82', '82', '56', '39', '0', '0', '0', '0', '0', '0', '0', '0', '0', '0', '0', '0', '18', '219', '253', '253', '253', '253', '253', '198', '182', '247', '241', '0', '0', '0', '0', '0', '0', '0', '0', '0', '0', '0', '0', '0', '0', '0', '0', '0', '0', '80', '156', '107', '253', '253', '205', '11', '0', '43', '154', '0', '0', '0', '0', '0', '0', '0', '0', '0', '0', '0', '0', '0', '0', '0', '0', '0', '0', '0', '14', '1', '154', '253', '90', '0', '0', '0', '0', '0', '0', '0', '0', '0', '0', '0', '0', '0', '0', '0', '0', '0', '0', '0', '0', '0', '0', '0', '0', '0', '139', '253', '190', '2', '0', '0', '0', '0', '0', '0', '0', '0', '0', '0', '0', '0', '0', '0', '0', '0', '0', '0', '0', '0', '0', '0', '0', '0', '11', '190', '253', '70', '0', '0', '0', '0', '0', '0', '0', '0', '0', '0', '0', '0', '0', '0', '0', '0', '0', '0', '0', '0', '0', '0', '0', '0', '0', '35', '241', '225', '160', '108', '1', '0', '0', '0', '0', '0', '0', '0', '0', '0', '0', '0', '0', '0', '0', '0', '0', '0', '0', '0', '0', '0', '0', '0', '81', '240', '253', '253', '119', '25', '0', '0', '0', '0', '0', '0', '0', '0', '0', '0', '0', '0', '0', '0', '0', '0', '0', '0', '0', '0', '0', '0', '0', '45', '186', '253', '253', '150', '27', '0', '0', '0', '0', '0', '0', '0', '0', '0', '0', '0', '0', '0', '0', '0', '0', '0', '0', '0', '0', '0', '0', '0', '16', '93', '252', '253', '187', '0', '0', '0', '0', '0', '0', '0', '0', '0', '0', '0', '0', '0', '0', '0', '0', '0', '0', '0', '0', '0', '0', '0', '0', '0', '249', '253', '249', '64', '0', '0', '0', '0', '0', '0', '0', '0', '0', '0', '0', '0', '0', '0', '0', '0', '0', '0', '0', '0', '0', '46', '130', '183', '253', '253', '207', '2', '0', '0', '0', '0', '0', '0', '0', '0', '0', '0', '0', '0', '0', '0', '0', '0', '0', '0', '0', '39', '148', '229', '253', '253', '253', '250', '182', '0', '0', '0', '0', '0', '0', '0', '0', '0', '0', '0', '0', '0', '0', '0', '0', '0', '0', '24', '114', '221', '253', '253', '253', '253', '201', '78', '0', '0', '0', '0', '0', '0', '0', '0', '0', '0', '0', '0', '0', '0', '0', '0', '0', '23', '66', '213', '253', '253', '253', '253', '198', '81', '2', '0', '0', '0', '0', '0', '0', '0', '0', '0', '0', '0', '0', '0', '0', '0', '0', '18', '171', '219', '253', '253', '253', '253', '195', '80', '9', '0', '0', '0', '0', '0', '0', '0', '0', '0', '0', '0', '0', '0', '0', '0', '0', '55', '172', '226', '253', '253', '253', '253', '244', '133', '11', '0', '0', '0', '0', '0', '0', '0', '0', '0', '0', '0', '0', '0', '0', '0', '0', '0', '0', '136', '253', '253', '253', '212', '135', '132', '16', '0', '0', '0', '0', '0', '0', '0', '0', '0', '0', '0', '0', '0', '0', '0', '0', '0', '0', '0', '0', '0', '0', '0', '0', '0', '0', '0', '0', '0', '0', '0', '0', '0', '0', '0', '0', '0', '0', '0', '0', '0', '0', '0', '0', '0', '0', '0', '0', '0', '0', '0', '0', '0', '0', '0', '0', '0', '0', '0', '0', '0', '0', '0', '0', '0', '0', '0', '0', '0', '0', '0', '0', '0', '0', '0', '0', '0', '0', '0', '0', '0', '0', '0', '0', '0', '0', '0', '0', '0', '0', '0', '0', '0', '0', '0', '0', '0', '0', '0', '0']\n"
     ]
    }
   ],
   "source": [
    "import csv\n",
    "\n",
    "data = open('mnist_train.csv')\n",
    "\n",
    "csv_file = csv.reader(data)\n",
    "\n",
    "data_points = []\n",
    "\n",
    "for row in csv_file:\n",
    "    data_points.append(row)\n",
    "\n",
    "#On enlève la première ligne, soit les \"headers\" de nos colonnes\n",
    "data_points.pop(0)\n",
    "\n",
    "#Imprime la première ligne de notre training set\n",
    "print(data_points[0])\n",
    "\n",
    "data.close()"
   ]
  },
  {
   "cell_type": "markdown",
   "metadata": {},
   "source": [
    "Nous voyons que le premier \"data point\" de notre training set est un 5, puisqu'il s'agit du premier élément de cette ligne, soit \"l'étiquette\". Quelle serait le type de la valeur '5'?"
   ]
  },
  {
   "cell_type": "code",
   "execution_count": 2,
   "metadata": {},
   "outputs": [
    {
     "name": "stdout",
     "output_type": "stream",
     "text": [
      "<class 'str'>\n"
     ]
    }
   ],
   "source": [
    "print(type(data_points[0][0]))"
   ]
  },
  {
   "cell_type": "markdown",
   "metadata": {},
   "source": [
    "```data_points``` est donc une liste de listes de strings. Nous voulons travailler avec des int et non des strings. Voici comment nous pouvons les convertir. Si vous ne comprenez pas ces boucles imbriquées, voir ce lien :\n",
    "https://docs.python.org/3/tutorial/controlflow.html#for-statements\n",
    "\n",
    "Si vous exécutez la cellule du dessous, vous allez voir que le nombre de données **engendre un délai significatif**. C'est le cas pour **plusieurs** autres cellules ci-dessous. Le symbole ```In [*]``` à la gauche de la cellule indique que la cellule est en train d'être exécutée."
   ]
  },
  {
   "cell_type": "code",
   "execution_count": 3,
   "metadata": {},
   "outputs": [
    {
     "name": "stdout",
     "output_type": "stream",
     "text": [
      "[5, 0, 0, 0, 0, 0, 0, 0, 0, 0, 0, 0, 0, 0, 0, 0, 0, 0, 0, 0, 0, 0, 0, 0, 0, 0, 0, 0, 0, 0, 0, 0, 0, 0, 0, 0, 0, 0, 0, 0, 0, 0, 0, 0, 0, 0, 0, 0, 0, 0, 0, 0, 0, 0, 0, 0, 0, 0, 0, 0, 0, 0, 0, 0, 0, 0, 0, 0, 0, 0, 0, 0, 0, 0, 0, 0, 0, 0, 0, 0, 0, 0, 0, 0, 0, 0, 0, 0, 0, 0, 0, 0, 0, 0, 0, 0, 0, 0, 0, 0, 0, 0, 0, 0, 0, 0, 0, 0, 0, 0, 0, 0, 0, 0, 0, 0, 0, 0, 0, 0, 0, 0, 0, 0, 0, 0, 0, 0, 0, 0, 0, 0, 0, 0, 0, 0, 0, 0, 0, 0, 0, 0, 0, 0, 0, 0, 0, 0, 0, 0, 0, 0, 0, 3, 18, 18, 18, 126, 136, 175, 26, 166, 255, 247, 127, 0, 0, 0, 0, 0, 0, 0, 0, 0, 0, 0, 0, 30, 36, 94, 154, 170, 253, 253, 253, 253, 253, 225, 172, 253, 242, 195, 64, 0, 0, 0, 0, 0, 0, 0, 0, 0, 0, 0, 49, 238, 253, 253, 253, 253, 253, 253, 253, 253, 251, 93, 82, 82, 56, 39, 0, 0, 0, 0, 0, 0, 0, 0, 0, 0, 0, 0, 18, 219, 253, 253, 253, 253, 253, 198, 182, 247, 241, 0, 0, 0, 0, 0, 0, 0, 0, 0, 0, 0, 0, 0, 0, 0, 0, 0, 0, 80, 156, 107, 253, 253, 205, 11, 0, 43, 154, 0, 0, 0, 0, 0, 0, 0, 0, 0, 0, 0, 0, 0, 0, 0, 0, 0, 0, 0, 14, 1, 154, 253, 90, 0, 0, 0, 0, 0, 0, 0, 0, 0, 0, 0, 0, 0, 0, 0, 0, 0, 0, 0, 0, 0, 0, 0, 0, 0, 139, 253, 190, 2, 0, 0, 0, 0, 0, 0, 0, 0, 0, 0, 0, 0, 0, 0, 0, 0, 0, 0, 0, 0, 0, 0, 0, 0, 11, 190, 253, 70, 0, 0, 0, 0, 0, 0, 0, 0, 0, 0, 0, 0, 0, 0, 0, 0, 0, 0, 0, 0, 0, 0, 0, 0, 0, 35, 241, 225, 160, 108, 1, 0, 0, 0, 0, 0, 0, 0, 0, 0, 0, 0, 0, 0, 0, 0, 0, 0, 0, 0, 0, 0, 0, 0, 81, 240, 253, 253, 119, 25, 0, 0, 0, 0, 0, 0, 0, 0, 0, 0, 0, 0, 0, 0, 0, 0, 0, 0, 0, 0, 0, 0, 0, 45, 186, 253, 253, 150, 27, 0, 0, 0, 0, 0, 0, 0, 0, 0, 0, 0, 0, 0, 0, 0, 0, 0, 0, 0, 0, 0, 0, 0, 16, 93, 252, 253, 187, 0, 0, 0, 0, 0, 0, 0, 0, 0, 0, 0, 0, 0, 0, 0, 0, 0, 0, 0, 0, 0, 0, 0, 0, 0, 249, 253, 249, 64, 0, 0, 0, 0, 0, 0, 0, 0, 0, 0, 0, 0, 0, 0, 0, 0, 0, 0, 0, 0, 0, 46, 130, 183, 253, 253, 207, 2, 0, 0, 0, 0, 0, 0, 0, 0, 0, 0, 0, 0, 0, 0, 0, 0, 0, 0, 0, 39, 148, 229, 253, 253, 253, 250, 182, 0, 0, 0, 0, 0, 0, 0, 0, 0, 0, 0, 0, 0, 0, 0, 0, 0, 0, 24, 114, 221, 253, 253, 253, 253, 201, 78, 0, 0, 0, 0, 0, 0, 0, 0, 0, 0, 0, 0, 0, 0, 0, 0, 0, 23, 66, 213, 253, 253, 253, 253, 198, 81, 2, 0, 0, 0, 0, 0, 0, 0, 0, 0, 0, 0, 0, 0, 0, 0, 0, 18, 171, 219, 253, 253, 253, 253, 195, 80, 9, 0, 0, 0, 0, 0, 0, 0, 0, 0, 0, 0, 0, 0, 0, 0, 0, 55, 172, 226, 253, 253, 253, 253, 244, 133, 11, 0, 0, 0, 0, 0, 0, 0, 0, 0, 0, 0, 0, 0, 0, 0, 0, 0, 0, 136, 253, 253, 253, 212, 135, 132, 16, 0, 0, 0, 0, 0, 0, 0, 0, 0, 0, 0, 0, 0, 0, 0, 0, 0, 0, 0, 0, 0, 0, 0, 0, 0, 0, 0, 0, 0, 0, 0, 0, 0, 0, 0, 0, 0, 0, 0, 0, 0, 0, 0, 0, 0, 0, 0, 0, 0, 0, 0, 0, 0, 0, 0, 0, 0, 0, 0, 0, 0, 0, 0, 0, 0, 0, 0, 0, 0, 0, 0, 0, 0, 0, 0, 0, 0, 0, 0, 0, 0, 0, 0, 0, 0, 0, 0, 0, 0, 0, 0, 0, 0, 0, 0, 0, 0, 0, 0, 0]\n"
     ]
    }
   ],
   "source": [
    "for i in range(len(data_points)):\n",
    "    for j in range(0,785):\n",
    "            data_points[i][j] = int(data_points[i][j])\n",
    "\n",
    "print(data_points[0])"
   ]
  },
  {
   "cell_type": "markdown",
   "metadata": {},
   "source": [
    "Il sera utile de séparer notre colonne d'étiquettes du reste des données. Nous allons créer un vecteur de dimension $60 \\ 000 \\times 1$ que nous nommons ```y_train```. Ce vecteur comprendra nos étiquettes, aussi appelées \"targets\", puisqu'il s'agira de ces dernières que nous tenterons de prédire avec notre modèle. Les reste des données, soit une matrice de dimension $784 \\times 60 \\ 000$ seront affectées à ```x_train```."
   ]
  },
  {
   "cell_type": "code",
   "execution_count": 4,
   "metadata": {},
   "outputs": [
    {
     "name": "stdout",
     "output_type": "stream",
     "text": [
      "[0, 0, 0, 0, 0, 0, 0, 0, 0, 0, 0, 0, 0, 0, 0, 0, 0, 0, 0, 0, 0, 0, 0, 0, 0, 0, 0, 0, 0, 0, 0, 0, 0, 0, 0, 0, 0, 0, 0, 0, 0, 0, 0, 0, 0, 0, 0, 0, 0, 0, 0, 0, 0, 0, 0, 0, 0, 0, 0, 0, 0, 0, 0, 0, 0, 0, 0, 0, 0, 0, 0, 0, 0, 0, 0, 0, 0, 0, 0, 0, 0, 0, 0, 0, 0, 0, 0, 0, 0, 0, 0, 0, 0, 0, 0, 0, 0, 0, 0, 0, 0, 0, 0, 0, 0, 0, 0, 0, 0, 0, 0, 0, 0, 0, 0, 0, 0, 0, 0, 0, 0, 0, 0, 0, 0, 0, 0, 0, 0, 0, 0, 0, 0, 0, 0, 0, 0, 0, 0, 0, 0, 0, 0, 0, 0, 0, 0, 0, 0, 0, 0, 0, 3, 18, 18, 18, 126, 136, 175, 26, 166, 255, 247, 127, 0, 0, 0, 0, 0, 0, 0, 0, 0, 0, 0, 0, 30, 36, 94, 154, 170, 253, 253, 253, 253, 253, 225, 172, 253, 242, 195, 64, 0, 0, 0, 0, 0, 0, 0, 0, 0, 0, 0, 49, 238, 253, 253, 253, 253, 253, 253, 253, 253, 251, 93, 82, 82, 56, 39, 0, 0, 0, 0, 0, 0, 0, 0, 0, 0, 0, 0, 18, 219, 253, 253, 253, 253, 253, 198, 182, 247, 241, 0, 0, 0, 0, 0, 0, 0, 0, 0, 0, 0, 0, 0, 0, 0, 0, 0, 0, 80, 156, 107, 253, 253, 205, 11, 0, 43, 154, 0, 0, 0, 0, 0, 0, 0, 0, 0, 0, 0, 0, 0, 0, 0, 0, 0, 0, 0, 14, 1, 154, 253, 90, 0, 0, 0, 0, 0, 0, 0, 0, 0, 0, 0, 0, 0, 0, 0, 0, 0, 0, 0, 0, 0, 0, 0, 0, 0, 139, 253, 190, 2, 0, 0, 0, 0, 0, 0, 0, 0, 0, 0, 0, 0, 0, 0, 0, 0, 0, 0, 0, 0, 0, 0, 0, 0, 11, 190, 253, 70, 0, 0, 0, 0, 0, 0, 0, 0, 0, 0, 0, 0, 0, 0, 0, 0, 0, 0, 0, 0, 0, 0, 0, 0, 0, 35, 241, 225, 160, 108, 1, 0, 0, 0, 0, 0, 0, 0, 0, 0, 0, 0, 0, 0, 0, 0, 0, 0, 0, 0, 0, 0, 0, 0, 81, 240, 253, 253, 119, 25, 0, 0, 0, 0, 0, 0, 0, 0, 0, 0, 0, 0, 0, 0, 0, 0, 0, 0, 0, 0, 0, 0, 0, 45, 186, 253, 253, 150, 27, 0, 0, 0, 0, 0, 0, 0, 0, 0, 0, 0, 0, 0, 0, 0, 0, 0, 0, 0, 0, 0, 0, 0, 16, 93, 252, 253, 187, 0, 0, 0, 0, 0, 0, 0, 0, 0, 0, 0, 0, 0, 0, 0, 0, 0, 0, 0, 0, 0, 0, 0, 0, 0, 249, 253, 249, 64, 0, 0, 0, 0, 0, 0, 0, 0, 0, 0, 0, 0, 0, 0, 0, 0, 0, 0, 0, 0, 0, 46, 130, 183, 253, 253, 207, 2, 0, 0, 0, 0, 0, 0, 0, 0, 0, 0, 0, 0, 0, 0, 0, 0, 0, 0, 0, 39, 148, 229, 253, 253, 253, 250, 182, 0, 0, 0, 0, 0, 0, 0, 0, 0, 0, 0, 0, 0, 0, 0, 0, 0, 0, 24, 114, 221, 253, 253, 253, 253, 201, 78, 0, 0, 0, 0, 0, 0, 0, 0, 0, 0, 0, 0, 0, 0, 0, 0, 0, 23, 66, 213, 253, 253, 253, 253, 198, 81, 2, 0, 0, 0, 0, 0, 0, 0, 0, 0, 0, 0, 0, 0, 0, 0, 0, 18, 171, 219, 253, 253, 253, 253, 195, 80, 9, 0, 0, 0, 0, 0, 0, 0, 0, 0, 0, 0, 0, 0, 0, 0, 0, 55, 172, 226, 253, 253, 253, 253, 244, 133, 11, 0, 0, 0, 0, 0, 0, 0, 0, 0, 0, 0, 0, 0, 0, 0, 0, 0, 0, 136, 253, 253, 253, 212, 135, 132, 16, 0, 0, 0, 0, 0, 0, 0, 0, 0, 0, 0, 0, 0, 0, 0, 0, 0, 0, 0, 0, 0, 0, 0, 0, 0, 0, 0, 0, 0, 0, 0, 0, 0, 0, 0, 0, 0, 0, 0, 0, 0, 0, 0, 0, 0, 0, 0, 0, 0, 0, 0, 0, 0, 0, 0, 0, 0, 0, 0, 0, 0, 0, 0, 0, 0, 0, 0, 0, 0, 0, 0, 0, 0, 0, 0, 0, 0, 0, 0, 0, 0, 0, 0, 0, 0, 0, 0, 0, 0, 0, 0, 0, 0, 0, 0, 0, 0, 0, 0, 0]\n"
     ]
    }
   ],
   "source": [
    "y_train = []\n",
    "\n",
    "for row in data_points:\n",
    "    y_train.append(row[0])\n",
    "\n",
    "x_train = []\n",
    "\n",
    "for row in data_points:\n",
    "    x_train.append(row[1:785])\n",
    "    \n",
    "print(x_train[0])"
   ]
  },
  {
   "cell_type": "markdown",
   "metadata": {},
   "source": [
    "Nous sommes maintenant prêts à visualiser ces images. Nous allons utiliser ```numpy``` et ```matplotlib```. Je vous invite à vous familiariser avec chacune de ces librairies puisqu'elles seront utilisées régulièrement dans le cours. Dans le code ci-dessous, nous devons convertir notre ```x_train``` qui est d'une dimension à une matrice de 2 dimensions."
   ]
  },
  {
   "cell_type": "code",
   "execution_count": 5,
   "metadata": {},
   "outputs": [
    {
     "data": {
      "image/png": "[encoded data removed]",
      "text/plain": [
       "<Figure size 432x288 with 1 Axes>"
      ]
     },
     "metadata": {
      "needs_background": "light"
     },
     "output_type": "display_data"
    }
   ],
   "source": [
    "import numpy as np\n",
    "import matplotlib.pyplot as plt\n",
    "\n",
    "#Conversion de notre vecteur d'une dimension en 2 dimensions\n",
    "matrix = np.reshape(x_train[0], (28,28))\n",
    "\n",
    "plt.imshow(matrix, cmap='gray')\n",
    "\n",
    "#Affiche un 5, tout comme nous avions vu comme premier \"label\" du jeu de données\n",
    "plt.show()"
   ]
  },
  {
   "cell_type": "markdown",
   "metadata": {},
   "source": [
    "Pour être capable d'implémenter le classifieur bayésien naïf dans la section suivante, nous devons transformer les valeurs d'intensité de pixels allant de 0 à 255 en valeurs binaires 0 et 1; vous verrez pourquoi ;). Nous pouvons le faire en utilisant la fonction ```round()```.\n"
   ]
  },
  {
   "cell_type": "code",
   "execution_count": 6,
   "metadata": {
    "scrolled": true
   },
   "outputs": [
    {
     "name": "stdout",
     "output_type": "stream",
     "text": [
      "[0, 0, 0, 0, 0, 0, 0, 0, 0, 0, 0, 0, 0, 0, 0, 0, 0, 0, 0, 0, 0, 0, 0, 0, 0, 0, 0, 0, 0, 0, 0, 0, 0, 0, 0, 0, 0, 0, 0, 0, 0, 0, 0, 0, 0, 0, 0, 0, 0, 0, 0, 0, 0, 0, 0, 0, 0, 0, 0, 0, 0, 0, 0, 0, 0, 0, 0, 0, 0, 0, 0, 0, 0, 0, 0, 0, 0, 0, 0, 0, 0, 0, 0, 0, 0, 0, 0, 0, 0, 0, 0, 0, 0, 0, 0, 0, 0, 0, 0, 0, 0, 0, 0, 0, 0, 0, 0, 0, 0, 0, 0, 0, 0, 0, 0, 0, 0, 0, 0, 0, 0, 0, 0, 0, 0, 0, 0, 0, 0, 0, 0, 0, 0, 0, 0, 0, 0, 0, 0, 0, 0, 0, 0, 0, 0, 0, 0, 0, 0, 0, 0, 0, 0, 0, 0, 0, 0, 1, 1, 0, 1, 1, 1, 0, 0, 0, 0, 0, 0, 0, 0, 0, 0, 0, 0, 0, 0, 0, 0, 1, 1, 1, 1, 1, 1, 1, 1, 1, 1, 1, 1, 0, 0, 0, 0, 0, 0, 0, 0, 0, 0, 0, 0, 0, 1, 1, 1, 1, 1, 1, 1, 1, 1, 1, 0, 0, 0, 0, 0, 0, 0, 0, 0, 0, 0, 0, 0, 0, 0, 0, 0, 0, 1, 1, 1, 1, 1, 1, 1, 1, 1, 1, 0, 0, 0, 0, 0, 0, 0, 0, 0, 0, 0, 0, 0, 0, 0, 0, 0, 0, 0, 1, 0, 1, 1, 1, 0, 0, 0, 1, 0, 0, 0, 0, 0, 0, 0, 0, 0, 0, 0, 0, 0, 0, 0, 0, 0, 0, 0, 0, 0, 1, 1, 0, 0, 0, 0, 0, 0, 0, 0, 0, 0, 0, 0, 0, 0, 0, 0, 0, 0, 0, 0, 0, 0, 0, 0, 0, 0, 1, 1, 1, 0, 0, 0, 0, 0, 0, 0, 0, 0, 0, 0, 0, 0, 0, 0, 0, 0, 0, 0, 0, 0, 0, 0, 0, 0, 0, 1, 1, 0, 0, 0, 0, 0, 0, 0, 0, 0, 0, 0, 0, 0, 0, 0, 0, 0, 0, 0, 0, 0, 0, 0, 0, 0, 0, 0, 1, 1, 1, 0, 0, 0, 0, 0, 0, 0, 0, 0, 0, 0, 0, 0, 0, 0, 0, 0, 0, 0, 0, 0, 0, 0, 0, 0, 0, 1, 1, 1, 0, 0, 0, 0, 0, 0, 0, 0, 0, 0, 0, 0, 0, 0, 0, 0, 0, 0, 0, 0, 0, 0, 0, 0, 0, 0, 1, 1, 1, 1, 0, 0, 0, 0, 0, 0, 0, 0, 0, 0, 0, 0, 0, 0, 0, 0, 0, 0, 0, 0, 0, 0, 0, 0, 0, 0, 1, 1, 1, 0, 0, 0, 0, 0, 0, 0, 0, 0, 0, 0, 0, 0, 0, 0, 0, 0, 0, 0, 0, 0, 0, 0, 0, 0, 1, 1, 1, 0, 0, 0, 0, 0, 0, 0, 0, 0, 0, 0, 0, 0, 0, 0, 0, 0, 0, 0, 0, 0, 0, 0, 1, 1, 1, 1, 1, 0, 0, 0, 0, 0, 0, 0, 0, 0, 0, 0, 0, 0, 0, 0, 0, 0, 0, 0, 0, 0, 1, 1, 1, 1, 1, 1, 1, 0, 0, 0, 0, 0, 0, 0, 0, 0, 0, 0, 0, 0, 0, 0, 0, 0, 0, 0, 0, 1, 1, 1, 1, 1, 1, 0, 0, 0, 0, 0, 0, 0, 0, 0, 0, 0, 0, 0, 0, 0, 0, 0, 0, 0, 0, 1, 1, 1, 1, 1, 1, 0, 0, 0, 0, 0, 0, 0, 0, 0, 0, 0, 0, 0, 0, 0, 0, 0, 0, 0, 1, 1, 1, 1, 1, 1, 1, 0, 0, 0, 0, 0, 0, 0, 0, 0, 0, 0, 0, 0, 0, 0, 0, 0, 0, 0, 1, 1, 1, 1, 1, 1, 1, 1, 0, 0, 0, 0, 0, 0, 0, 0, 0, 0, 0, 0, 0, 0, 0, 0, 0, 0, 0, 1, 1, 1, 1, 1, 1, 1, 0, 0, 0, 0, 0, 0, 0, 0, 0, 0, 0, 0, 0, 0, 0, 0, 0, 0, 0, 0, 0, 0, 0, 0, 0, 0, 0, 0, 0, 0, 0, 0, 0, 0, 0, 0, 0, 0, 0, 0, 0, 0, 0, 0, 0, 0, 0, 0, 0, 0, 0, 0, 0, 0, 0, 0, 0, 0, 0, 0, 0, 0, 0, 0, 0, 0, 0, 0, 0, 0, 0, 0, 0, 0, 0, 0, 0, 0, 0, 0, 0, 0, 0, 0, 0, 0, 0, 0, 0, 0, 0, 0, 0, 0, 0, 0, 0, 0, 0, 0, 0]\n"
     ]
    }
   ],
   "source": [
    "for i in range(len(x_train)):\n",
    "    for j in range(len(x_train[0])):\n",
    "        if x_train[i][j] != 0 :\n",
    "            #Nous devons diviser par 255.0 et non 255 pour convertir ces int en float\n",
    "            x_train[i][j] = round(int(x_train[i][j]) / 255.0)\n",
    "\n",
    "print(x_train[0])"
   ]
  },
  {
   "cell_type": "markdown",
   "metadata": {},
   "source": [
    "Nous pouvons utiliser le même code qu'avant pour visualiser le changement :"
   ]
  },
  {
   "cell_type": "code",
   "execution_count": 22,
   "metadata": {},
   "outputs": [
    {
     "name": "stdout",
     "output_type": "stream",
     "text": [
      "[[0 0 0 0 0 0 0 0 0 0 0 0 0 0 0 0 0 0 0 0 0 0 0 0 0 0 0 0]\n",
      " [0 0 0 0 0 0 0 0 0 0 0 0 0 0 0 0 0 0 0 0 0 0 0 0 0 0 0 0]\n",
      " [0 0 0 0 0 0 0 0 0 0 0 0 0 0 0 0 0 0 0 0 0 0 0 0 0 0 0 0]\n",
      " [0 0 0 0 0 0 0 0 0 0 0 0 0 0 0 0 0 0 0 0 0 0 0 0 0 0 0 0]\n",
      " [0 0 0 0 0 0 0 0 0 0 0 0 0 0 0 0 0 0 0 0 0 0 0 0 0 0 0 0]\n",
      " [0 0 0 0 0 0 0 0 0 0 0 0 0 0 0 0 0 1 1 0 1 1 1 0 0 0 0 0]\n",
      " [0 0 0 0 0 0 0 0 0 0 0 1 1 1 1 1 1 1 1 1 1 1 1 0 0 0 0 0]\n",
      " [0 0 0 0 0 0 0 0 1 1 1 1 1 1 1 1 1 1 0 0 0 0 0 0 0 0 0 0]\n",
      " [0 0 0 0 0 0 0 0 1 1 1 1 1 1 1 1 1 1 0 0 0 0 0 0 0 0 0 0]\n",
      " [0 0 0 0 0 0 0 0 0 1 0 1 1 1 0 0 0 1 0 0 0 0 0 0 0 0 0 0]\n",
      " [0 0 0 0 0 0 0 0 0 0 0 1 1 0 0 0 0 0 0 0 0 0 0 0 0 0 0 0]\n",
      " [0 0 0 0 0 0 0 0 0 0 0 1 1 1 0 0 0 0 0 0 0 0 0 0 0 0 0 0]\n",
      " [0 0 0 0 0 0 0 0 0 0 0 0 1 1 0 0 0 0 0 0 0 0 0 0 0 0 0 0]\n",
      " [0 0 0 0 0 0 0 0 0 0 0 0 0 1 1 1 0 0 0 0 0 0 0 0 0 0 0 0]\n",
      " [0 0 0 0 0 0 0 0 0 0 0 0 0 0 1 1 1 0 0 0 0 0 0 0 0 0 0 0]\n",
      " [0 0 0 0 0 0 0 0 0 0 0 0 0 0 0 1 1 1 1 0 0 0 0 0 0 0 0 0]\n",
      " [0 0 0 0 0 0 0 0 0 0 0 0 0 0 0 0 0 1 1 1 0 0 0 0 0 0 0 0]\n",
      " [0 0 0 0 0 0 0 0 0 0 0 0 0 0 0 0 0 1 1 1 0 0 0 0 0 0 0 0]\n",
      " [0 0 0 0 0 0 0 0 0 0 0 0 0 0 0 1 1 1 1 1 0 0 0 0 0 0 0 0]\n",
      " [0 0 0 0 0 0 0 0 0 0 0 0 0 1 1 1 1 1 1 1 0 0 0 0 0 0 0 0]\n",
      " [0 0 0 0 0 0 0 0 0 0 0 0 1 1 1 1 1 1 0 0 0 0 0 0 0 0 0 0]\n",
      " [0 0 0 0 0 0 0 0 0 0 1 1 1 1 1 1 0 0 0 0 0 0 0 0 0 0 0 0]\n",
      " [0 0 0 0 0 0 0 1 1 1 1 1 1 1 0 0 0 0 0 0 0 0 0 0 0 0 0 0]\n",
      " [0 0 0 0 0 1 1 1 1 1 1 1 1 0 0 0 0 0 0 0 0 0 0 0 0 0 0 0]\n",
      " [0 0 0 0 1 1 1 1 1 1 1 0 0 0 0 0 0 0 0 0 0 0 0 0 0 0 0 0]\n",
      " [0 0 0 0 0 0 0 0 0 0 0 0 0 0 0 0 0 0 0 0 0 0 0 0 0 0 0 0]\n",
      " [0 0 0 0 0 0 0 0 0 0 0 0 0 0 0 0 0 0 0 0 0 0 0 0 0 0 0 0]\n",
      " [0 0 0 0 0 0 0 0 0 0 0 0 0 0 0 0 0 0 0 0 0 0 0 0 0 0 0 0]]\n"
     ]
    },
    {
     "data": {
      "image/png": "[encoded data removed]",
      "text/plain": [
       "<Figure size 432x288 with 1 Axes>"
      ]
     },
     "metadata": {
      "needs_background": "light"
     },
     "output_type": "display_data"
    }
   ],
   "source": [
    "#Conversion de notre vecteur d'une dimension en 2 dimensions\n",
    "matrix = np.reshape(x_train[0], (28,28))\n",
    "\n",
    "print(matrix)\n",
    "\n",
    "plt.imshow(matrix, cmap='gray')\n",
    "plt.show()"
   ]
  },
  {
   "cell_type": "markdown",
   "metadata": {},
   "source": [
    "### Implémentation d'un classifieur bayésien naïf\n",
    "\n",
    "Le principe derrière le classifieur bayésien est le suivant : disons que nous avons un nombre de classes $n = |C|$ (10 dans notre cas: $C = \\{0, 1, 2, 3, 4, 5, 6, 7, 8, 9\\}$) et un vecteur $x$ qui représente notre image. À l'aide du théorème de Bayes, nous pouvons déterminer **la postérieure** $P(c|x)$, soit la probabilité que notre vecteur appartienne à la classe $c$ étant donné sa représentation comme vecteur $x$ à l'aide de l'équation suivante :\n",
    "\n",
    "$$P(c|x) = \\frac{P(x|c) \\cdot P(c)}{P(x)}$$\n",
    "\n",
    "Pour calculer cette probabilité, nous avons besoin de:\n",
    "- **La vraisemblance** $P(x|c)$, soit la probabilité d'avoir un vecteur $x$ étant donné que le vecteur appartienne à la classe $c$.\n",
    "- **L'antérieure** $P(c)$, soit la probabilité d'avoir une image de classe $c$ dans notre jeu de données.\n",
    "- **L'évidence** $P(x)$, soit la probabilité d'avoir un vecteur $x$ dans notre jeu de données.\n",
    "\n",
    "Une fois que nous pouvons calculer cette probabilité, nous pouvons le faire pour chaque classe à laquelle pourrait appartenir $x$ et choisir la classe qui engendre la probabilité conditionnelle maximale. Nous pouvons exprimer ceci avec la formule suivante :\n",
    "\n",
    "$$h(x) = \\operatorname*{argmax}_{c \\ \\in \\ C}  \\ P(c|x)$$\n",
    "\n",
    "Nous utilisons $h(x)$ ici pour dénoter notre **fonction hypothèse**. \n",
    "\n",
    "Commençons par calculer **l'évidence $P(x)$**, soit la probabilité d'avoir un vecteur $x$ représentant une image dans notre jeu de données **(représantant n'importe quel chiffre)**. Nous pouvons utiliser la formule des probabilités totales pour la calculer. Il s'agira de la somme de toutes les probabilités d'obtenir le vecteur $x$ représentant une image de **chacun des chiffres** multipliées par la probabilité d'observer ce chiffre, soit **l'antérieure** $P(c)$:\n",
    "\n",
    "$$P(x) = P(x|c_1) \\cdot P(c_1) + P(x|c_2) \\cdot P(c_2) + \\dots + P(x|c_n) \\cdot P(c_n)$$\n",
    "$$= \\sum_{j=1}^n P(x|c_j)P(c_j)$$\n",
    "\n",
    "Comme mentionné plus haut, notre scénario implique que $n = 10$. Nous pouvons substituer $P(x)$ dans notre fonction hypothèse. Nous obtenons :\n",
    "\n",
    "$$h(x) = \\operatorname*{argmax}_{c \\ \\in \\ C}  \\ P(c|x) = \\operatorname*{argmax}_{c \\ \\in \\ C}  \\ \\frac{P(x|c) \\cdot P(c)}{\\sum_{j=1}^n P(x|c_j)P(c_j)}$$\n",
    "\n",
    "Nous observons que **quelle que soit** la classe pour laquelle nous calculons $P(c|x)$ pour un vecteur $x$, le dénominateur reste toujours le même puisqu'il est calculé de manière identique. Il est ensuite important de comprendre que si une valeur $V_1$ est supérieure à $V_2$, et que nous divisons les deux valeurs par une constante **positive** $c$, l'inégalité $\\frac{V_1}{c} > \\frac{V_2}{c}$ est toujours satisfaite. C'est le cas ici puisque le dénominateur est une probabilité, ce qui implique qu'il ne pourra jamais être négatif. De ce fait, **nous n'avons pas besoin de calculer l'évidence $P(x)$ dans notre fonction hypothèse** puisque cette dernière n'aura aucun impact sur la valeur maximale de $P(x|c) \\cdot P(c)$. Notre fonction hypothèse devient donc :\n",
    "\n",
    "$$h(x) = \\operatorname*{argmax}_{c \\ \\in \\ C}  \\ P(c|x) = \\operatorname*{argmax}_{c \\ \\in \\ C}  \\ P(x|c) \\cdot P(c)$$\n",
    "\n",
    "Parfait! Un terme de moins à calculer. Continuons par calculer **L'antérieure** $P(c)$, soit la probabilité d'avoir une image de classe $c$ dans notre jeu de données. Pour calculer cette probabilité pour une classe en particulier, il suffit de compter le nombre de données avec l'étiquette de cette classe et de la diviser par le nombre total de données : \n",
    "\n",
    "$$P(c) = \\frac{\\# données \\ de \\ classe \\ c}{\\# total \\ de \\ données}$$\n",
    "\n",
    "Puisque nous avons $10$ classes dans notre implémentation, nous devons parcourir ```y_train``` en ajustant 10 compteurs d'instance d'étiquettes, soit un pour chaque classe. Dans la cellule ci-dessous, déclarez une liste ```counts``` et affectez-lui 10 valeurs nulles."
   ]
  },
  {
   "cell_type": "code",
   "execution_count": 8,
   "metadata": {},
   "outputs": [
    {
     "name": "stdout",
     "output_type": "stream",
     "text": [
      "[0, 0, 0, 0, 0, 0, 0, 0, 0, 0]\n"
     ]
    }
   ],
   "source": [
    "counts = []\n",
    "\n",
    "for x in range(10) :\n",
    "    counts.append(0)\n",
    "    \n",
    "print(counts)"
   ]
  },
  {
   "cell_type": "markdown",
   "metadata": {},
   "source": [
    "Nous pouvons maintenant compter le nombre d'instances de chaque étiquette. Parcourez ```y_train``` en affectant à ```counts``` les valeurs appropriées : ```counts[0]``` sera le nombre de zéro dans ```y_train```, ```counts[1]``` le nombre de 1, etc. Imprimez ensuite le résultat."
   ]
  },
  {
   "cell_type": "code",
   "execution_count": 9,
   "metadata": {},
   "outputs": [
    {
     "name": "stdout",
     "output_type": "stream",
     "text": [
      "[5923, 6742, 5958, 6131, 5842, 5421, 5918, 6265, 5851, 5949]\n"
     ]
    }
   ],
   "source": [
    "for row in data_points :\n",
    "    label = row[0]\n",
    "    \n",
    "    counts[int(label)] += 1\n",
    "\n",
    "print(counts)"
   ]
  },
  {
   "cell_type": "markdown",
   "metadata": {},
   "source": [
    "Vous devez avoir obtenu ```[5923, 6742, 5958, 6131, 5842, 5421, 5918, 6265, 5851, 5949]```. Nous voulons maintenant obtenir une liste ```priors``` qui nous donnera la probabilité d'avoir une image de chaque classe dans notre jeu de données."
   ]
  },
  {
   "cell_type": "code",
   "execution_count": 10,
   "metadata": {},
   "outputs": [
    {
     "name": "stdout",
     "output_type": "stream",
     "text": [
      "[0.09871666666666666, 0.11236666666666667, 0.0993, 0.10218333333333333, 0.09736666666666667, 0.09035, 0.09863333333333334, 0.10441666666666667, 0.09751666666666667, 0.09915]\n"
     ]
    }
   ],
   "source": [
    "priors = []\n",
    "\n",
    "for i in counts:\n",
    "    priors.append(i / 60000)\n",
    "    \n",
    "print(priors)"
   ]
  },
  {
   "cell_type": "markdown",
   "metadata": {},
   "source": [
    "Nous obtenons ```[0.09871666666666666, 0.11236666666666667, 0.0993, 0.10218333333333333, 0.09736666666666667, 0.09035, 0.09863333333333334, 0.10441666666666667, 0.09751666666666667, 0.09915]```."
   ]
  },
  {
   "cell_type": "markdown",
   "metadata": {},
   "source": [
    "Maintenant que nous avons calculé $P(c)$, soit l'antérieure de chaque classe, il ne nous reste plus qu'à calculer **la vraisemblance** $P(x|c)$. C'est un peu plus compliqué que l'antérieure. Puisque notre vecteur $x$ est en fait $(x_1, x_2, \\dots, x_{784})$, nous cherchons à déterminer $P(x_1, x_2, ... x_{784}|c)$. Nous devons utiliser la loi de probabilité à plusieurs variables qui est la suivante: \n",
    "\n",
    "$$P(A_1, \\dots, A_n) = P(A_1) \\times P(A_2|A_1) \\times P(A_3|A_1, A_2) \\times \\dots \\times P(A_n|A_1, A_2, \\dots, A_{n-1})$$\n",
    "\n",
    "Nous avons donc :\n",
    "\n",
    "$$P(x_1, x_2, ... x_{784}|c) = P(x_1|c) \\times P(x_2|c, x_1) \\times P(x_3|c, x_1, x_2) \\times \\dots \\times P(x_{784}|c, x_1, x_2, x_3, \\dots, x_{783})$$\n",
    "\n",
    "Si nous faisons l'hypothèse **naïve** que ces probabilités sont **indépendentes**, nous avons par définition que chaque terme $P(x_i|c, x_1, x_2, \\dots, x_{i-1})$ devient $P(x_i|c)$. Assumer que ces probabilités sont indépendentes revient à prendre pour acquis qu'il n'y a aucune corrélation entre les pixels, ce qui n'est pas le cas. Il existe d'autres versions du classifieur bayésien qui prennent en compte ces corrélations, voir la section **\"pour les maniaques\"** dans la conclusion. Voyons toutefois quels résultats nous pouvons obtenir avec cette \"wild assumption\".\n",
    "\n",
    "Nous avons :\n",
    "\n",
    "$$P(x_i|c, x_1, x_2, \\dots, x_{i-1}) = P(x_i|c)$$\n",
    "\n",
    "$$\\implies P(x_1, x_2, ... x_{784}|c) = P(x_1|c) \\times P(x_2|c) \\times P(x_3|c) \\times \\dots \\times P(x_{784}|c)$$\n",
    "\n",
    "Nous devons calculer dix $P(x|c_j)$ différents, soit une vraisemblance pour chaque classe $j, 0 \\leq j \\leq 9$. Nous voulons déterminer :\n",
    "\n",
    "$$P(x_{j1}, x_{j2}, ... x_{j \\ 784}|c_j) = P(x_{j1}|c_j) \\times P(x_{j2}|c_j) \\times P(x_{j3}|c_j) \\times \\dots \\times P(x_{j784}|c_j)$$\n",
    "\n",
    "$$= \\prod_{i = 1}^{784} P(x_{ji}|c_j) $$\n",
    "\n",
    "Comment calculer $P(x_{ji}|c_j)$ ?\n",
    "\n",
    "**Puisque nous avons arrondi chaque pixel $x_i$ à une valeur binaire**, nous pouvons modéliser $P(x_{ji}|c_j)$ avec une distribution binomiale où le nombre $n$ d'épreuves de Bernoulli est de 1. Une distribution binomiale où $n = 1$ est d'ailleurs appelée une distribution de Bernouilli. Si vous ne connaissez pas les distributions binomiales, je vous recommande fortement de jeter un coup d'oeil puisqu'il s'agit d'un sujet important.\n",
    "\n",
    "Définissons la probabilité qu'un pixel $i$ de classe $j$ soit un $1$ comme suit :\n",
    "\n",
    "$$P(x_{ji} = 1) = p_{ji}$$\n",
    "\n",
    "La probabilité qu'il soit un $0$ est donc le complément de $p_{ji}$. Nous avons :\n",
    "\n",
    "$$P(x_{ji} = 0) = (1 - p_{ji})$$\n",
    "\n",
    "Par la distribution binomiale, nous avons :\n",
    "\n",
    "$$P(x_{ji}|c_j) = p_{ji}^{x_i}(1 - p_{ji})^{1-x_i}$$\n",
    "\n",
    "Maintenant que nous savons comment calculer la vraisemblance, il ne nous reste plus qu'à calculer $p_{ji}$ pour toutes les $j$ classes et $i$ pixels. C'est un calcul qui est assez simple :\n",
    "\n",
    "$$p_{ji} = \\frac{\\# pixels \\ i \\ de \\ valeur \\ 1 \\ pour \\ les \\ données \\ de \\ classe \\ j}{\\# total \\ de \\ données \\ de \\ classe \\ j}$$\n",
    "\n",
    "**Il y a cependant un problème avec la formule précédente, soit le fait que $p_{ji}$ peut avoir la valeur de zéro.** Ceci arriverait dans le cas où nous observerions **jamais** une valeur de 1 pour un pixel $i$ parmis toutes les images d'une classe $j$ dans notre \"test set\". *Pourquoi est-ce un problème ?*\n",
    "\n",
    "Rappelons-nous que nous venons de démontrer que :\n",
    "\n",
    "$$P(x|c_j) = \\prod_{i = 1}^{784} P(x_{ji}|c_j) = \\prod_{i = 1}^{784} p_{ji}^{x_i}(1 - p_{ji})^{1 - x_i}$$\n",
    "\n",
    "Si même **une seule** des valeurs $p_{ij}$ est nulle, **notre produit entier sera nullifié**. Supposons que nous avons un pixel $k$ qui est toujours noir dans les images de notre \"training set\" (un pixel dans un coin, par exemple). Nous aurons :\n",
    "\n",
    "$$p_{jk} = 0 \\implies \\prod_{i = 1}^{784} p_{ji}^{x_i}(1 - p_{ji})^{1 - x_i} = 0$$\n",
    "\n",
    "Ceci malgré les valeurs de $p_{j1}, p_{j2}, \\dots, p_{j \\ k-1}, p_{j \\ k+1}, \\dots, p_{j \\ 784}$ qui peuvent être de très bonnes probabilités. Pour remédier à ce problème, nous utilisons le **\"Laplace smoothing\"**. Nous ajustons la formule de la manière suivante : \n",
    "\n",
    "$$p_{ji} = \\frac{\\# (\\ pixels \\ i \\ de \\ valeur \\ 1 \\ pour \\ les \\ données \\ de \\ classe \\ j \\ )\\ + 1}{\\# (\\ total \\ de \\ données \\ de \\ classe \\ j \\ ) \\ + 2}$$\n",
    "\n",
    "Ceci fait en sorte que $p_{ji}$ sera **strictement** supérieur à 0 et inférieur à 1. Nous additonnons 2 au dénominateur puisque nous travaillons avec une **distribution binomiale**. Cette technique est aussi connue sous le nom **d'additive smoothing**. Le \"laplace smoothing\" est d'ailleurs uitilsé dans la modélisation \"sac de mots\" en traitement automatique du language naturel. Pour plus d'information, voir :\n",
    "\n",
    "https://en.wikipedia.org/wiki/Additive_smoothing\n",
    "\n",
    "https://www.youtube.com/watch?v=k_TiEHh3RI0\n",
    "\n",
    "Commençons par calculer $p_{ji}$ :\n",
    "\n",
    "Dans la cellule suivante, initialisez une liste ```sum_pixel_values``` qui sera une matrice de 2 dimensions (liste de listes) contenant la somme de toutes les valeurs des pixels $x_{ji}$ dans ```x_train```. Plus précisément, ```sum_pixel_values``` aura une dimension de $10 \\times 784$. Calculez ensuite ces valeurs. **Rappel :** $j$ est la $j^{ème}$ classe ($0 \\leq j \\leq 9$) et $i$ est le $i^{ème}$ pixel ($0 \\leq j < 784$). \n",
    "\n",
    "**Attention!** Nous utilisions avant l'index $j$ allant de $1$ à $784$ dans l'explication. Il est plus simple de commencer à zéro dans l'implémentation pour une question de gestion d'indices."
   ]
  },
  {
   "cell_type": "code",
   "execution_count": 11,
   "metadata": {},
   "outputs": [],
   "source": [
    "sum_pixel_values = []\n",
    "\n",
    "for j in range(0,10):\n",
    "    sum_pixel_values_class_j = []\n",
    "    \n",
    "    for i in range(len(x_train[0])):\n",
    "        value = 0\n",
    "        \n",
    "        for h in range(len(y_train)):\n",
    "            if (y_train[h] == j and x_train[h][i] == 1) :\n",
    "                value += 1\n",
    "                \n",
    "        sum_pixel_values_class_j.append(value)\n",
    "        \n",
    "    sum_pixel_values.append(sum_pixel_values_class_j)"
   ]
  },
  {
   "cell_type": "markdown",
   "metadata": {},
   "source": [
    "Nous pouvons maintenant calculer $p_{ji}$. Initialisez une nouvelle liste ```pixel_probability``` de la même dimension que ```sum_pixel_values``` et calculez chaque $p_{ji}$ en utilisant le \"laplace smoothing\" tel qu'expliqué plus haut. *Indice* : nous avons déjà calculé les deux variables dans cette équation."
   ]
  },
  {
   "cell_type": "code",
   "execution_count": 12,
   "metadata": {},
   "outputs": [
    {
     "name": "stdout",
     "output_type": "stream",
     "text": [
      "[0.00016877637130801687, 0.00016877637130801687, 0.00016877637130801687, 0.00016877637130801687, 0.00016877637130801687, 0.00016877637130801687, 0.00016877637130801687, 0.00016877637130801687, 0.00016877637130801687, 0.00016877637130801687, 0.00016877637130801687, 0.00016877637130801687, 0.00016877637130801687, 0.00016877637130801687, 0.00016877637130801687, 0.00016877637130801687, 0.00016877637130801687, 0.00016877637130801687, 0.00016877637130801687, 0.00016877637130801687, 0.00016877637130801687, 0.00016877637130801687, 0.00016877637130801687, 0.00016877637130801687, 0.00016877637130801687, 0.00016877637130801687, 0.00016877637130801687, 0.00016877637130801687, 0.00016877637130801687, 0.00016877637130801687, 0.00016877637130801687, 0.00016877637130801687, 0.00016877637130801687, 0.00016877637130801687, 0.00016877637130801687, 0.00016877637130801687, 0.00016877637130801687, 0.00016877637130801687, 0.00016877637130801687, 0.00033755274261603374, 0.00033755274261603374, 0.00016877637130801687, 0.00016877637130801687, 0.00016877637130801687, 0.00033755274261603374, 0.00016877637130801687, 0.00016877637130801687, 0.00016877637130801687, 0.00016877637130801687, 0.00016877637130801687, 0.00016877637130801687, 0.00016877637130801687, 0.00016877637130801687, 0.00016877637130801687, 0.00016877637130801687, 0.00016877637130801687, 0.00016877637130801687, 0.00016877637130801687, 0.00016877637130801687, 0.00016877637130801687, 0.00016877637130801687, 0.00016877637130801687, 0.00016877637130801687, 0.00033755274261603374, 0.00016877637130801687, 0.00016877637130801687, 0.00016877637130801687, 0.00016877637130801687, 0.00033755274261603374, 0.0005063291139240507, 0.00016877637130801687, 0.00033755274261603374, 0.00033755274261603374, 0.00016877637130801687, 0.00016877637130801687, 0.00033755274261603374, 0.00016877637130801687, 0.00016877637130801687, 0.00016877637130801687, 0.00016877637130801687, 0.00016877637130801687, 0.00016877637130801687, 0.00016877637130801687, 0.00016877637130801687, 0.00016877637130801687, 0.00016877637130801687, 0.00016877637130801687, 0.00016877637130801687, 0.00016877637130801687, 0.0005063291139240507, 0.00033755274261603374, 0.00033755274261603374, 0.0006751054852320675, 0.0008438818565400844, 0.0020253164556962027, 0.00540084388185654, 0.008945147679324894, 0.012151898734177215, 0.015189873417721518, 0.018059071729957805, 0.018059071729957805, 0.014852320675105486, 0.010632911392405063, 0.009451476793248944, 0.006919831223628692, 0.002869198312236287, 0.001181434599156118, 0.0006751054852320675, 0.00033755274261603374, 0.00016877637130801687, 0.00016877637130801687, 0.00016877637130801687, 0.00016877637130801687, 0.00016877637130801687, 0.00016877637130801687, 0.00016877637130801687, 0.00016877637130801687, 0.00033755274261603374, 0.0008438818565400844, 0.0018565400843881857, 0.0052320675105485236, 0.013164556962025316, 0.0259915611814346, 0.04962025316455696, 0.09232067510548524, 0.15257383966244725, 0.2072573839662447, 0.25046413502109705, 0.2639662447257384, 0.24067510548523208, 0.189873417721519, 0.13670886075949368, 0.08084388185654008, 0.03729957805907173, 0.013839662447257385, 0.002531645569620253, 0.0005063291139240507, 0.00033755274261603374, 0.00016877637130801687, 0.00016877637130801687, 0.00016877637130801687, 0.00016877637130801687, 0.00016877637130801687, 0.00033755274261603374, 0.00033755274261603374, 0.00033755274261603374, 0.00270042194092827, 0.006582278481012658, 0.017383966244725737, 0.0420253164556962, 0.08843881856540084, 0.16860759493670885, 0.26936708860759495, 0.3910548523206751, 0.5022784810126583, 0.5773839662447258, 0.6054008438818566, 0.5621940928270042, 0.47156118143459913, 0.3468354430379747, 0.21822784810126583, 0.11544303797468354, 0.04675105485232067, 0.010126582278481013, 0.0015189873417721519, 0.00033755274261603374, 0.00016877637130801687, 0.00016877637130801687, 0.00016877637130801687, 0.00016877637130801687, 0.00016877637130801687, 0.00016877637130801687, 0.0005063291139240507, 0.002869198312236287, 0.006244725738396625, 0.017383966244725737, 0.04675105485232067, 0.10548523206751055, 0.19949367088607595, 0.32742616033755273, 0.46464135021097047, 0.5974683544303797, 0.6931645569620253, 0.7552742616033755, 0.7733333333333333, 0.7547679324894515, 0.6875949367088607, 0.5524050632911393, 0.4037130801687764, 0.24185654008438817, 0.11561181434599156, 0.03189873417721519, 0.0037130801687763715, 0.00033755274261603374, 0.00016877637130801687, 0.00016877637130801687, 0.00016877637130801687, 0.00016877637130801687, 0.00016877637130801687, 0.00016877637130801687, 0.0008438818565400844, 0.004219409282700422, 0.011645569620253165, 0.039324894514767936, 0.09637130801687764, 0.20135021097046413, 0.33704641350210973, 0.4823628691983122, 0.6114767932489451, 0.6958649789029536, 0.7409282700421941, 0.7566244725738397, 0.7628691983122363, 0.7767088607594936, 0.7613502109704642, 0.6902953586497891, 0.5527426160337553, 0.37670886075949367, 0.20928270042194091, 0.07713080168776372, 0.011476793248945148, 0.0008438818565400844, 0.00016877637130801687, 0.00033755274261603374, 0.00016877637130801687, 0.00016877637130801687, 0.00016877637130801687, 0.00016877637130801687, 0.0008438818565400844, 0.006413502109704641, 0.02531645569620253, 0.07729957805907173, 0.17789029535864978, 0.32050632911392407, 0.47341772151898737, 0.6011814345991561, 0.6788185654008438, 0.6943459915611815, 0.6705485232067511, 0.6330801687763713, 0.6172151898734177, 0.630548523206751, 0.6830379746835443, 0.7043037974683545, 0.6475949367088608, 0.49654008438818564, 0.31088607594936707, 0.13164556962025317, 0.02430379746835443, 0.0005063291139240507, 0.00016877637130801687, 0.00016877637130801687, 0.00016877637130801687, 0.00016877637130801687, 0.00016877637130801687, 0.00033755274261603374, 0.001350210970464135, 0.010126582278481013, 0.054177215189873416, 0.14329113924050632, 0.2761181434599156, 0.44033755274261605, 0.5849789029535865, 0.6656540084388186, 0.6686919831223629, 0.6131645569620253, 0.5184810126582279, 0.4440506329113924, 0.3964556962025316, 0.4258227848101266, 0.5159493670886076, 0.6295358649789029, 0.66042194092827, 0.5841350210970464, 0.409957805907173, 0.19071729957805908, 0.04168776371308017, 0.0006751054852320675, 0.00016877637130801687, 0.00016877637130801687, 0.00016877637130801687, 0.00016877637130801687, 0.00033755274261603374, 0.00016877637130801687, 0.002869198312236287, 0.02329113924050633, 0.09738396624472574, 0.22413502109704642, 0.38852320675105484, 0.5532489451476793, 0.6506329113924051, 0.6670042194092827, 0.5881856540084388, 0.46632911392405063, 0.3490295358649789, 0.25451476793248945, 0.21164556962025316, 0.24253164556962026, 0.35864978902953587, 0.5172995780590718, 0.6435443037974684, 0.6293670886075949, 0.4882700421940928, 0.25518987341772154, 0.06210970464135021, 0.001181434599156118, 0.00016877637130801687, 0.00016877637130801687, 0.00016877637130801687, 0.00016877637130801687, 0.00016877637130801687, 0.00033755274261603374, 0.005569620253164557, 0.04540084388185654, 0.15409282700421942, 0.3218565400843882, 0.4990717299578059, 0.629198312236287, 0.670210970464135, 0.5937552742616033, 0.44776371308016877, 0.3080168776371308, 0.18464135021097047, 0.11915611814345992, 0.10059071729957805, 0.14143459915611814, 0.249789029535865, 0.4290295358649789, 0.6027004219409283, 0.6470886075949367, 0.5380590717299578, 0.30751054852320675, 0.08253164556962025, 0.0018565400843881857, 0.00033755274261603374, 0.00016877637130801687, 0.00016877637130801687, 0.00016877637130801687, 0.00016877637130801687, 0.00033755274261603374, 0.008945147679324894, 0.08050632911392405, 0.23493670886075949, 0.4258227848101266, 0.5881856540084388, 0.6724050632911392, 0.6278481012658228, 0.479493670886076, 0.3019409282700422, 0.16843881856540086, 0.08523206751054853, 0.0540084388185654, 0.051645569620253164, 0.09063291139240506, 0.19949367088607595, 0.38059071729957805, 0.5625316455696202, 0.6438818565400843, 0.5510548523206751, 0.340084388185654, 0.10666666666666667, 0.002531645569620253, 0.00033755274261603374, 0.00016877637130801687, 0.00016877637130801687, 0.00016877637130801687, 0.00016877637130801687, 0.0005063291139240507, 0.018059071729957805, 0.13333333333333333, 0.32151898734177214, 0.5228691983122363, 0.6497890295358649, 0.6648101265822784, 0.5436286919831224, 0.34362869198312235, 0.17181434599156117, 0.07156118143459915, 0.03645569620253165, 0.024135021097046412, 0.02970464135021097, 0.07375527426160337, 0.189873417721519, 0.36843881856540084, 0.5571308016877637, 0.6345991561181434, 0.5459915611814345, 0.3490295358649789, 0.11645569620253164, 0.004219409282700422, 0.00016877637130801687, 0.00016877637130801687, 0.00016877637130801687, 0.00016877637130801687, 0.00016877637130801687, 0.00033755274261603374, 0.027848101265822784, 0.1920675105485232, 0.4091139240506329, 0.6011814345991561, 0.6821940928270043, 0.619915611814346, 0.4307172995780591, 0.22177215189873417, 0.08776371308016878, 0.033417721518987344, 0.018059071729957805, 0.015358649789029536, 0.02481012658227848, 0.08421940928270043, 0.21569620253164556, 0.39679324894514767, 0.5664135021097046, 0.6249789029535865, 0.5245569620253164, 0.3319831223628692, 0.12, 0.004725738396624472, 0.00016877637130801687, 0.00016877637130801687, 0.00016877637130801687, 0.00016877637130801687, 0.00016877637130801687, 0.00033755274261603374, 0.047763713080168774, 0.2575527426160338, 0.48320675105485233, 0.6492827004219409, 0.6786497890295359, 0.5449789029535865, 0.3306329113924051, 0.14447257383966244, 0.048438818565400846, 0.016708860759493672, 0.011645569620253165, 0.01569620253164557, 0.043037974683544304, 0.1281012658227848, 0.2720675105485232, 0.45755274261603374, 0.5935864978902954, 0.6016877637130802, 0.4840506329113924, 0.2918143459915612, 0.10042194092827005, 0.003881856540084388, 0.00016877637130801687, 0.00016877637130801687, 0.00016877637130801687, 0.00016877637130801687, 0.00016877637130801687, 0.00033755274261603374, 0.06683544303797469, 0.3070042194092827, 0.5350210970464135, 0.6729113924050633, 0.6565400843881857, 0.4751054852320675, 0.2541772151898734, 0.0980590717299578, 0.03189873417721519, 0.014008438818565401, 0.016540084388185654, 0.033417721518987344, 0.08776371308016878, 0.21046413502109704, 0.37991561181434597, 0.5362025316455696, 0.6121518987341772, 0.5657383966244726, 0.41282700421940927, 0.23578059071729957, 0.0729113924050633, 0.002362869198312236, 0.00016877637130801687, 0.00016877637130801687, 0.00016877637130801687, 0.00016877637130801687, 0.00016877637130801687, 0.0010126582278481013, 0.08911392405063291, 0.3414345991561181, 0.5621940928270042, 0.6816877637130802, 0.6307172995780591, 0.4432067510548523, 0.22177215189873417, 0.08691983122362869, 0.034936708860759495, 0.025822784810126582, 0.04337552742616034, 0.0919831223628692, 0.1929113924050633, 0.3372151898734177, 0.5016033755274262, 0.6052320675105485, 0.6040506329113924, 0.4950210970464135, 0.33350210970464134, 0.16050632911392404, 0.04421940928270042, 0.0020253164556962027, 0.00016877637130801687, 0.00016877637130801687, 0.00016877637130801687, 0.00016877637130801687, 0.00016877637130801687, 0.001350210970464135, 0.09839662447257384, 0.33755274261603374, 0.5615189873417722, 0.6882700421940928, 0.639493670886076, 0.46042194092827005, 0.2607594936708861, 0.1287763713080169, 0.0820253164556962, 0.08877637130801688, 0.1350210970464135, 0.22818565400843882, 0.3588185654008439, 0.4989029535864979, 0.6032067510548523, 0.6271729957805907, 0.5383966244725739, 0.39257383966244724, 0.2389873417721519, 0.09822784810126582, 0.020928270042194094, 0.0008438818565400844, 0.00016877637130801687, 0.00016877637130801687, 0.00016877637130801687, 0.00016877637130801687, 0.00016877637130801687, 0.0016877637130801688, 0.09012658227848101, 0.3049789029535865, 0.530464135021097, 0.6808438818565401, 0.6762869198312236, 0.5525738396624472, 0.3856540084388186, 0.25839662447257383, 0.22160337552742615, 0.24658227848101266, 0.3181434599156118, 0.42160337552742616, 0.5380590717299578, 0.629873417721519, 0.6487763713080169, 0.5677637130801688, 0.4378059071729958, 0.2821940928270042, 0.14227848101265822, 0.04945147679324895, 0.007594936708860759, 0.0005063291139240507, 0.00016877637130801687, 0.00016877637130801687, 0.00016877637130801687, 0.00033755274261603374, 0.00016877637130801687, 0.001350210970464135, 0.06734177215189874, 0.2379746835443038, 0.460084388185654, 0.6393248945147679, 0.7220253164556962, 0.6967088607594937, 0.6016877637130802, 0.5113924050632911, 0.4675105485232067, 0.4929957805907173, 0.5461603375527426, 0.6227848101265823, 0.6732489451476793, 0.6675105485232068, 0.5780590717299579, 0.44843881856540085, 0.2958649789029536, 0.1648945147679325, 0.06717299578059072, 0.017046413502109704, 0.002531645569620253, 0.00016877637130801687, 0.00033755274261603374, 0.00016877637130801687, 0.00016877637130801687, 0.00016877637130801687, 0.00016877637130801687, 0.001350210970464135, 0.03611814345991561, 0.1539240506329114, 0.33755274261603374, 0.5372151898734178, 0.6928270042194092, 0.7826160337552742, 0.790210970464135, 0.7613502109704642, 0.729451476793249, 0.7235443037974684, 0.7326582278481013, 0.730632911392405, 0.6781434599156119, 0.5642194092827004, 0.43156118143459915, 0.2842194092827004, 0.16033755274261605, 0.07054852320675105, 0.020084388185654008, 0.005063291139240506, 0.0006751054852320675, 0.00016877637130801687, 0.00033755274261603374, 0.00016877637130801687, 0.00016877637130801687, 0.00016877637130801687, 0.00016877637130801687, 0.0008438818565400844, 0.01181434599156118, 0.07257383966244725, 0.1969620253164557, 0.35662447257383967, 0.5387341772151899, 0.6891139240506329, 0.779409282700422, 0.8123206751054852, 0.8087763713080168, 0.7854852320675105, 0.7248945147679325, 0.6278481012658228, 0.5043037974683544, 0.35966244725738394, 0.23021097046413502, 0.12995780590717299, 0.05738396624472574, 0.019915611814345993, 0.005063291139240506, 0.0016877637130801688, 0.00033755274261603374, 0.00016877637130801687, 0.00033755274261603374, 0.00016877637130801687, 0.00016877637130801687, 0.00016877637130801687, 0.00016877637130801687, 0.00016877637130801687, 0.0018565400843881857, 0.018227848101265823, 0.05772151898734177, 0.14548523206751054, 0.2659915611814346, 0.3964556962025316, 0.5036286919831223, 0.5807594936708861, 0.5967932489451476, 0.5421097046413502, 0.45451476793248946, 0.3392405063291139, 0.23172995780590716, 0.140084388185654, 0.06970464135021097, 0.028860759493670885, 0.010632911392405063, 0.0032067510548523205, 0.0008438818565400844, 0.0008438818565400844, 0.00033755274261603374, 0.00016877637130801687, 0.00016877637130801687, 0.00016877637130801687, 0.00016877637130801687, 0.00016877637130801687, 0.00016877637130801687, 0.00016877637130801687, 0.0006751054852320675, 0.0016877637130801688, 0.007257383966244726, 0.017721518987341773, 0.04084388185654009, 0.07324894514767932, 0.11274261603375528, 0.140084388185654, 0.1488607594936709, 0.13839662447257384, 0.11021097046413503, 0.0749367088607595, 0.046413502109704644, 0.022447257383966246, 0.009451476793248944, 0.003881856540084388, 0.0015189873417721519, 0.0008438818565400844, 0.00033755274261603374, 0.00033755274261603374, 0.00016877637130801687, 0.00016877637130801687, 0.00016877637130801687, 0.00016877637130801687, 0.00016877637130801687, 0.00016877637130801687, 0.00016877637130801687, 0.00016877637130801687, 0.00016877637130801687, 0.00016877637130801687, 0.00016877637130801687, 0.00033755274261603374, 0.0006751054852320675, 0.001181434599156118, 0.0020253164556962027, 0.0021940928270042194, 0.0018565400843881857, 0.0018565400843881857, 0.0010126582278481013, 0.0008438818565400844, 0.0005063291139240507, 0.00033755274261603374, 0.00016877637130801687, 0.00016877637130801687, 0.00016877637130801687, 0.00016877637130801687, 0.00016877637130801687, 0.00016877637130801687, 0.00016877637130801687, 0.00016877637130801687, 0.00016877637130801687, 0.00016877637130801687, 0.00016877637130801687, 0.00016877637130801687, 0.00016877637130801687, 0.00016877637130801687, 0.00016877637130801687, 0.00016877637130801687, 0.00016877637130801687, 0.00016877637130801687, 0.00016877637130801687, 0.00016877637130801687, 0.00016877637130801687, 0.00016877637130801687, 0.00016877637130801687, 0.00016877637130801687, 0.00016877637130801687, 0.00016877637130801687, 0.00016877637130801687, 0.00016877637130801687, 0.00016877637130801687, 0.00016877637130801687, 0.00016877637130801687, 0.00016877637130801687, 0.00016877637130801687, 0.00016877637130801687, 0.00016877637130801687, 0.00016877637130801687, 0.00016877637130801687, 0.00016877637130801687, 0.00016877637130801687, 0.00016877637130801687, 0.00016877637130801687, 0.00016877637130801687, 0.00016877637130801687, 0.00016877637130801687, 0.00016877637130801687, 0.00016877637130801687, 0.00016877637130801687, 0.00016877637130801687, 0.00016877637130801687, 0.00016877637130801687, 0.00016877637130801687, 0.00016877637130801687, 0.00016877637130801687, 0.00016877637130801687, 0.00016877637130801687, 0.00016877637130801687, 0.00016877637130801687, 0.00016877637130801687, 0.00016877637130801687, 0.00016877637130801687, 0.00016877637130801687, 0.00016877637130801687, 0.00016877637130801687, 0.00016877637130801687, 0.00016877637130801687, 0.00016877637130801687]\n"
     ]
    }
   ],
   "source": [
    "pixel_probability = []\n",
    "\n",
    "for j in range(0,10):\n",
    "    pixel_probability_for_class_j = []\n",
    "    for i in range(0,784):\n",
    "        pixel_probability_for_class_j.append((sum_pixel_values[j][i] + 1) / (counts[j] + 2))\n",
    "    \n",
    "    pixel_probability.append(pixel_probability_for_class_j)\n",
    "\n",
    "print(pixel_probability[0])"
   ]
  },
  {
   "cell_type": "markdown",
   "metadata": {},
   "source": [
    "Il serait maintenant intéressant de visualiser ce que nous venons de calculer. À l'aide du code utilisé plus haut pour l'affichage de vecteurs de ```x_train```, affichez nos probabilités de pixels pour chaque classe."
   ]
  },
  {
   "cell_type": "code",
   "execution_count": 13,
   "metadata": {},
   "outputs": [
    {
     "data": {
      "image/png": "[encoded data removed]",
      "text/plain": [
       "<Figure size 432x288 with 1 Axes>"
      ]
     },
     "metadata": {
      "needs_background": "light"
     },
     "output_type": "display_data"
    },
    {
     "data": {
      "image/png": "[encoded data removed]",
      "text/plain": [
       "<Figure size 432x288 with 1 Axes>"
      ]
     },
     "metadata": {
      "needs_background": "light"
     },
     "output_type": "display_data"
    },
    {
     "data": {
      "image/png": "[encoded data removed]",
      "text/plain": [
       "<Figure size 432x288 with 1 Axes>"
      ]
     },
     "metadata": {
      "needs_background": "light"
     },
     "output_type": "display_data"
    },
    {
     "data": {
      "image/png": "[encoded data removed]",
      "text/plain": [
       "<Figure size 432x288 with 1 Axes>"
      ]
     },
     "metadata": {
      "needs_background": "light"
     },
     "output_type": "display_data"
    },
    {
     "data": {
      "image/png": "[encoded data removed]",
      "text/plain": [
       "<Figure size 432x288 with 1 Axes>"
      ]
     },
     "metadata": {
      "needs_background": "light"
     },
     "output_type": "display_data"
    },
    {
     "data": {
      "image/png": "[encoded data removed]",
      "text/plain": [
       "<Figure size 432x288 with 1 Axes>"
      ]
     },
     "metadata": {
      "needs_background": "light"
     },
     "output_type": "display_data"
    },
    {
     "data": {
      "image/png": "[encoded data removed]",
      "text/plain": [
       "<Figure size 432x288 with 1 Axes>"
      ]
     },
     "metadata": {
      "needs_background": "light"
     },
     "output_type": "display_data"
    },
    {
     "data": {
      "image/png": "[encoded data removed]",
      "text/plain": [
       "<Figure size 432x288 with 1 Axes>"
      ]
     },
     "metadata": {
      "needs_background": "light"
     },
     "output_type": "display_data"
    },
    {
     "data": {
      "image/png": "[encoded data removed]",
      "text/plain": [
       "<Figure size 432x288 with 1 Axes>"
      ]
     },
     "metadata": {
      "needs_background": "light"
     },
     "output_type": "display_data"
    },
    {
     "data": {
      "image/png": "[encoded data removed]",
      "text/plain": [
       "<Figure size 432x288 with 1 Axes>"
      ]
     },
     "metadata": {
      "needs_background": "light"
     },
     "output_type": "display_data"
    }
   ],
   "source": [
    "for i in range(0,10) : \n",
    "    matrix = np.reshape(pixel_probability[i], (28,28))\n",
    "\n",
    "    plt.imshow(matrix, cmap='gray')\n",
    "    plt.show()"
   ]
  },
  {
   "cell_type": "markdown",
   "metadata": {},
   "source": [
    "En résumé, notre **fonction hypothèse** $h(x)$ nécessitait deux ingrédients : \n",
    "\n",
    "$$h(x) = \\operatorname*{argmax}_{c \\ \\in \\ C}  \\ P(x|c) \\cdot P(c)$$\n",
    "\n",
    "$P(c)$ est **l'antérieure** que nous avons premièrement calculée pour chaque classe. $P(x|c)$ est **la vraisemblance** où :\n",
    "\n",
    "$$P(x|c_j) = \\prod_{i = 1}^{784} p_{ji}^{x_i}(1 - p_{ji})^{1-x_i}$$\n",
    "\n",
    "Nous avons ensuite généré la matrice ```pixel_probability``` qui contient chacune des valeurs $p_{ji}$.\n",
    "\n",
    "En plaçant cette dernière dans la première équation, nous avons : \n",
    "\n",
    "$$h(x) = \\operatorname*{argmax}_{c \\ \\in \\ C}  \\ P(c_j) \\cdot \\prod_{i = 1}^{784} p_{ji}^{x_i}(1 - p_{ji})^{1-x_i}$$\n",
    "\n",
    "Il ne nous reste qu'un ajustement à faire à $h(x)$. Un produit d'un nombre élevé de petites probabilités est problématique. Il se pourrait que ces dernières soient un résultat si petit qu'un ordinateur aie de la difficulté à les représenter sur son processeur, un problème appelé le soupassement arithmétique (underflow). Pour y remédier, nous pouvons calculer le logarithme de ces valeurs. Similairement au fait que **nous n'avions pas à calculer l'évidence** plus tôt dans notre fonction objectif puisque $V_1 > V_2 \\implies \\frac{V_1}{c} > \\frac{V_2}{c}$ pour une constante $c$ positive, prendre le logarithme de $P(c_j) \\cdot \\prod_{i = 1}^{784} p_{ji}^{x_i}(1 - p_{ji})^{x_i}$ ne change pas sa valeur maximale car le logarithme est une **fonction monotone croissante**. Notez que le sens de variation d'une fonction monotone est constant. Nous avons donc :\n",
    "\n",
    "$$h(x) = \\operatorname*{argmax}_{c \\ \\in \\ C}  \\ \\log(P(c_j) \\cdot \\prod_{i = 1}^{784} p_{ji}^{x_i}(1 - p_{ji})^{1-x_i}) = \\operatorname*{argmax}_{c \\ \\in \\ C}  \\ \\log(P(c_j)) + \\log(\\prod_{i = 1}^{784} p_{ji}^{x_i}(1 - p_{ji})^{1-x_i})$$\n",
    "\n",
    "$$= \\operatorname*{argmax}_{c \\ \\in \\ C}  \\ \\log(P(c_j)) + \\sum_{i = 1}^{784} \\log(p_{ji}^{x_i}(1 - p_{ji})^{1-x_i})$$\n",
    "\n",
    "$$= \\operatorname*{argmax}_{c \\ \\in \\ C}  \\ \\log(P(c_j)) + \\sum_{i = 1}^{784} (x_i \\cdot \\log(p_{ji})+(1-x_i)\\cdot \\log(1 - p_{ji}))$$\n",
    "\n",
    "Nous avons la forme finale de notre fonction hypothèse $h(x)$. Déclarez dans la cellule suivante une fonction ```hypothesis()``` qui prend comme argument un vecteur $x$ et retourne $h(x)$."
   ]
  },
  {
   "cell_type": "code",
   "execution_count": 14,
   "metadata": {},
   "outputs": [],
   "source": [
    "def hypothesis(vector):\n",
    "    probability_for_class_j = []\n",
    "    \n",
    "    for j in range(0,10) :\n",
    "        sum = 0\n",
    "        for i in range(0,784):\n",
    "            sum += (vector[i] * np.log(pixel_probability[j][i]) + (1 - vector[i])*np.log(1 - pixel_probability[j][i]))\n",
    "        result = sum + np.log(priors[j])\n",
    "\n",
    "        probability_for_class_j.append(result)\n",
    "    \n",
    "    return np.argmax(probability_for_class_j)"
   ]
  },
  {
   "cell_type": "markdown",
   "metadata": {},
   "source": [
    "Nous pouvons maintenant classer notre \"test set\". Importez le fichier *mnist_test.csv* et créez les listes ```x_test```et ```y_test``` tel que nous l'avions fait avant pour le \"training set\"."
   ]
  },
  {
   "cell_type": "code",
   "execution_count": 15,
   "metadata": {},
   "outputs": [
    {
     "name": "stdout",
     "output_type": "stream",
     "text": [
      "['7', '0', '0', '0', '0', '0', '0', '0', '0', '0', '0', '0', '0', '0', '0', '0', '0', '0', '0', '0', '0', '0', '0', '0', '0', '0', '0', '0', '0', '0', '0', '0', '0', '0', '0', '0', '0', '0', '0', '0', '0', '0', '0', '0', '0', '0', '0', '0', '0', '0', '0', '0', '0', '0', '0', '0', '0', '0', '0', '0', '0', '0', '0', '0', '0', '0', '0', '0', '0', '0', '0', '0', '0', '0', '0', '0', '0', '0', '0', '0', '0', '0', '0', '0', '0', '0', '0', '0', '0', '0', '0', '0', '0', '0', '0', '0', '0', '0', '0', '0', '0', '0', '0', '0', '0', '0', '0', '0', '0', '0', '0', '0', '0', '0', '0', '0', '0', '0', '0', '0', '0', '0', '0', '0', '0', '0', '0', '0', '0', '0', '0', '0', '0', '0', '0', '0', '0', '0', '0', '0', '0', '0', '0', '0', '0', '0', '0', '0', '0', '0', '0', '0', '0', '0', '0', '0', '0', '0', '0', '0', '0', '0', '0', '0', '0', '0', '0', '0', '0', '0', '0', '0', '0', '0', '0', '0', '0', '0', '0', '0', '0', '0', '0', '0', '0', '0', '0', '0', '0', '0', '0', '0', '0', '0', '0', '0', '0', '0', '0', '0', '0', '0', '0', '84', '185', '159', '151', '60', '36', '0', '0', '0', '0', '0', '0', '0', '0', '0', '0', '0', '0', '0', '0', '0', '0', '0', '0', '0', '0', '0', '0', '222', '254', '254', '254', '254', '241', '198', '198', '198', '198', '198', '198', '198', '198', '170', '52', '0', '0', '0', '0', '0', '0', '0', '0', '0', '0', '0', '0', '67', '114', '72', '114', '163', '227', '254', '225', '254', '254', '254', '250', '229', '254', '254', '140', '0', '0', '0', '0', '0', '0', '0', '0', '0', '0', '0', '0', '0', '0', '0', '0', '0', '17', '66', '14', '67', '67', '67', '59', '21', '236', '254', '106', '0', '0', '0', '0', '0', '0', '0', '0', '0', '0', '0', '0', '0', '0', '0', '0', '0', '0', '0', '0', '0', '0', '0', '0', '83', '253', '209', '18', '0', '0', '0', '0', '0', '0', '0', '0', '0', '0', '0', '0', '0', '0', '0', '0', '0', '0', '0', '0', '0', '0', '0', '22', '233', '255', '83', '0', '0', '0', '0', '0', '0', '0', '0', '0', '0', '0', '0', '0', '0', '0', '0', '0', '0', '0', '0', '0', '0', '0', '0', '129', '254', '238', '44', '0', '0', '0', '0', '0', '0', '0', '0', '0', '0', '0', '0', '0', '0', '0', '0', '0', '0', '0', '0', '0', '0', '0', '59', '249', '254', '62', '0', '0', '0', '0', '0', '0', '0', '0', '0', '0', '0', '0', '0', '0', '0', '0', '0', '0', '0', '0', '0', '0', '0', '0', '133', '254', '187', '5', '0', '0', '0', '0', '0', '0', '0', '0', '0', '0', '0', '0', '0', '0', '0', '0', '0', '0', '0', '0', '0', '0', '0', '9', '205', '248', '58', '0', '0', '0', '0', '0', '0', '0', '0', '0', '0', '0', '0', '0', '0', '0', '0', '0', '0', '0', '0', '0', '0', '0', '0', '126', '254', '182', '0', '0', '0', '0', '0', '0', '0', '0', '0', '0', '0', '0', '0', '0', '0', '0', '0', '0', '0', '0', '0', '0', '0', '0', '75', '251', '240', '57', '0', '0', '0', '0', '0', '0', '0', '0', '0', '0', '0', '0', '0', '0', '0', '0', '0', '0', '0', '0', '0', '0', '0', '19', '221', '254', '166', '0', '0', '0', '0', '0', '0', '0', '0', '0', '0', '0', '0', '0', '0', '0', '0', '0', '0', '0', '0', '0', '0', '0', '3', '203', '254', '219', '35', '0', '0', '0', '0', '0', '0', '0', '0', '0', '0', '0', '0', '0', '0', '0', '0', '0', '0', '0', '0', '0', '0', '0', '38', '254', '254', '77', '0', '0', '0', '0', '0', '0', '0', '0', '0', '0', '0', '0', '0', '0', '0', '0', '0', '0', '0', '0', '0', '0', '0', '31', '224', '254', '115', '1', '0', '0', '0', '0', '0', '0', '0', '0', '0', '0', '0', '0', '0', '0', '0', '0', '0', '0', '0', '0', '0', '0', '0', '133', '254', '254', '52', '0', '0', '0', '0', '0', '0', '0', '0', '0', '0', '0', '0', '0', '0', '0', '0', '0', '0', '0', '0', '0', '0', '0', '61', '242', '254', '254', '52', '0', '0', '0', '0', '0', '0', '0', '0', '0', '0', '0', '0', '0', '0', '0', '0', '0', '0', '0', '0', '0', '0', '0', '121', '254', '254', '219', '40', '0', '0', '0', '0', '0', '0', '0', '0', '0', '0', '0', '0', '0', '0', '0', '0', '0', '0', '0', '0', '0', '0', '0', '121', '254', '207', '18', '0', '0', '0', '0', '0', '0', '0', '0', '0', '0', '0', '0', '0', '0', '0', '0', '0', '0', '0', '0', '0', '0', '0', '0', '0', '0', '0', '0', '0', '0', '0', '0', '0', '0', '0', '0', '0', '0', '0', '0', '0', '0']\n"
     ]
    }
   ],
   "source": [
    "import csv\n",
    "\n",
    "data = open('mnist_test.csv')\n",
    "\n",
    "csv_file = csv.reader(data)\n",
    "\n",
    "data_points = []\n",
    "\n",
    "for row in csv_file:\n",
    "    data_points.append(row)\n",
    "\n",
    "#On enlève la première ligne, soit les \"headers\" de nos colones\n",
    "data_points.pop(0)\n",
    "\n",
    "#Imprime la première ligne de notre training set\n",
    "print(data_points[0])\n",
    "\n",
    "data.close()\n",
    "\n",
    "#Convertir en int\n",
    "for i in range(len(data_points)):\n",
    "    for j in range(0,785):\n",
    "            data_points[i][j] = int(data_points[i][j])\n",
    "\n",
    "y_test = []\n",
    "\n",
    "for row in data_points:\n",
    "    y_test.append(row[0])\n",
    "\n",
    "x_test = []\n",
    "\n",
    "for row in data_points:\n",
    "    x_test.append(row[1:785])"
   ]
  },
  {
   "cell_type": "code",
   "execution_count": 16,
   "metadata": {},
   "outputs": [
    {
     "data": {
      "image/png": "[encoded data removed]",
      "text/plain": [
       "<Figure size 432x288 with 1 Axes>"
      ]
     },
     "metadata": {
      "needs_background": "light"
     },
     "output_type": "display_data"
    }
   ],
   "source": [
    "#Conversion de notre vecteur d'une dimension en 2 dimensions\n",
    "matrix = np.reshape(x_test[0], (28,28))\n",
    "\n",
    "plt.imshow(matrix, cmap='gray')\n",
    "plt.show()"
   ]
  },
  {
   "cell_type": "code",
   "execution_count": 17,
   "metadata": {},
   "outputs": [
    {
     "data": {
      "image/png": "[encoded data removed]",
      "text/plain": [
       "<Figure size 432x288 with 1 Axes>"
      ]
     },
     "metadata": {
      "needs_background": "light"
     },
     "output_type": "display_data"
    }
   ],
   "source": [
    "for i in range(len(x_test)):\n",
    "    for j in range(len(x_test[0])):\n",
    "        if x_test[i][j] != 0 :\n",
    "            #Nous devons diviser par 255.0 et non 255 pour convertir ces int en float\n",
    "            x_test[i][j] = round(int(x_test[i][j]) / 255.0)\n",
    "            \n",
    "#Conversion de notre vecteur d'une dimension en 2 dimensions\n",
    "matrix = np.reshape(x_test[0], (28,28))\n",
    "\n",
    "plt.imshow(matrix, cmap='gray')\n",
    "plt.show()"
   ]
  },
  {
   "cell_type": "markdown",
   "metadata": {},
   "source": [
    "Nous pouvons **finalement** classifier notre training set. Il suffit d'itérer notre fonction hypothèse sur les 10 000 vecteurs composant ```x_test``` en comparant le résultat avec la valeur de ```y_test``` correspondante. Il est utile d'accumuler l'index des erreurs dans une liste nommée ```misclassifications```. Ceci dit, il faudra faire preuve de **patience**."
   ]
  },
  {
   "cell_type": "code",
   "execution_count": 18,
   "metadata": {
    "scrolled": false
   },
   "outputs": [
    {
     "name": "stdout",
     "output_type": "stream",
     "text": [
      "[8, 15, 33, 38, 46, 54, 55, 63, 65, 66, 73, 77, 80, 104, 111, 115, 119, 120, 144, 149, 151, 159, 165, 169, 171, 172, 175, 187, 195, 198, 213, 217, 218, 231, 233, 240, 241, 243, 245, 247, 249, 250, 257, 259, 261, 268, 282, 290, 295, 300, 301, 304, 307, 317, 318, 320, 321, 324, 325, 338, 340, 341, 344, 346, 349, 352, 362, 365, 376, 381, 403, 406, 411, 412, 443, 444, 445, 448, 456, 457, 460, 464, 468, 479, 486, 495, 497, 498, 507, 508, 511, 514, 515, 519, 520, 527, 531, 532, 542, 543, 550, 551, 552, 553, 565, 567, 569, 571, 577, 578, 582, 591, 605, 606, 610, 613, 614, 618, 619, 624, 628, 629, 638, 645, 646, 654, 658, 659, 661, 667, 671, 674, 684, 689, 691, 692, 699, 707, 712, 714, 717, 720, 723, 728, 738, 740, 741, 748, 751, 760, 771, 774, 781, 785, 791, 795, 800, 829, 839, 844, 870, 876, 877, 878, 881, 882, 898, 902, 919, 922, 924, 930, 938, 939, 944, 947, 950, 956, 959, 960, 965, 975, 982, 994, 1000, 1003, 1012, 1014, 1015, 1017, 1022, 1024, 1032, 1036, 1039, 1044, 1052, 1062, 1072, 1073, 1077, 1082, 1091, 1092, 1096, 1101, 1107, 1112, 1114, 1115, 1116, 1117, 1119, 1121, 1125, 1127, 1128, 1144, 1153, 1157, 1159, 1169, 1173, 1176, 1181, 1192, 1194, 1197, 1198, 1200, 1202, 1204, 1206, 1208, 1209, 1212, 1217, 1219, 1224, 1226, 1228, 1233, 1234, 1242, 1247, 1248, 1250, 1251, 1252, 1256, 1260, 1264, 1270, 1272, 1273, 1283, 1288, 1289, 1299, 1308, 1310, 1315, 1317, 1319, 1320, 1325, 1326, 1328, 1330, 1337, 1339, 1345, 1347, 1352, 1356, 1364, 1375, 1384, 1393, 1394, 1398, 1404, 1409, 1410, 1411, 1412, 1413, 1415, 1421, 1429, 1431, 1433, 1436, 1439, 1444, 1453, 1454, 1464, 1465, 1466, 1467, 1469, 1476, 1478, 1494, 1499, 1500, 1502, 1514, 1522, 1525, 1527, 1530, 1534, 1545, 1547, 1549, 1553, 1558, 1559, 1562, 1569, 1571, 1579, 1581, 1587, 1601, 1607, 1609, 1619, 1626, 1627, 1634, 1638, 1640, 1644, 1660, 1664, 1678, 1681, 1684, 1686, 1691, 1694, 1695, 1696, 1701, 1709, 1716, 1717, 1718, 1721, 1722, 1727, 1735, 1737, 1741, 1751, 1752, 1754, 1757, 1759, 1762, 1765, 1772, 1774, 1782, 1785, 1786, 1790, 1801, 1810, 1813, 1816, 1823, 1839, 1842, 1843, 1847, 1850, 1855, 1865, 1871, 1877, 1878, 1883, 1886, 1893, 1899, 1900, 1901, 1903, 1917, 1926, 1930, 1931, 1938, 1941, 1942, 1943, 1948, 1952, 1955, 1959, 1968, 1970, 1973, 1981, 1982, 1984, 1989, 1993, 2001, 2004, 2009, 2011, 2016, 2021, 2024, 2037, 2038, 2040, 2043, 2044, 2046, 2047, 2052, 2053, 2057, 2058, 2067, 2068, 2070, 2080, 2082, 2090, 2093, 2094, 2098, 2099, 2100, 2107, 2109, 2110, 2115, 2116, 2118, 2125, 2129, 2130, 2134, 2135, 2138, 2152, 2168, 2177, 2180, 2182, 2183, 2185, 2186, 2189, 2192, 2197, 2202, 2204, 2214, 2215, 2218, 2224, 2233, 2242, 2263, 2266, 2272, 2279, 2282, 2291, 2293, 2299, 2305, 2309, 2322, 2325, 2339, 2341, 2342, 2351, 2369, 2374, 2380, 2381, 2386, 2387, 2393, 2395, 2396, 2397, 2404, 2406, 2413, 2422, 2423, 2425, 2429, 2430, 2433, 2445, 2447, 2449, 2452, 2457, 2460, 2462, 2475, 2476, 2488, 2507, 2513, 2516, 2520, 2526, 2532, 2534, 2535, 2540, 2542, 2545, 2559, 2560, 2564, 2571, 2573, 2578, 2582, 2586, 2589, 2598, 2604, 2607, 2608, 2610, 2617, 2628, 2631, 2635, 2636, 2642, 2648, 2651, 2654, 2658, 2668, 2670, 2681, 2684, 2695, 2697, 2705, 2713, 2715, 2721, 2728, 2730, 2740, 2748, 2750, 2758, 2760, 2770, 2771, 2780, 2783, 2794, 2802, 2805, 2810, 2820, 2832, 2834, 2850, 2851, 2862, 2896, 2898, 2901, 2902, 2905, 2914, 2919, 2925, 2927, 2944, 2945, 2946, 2953, 2956, 2969, 2970, 2977, 2989, 2990, 2995, 2998, 3005, 3021, 3029, 3033, 3038, 3060, 3065, 3073, 3078, 3086, 3098, 3100, 3108, 3114, 3117, 3122, 3123, 3132, 3133, 3136, 3145, 3146, 3151, 3153, 3157, 3166, 3167, 3176, 3183, 3185, 3191, 3193, 3204, 3205, 3206, 3210, 3218, 3219, 3222, 3225, 3233, 3240, 3243, 3245, 3252, 3254, 3262, 3269, 3275, 3280, 3288, 3289, 3292, 3305, 3312, 3316, 3317, 3319, 3322, 3329, 3330, 3333, 3334, 3336, 3344, 3345, 3358, 3365, 3372, 3376, 3381, 3384, 3388, 3394, 3404, 3405, 3408, 3414, 3429, 3436, 3437, 3441, 3447, 3448, 3450, 3453, 3456, 3460, 3468, 3475, 3476, 3483, 3490, 3494, 3496, 3498, 3503, 3506, 3510, 3514, 3519, 3520, 3525, 3543, 3549, 3557, 3558, 3559, 3565, 3567, 3573, 3574, 3578, 3580, 3583, 3597, 3598, 3600, 3604, 3614, 3618, 3626, 3629, 3636, 3640, 3644, 3645, 3646, 3662, 3664, 3665, 3681, 3696, 3698, 3707, 3716, 3718, 3726, 3727, 3730, 3732, 3739, 3748, 3749, 3751, 3756, 3757, 3758, 3762, 3763, 3767, 3769, 3772, 3776, 3780, 3785, 3794, 3796, 3800, 3801, 3806, 3808, 3811, 3818, 3820, 3821, 3824, 3835, 3836, 3838, 3839, 3846, 3848, 3850, 3853, 3855, 3862, 3869, 3876, 3879, 3884, 3893, 3902, 3906, 3926, 3928, 3938, 3941, 3943, 3946, 3949, 3954, 3955, 3961, 3966, 3968, 3976, 3984, 3989, 3998, 4000, 4007, 4017, 4018, 4027, 4031, 4037, 4038, 4051, 4056, 4063, 4065, 4068, 4075, 4076, 4078, 4080, 4086, 4093, 4108, 4111, 4116, 4124, 4131, 4140, 4141, 4145, 4146, 4152, 4154, 4156, 4159, 4163, 4165, 4166, 4176, 4177, 4180, 4187, 4194, 4199, 4201, 4205, 4211, 4212, 4215, 4221, 4224, 4228, 4238, 4239, 4248, 4255, 4256, 4260, 4263, 4265, 4266, 4271, 4284, 4287, 4289, 4293, 4297, 4298, 4300, 4302, 4306, 4312, 4313, 4315, 4317, 4324, 4325, 4330, 4335, 4338, 4341, 4344, 4355, 4356, 4360, 4361, 4370, 4373, 4374, 4380, 4381, 4382, 4391, 4395, 4408, 4413, 4415, 4420, 4422, 4423, 4427, 4431, 4433, 4435, 4439, 4451, 4454, 4473, 4477, 4481, 4483, 4497, 4498, 4500, 4505, 4511, 4519, 4521, 4540, 4541, 4548, 4567, 4571, 4575, 4578, 4583, 4584, 4592, 4601, 4615, 4619, 4625, 4630, 4639, 4642, 4656, 4657, 4660, 4671, 4679, 4681, 4690, 4695, 4699, 4702, 4710, 4712, 4722, 4724, 4736, 4738, 4740, 4743, 4745, 4751, 4753, 4755, 4761, 4763, 4772, 4777, 4783, 4785, 4788, 4791, 4796, 4807, 4808, 4812, 4814, 4816, 4823, 4825, 4827, 4828, 4829, 4837, 4838, 4852, 4857, 4863, 4866, 4874, 4876, 4885, 4886, 4887, 4888, 4890, 4893, 4914, 4928, 4939, 4943, 4950, 4952, 4954, 4956, 4959, 4964, 4966, 4967, 4969, 4971, 4976, 4978, 4979, 4981, 4990, 4995, 4998, 5001, 5011, 5015, 5038, 5046, 5054, 5062, 5065, 5067, 5068, 5075, 5078, 5084, 5135, 5140, 5143, 5146, 5159, 5175, 5176, 5183, 5209, 5212, 5217, 5239, 5246, 5268, 5269, 5278, 5299, 5331, 5380, 5397, 5510, 5512, 5518, 5519, 5522, 5525, 5526, 5530, 5536, 5547, 5559, 5560, 5562, 5567, 5569, 5577, 5597, 5600, 5607, 5608, 5610, 5611, 5617, 5620, 5634, 5642, 5649, 5654, 5663, 5677, 5678, 5688, 5714, 5717, 5720, 5734, 5745, 5749, 5771, 5780, 5801, 5802, 5821, 5824, 5835, 5841, 5843, 5851, 5852, 5858, 5862, 5866, 5867, 5874, 5885, 5887, 5888, 5890, 5891, 5906, 5910, 5912, 5913, 5914, 5921, 5922, 5923, 5926, 5936, 5937, 5943, 5946, 5947, 5950, 5955, 5957, 5964, 5972, 5973, 5974, 5975, 5981, 5982, 5985, 5986, 5997, 6004, 6019, 6021, 6023, 6024, 6027, 6035, 6037, 6042, 6043, 6056, 6059, 6065, 6071, 6080, 6081, 6087, 6091, 6093, 6109, 6111, 6112, 6124, 6126, 6157, 6160, 6161, 6165, 6166, 6168, 6172, 6173, 6184, 6312, 6324, 6347, 6385, 6391, 6395, 6400, 6418, 6421, 6425, 6432, 6480, 6505, 6512, 6517, 6555, 6560, 6561, 6564, 6568, 6569, 6570, 6571, 6574, 6575, 6576, 6577, 6578, 6597, 6598, 6599, 6603, 6619, 6625, 6632, 6641, 6642, 6643, 6651, 6661, 6668, 6688, 6691, 6692, 6694, 6718, 6721, 6722, 6730, 6739, 6740, 6743, 6744, 6746, 6747, 6762, 6768, 6772, 6775, 6784, 6785, 6787, 6790, 6793, 6796, 6803, 6813, 6832, 6847, 6854, 6859, 6864, 6866, 6867, 6880, 6885, 6886, 6894, 6898, 6906, 6909, 6912, 6919, 6924, 6925, 6926, 6931, 6962, 6990, 6997, 7003, 7010, 7030, 7032, 7035, 7047, 7049, 7084, 7094, 7101, 7107, 7117, 7121, 7130, 7162, 7170, 7210, 7212, 7216, 7235, 7241, 7248, 7262, 7269, 7273, 7293, 7301, 7304, 7332, 7333, 7338, 7354, 7365, 7366, 7391, 7394, 7398, 7432, 7434, 7436, 7440, 7451, 7459, 7468, 7472, 7473, 7476, 7487, 7492, 7495, 7539, 7542, 7558, 7559, 7580, 7587, 7588, 7595, 7603, 7619, 7622, 7637, 7643, 7659, 7671, 7672, 7689, 7691, 7720, 7732, 7756, 7777, 7797, 7800, 7819, 7821, 7823, 7826, 7834, 7842, 7847, 7849, 7850, 7851, 7856, 7857, 7858, 7859, 7860, 7869, 7870, 7875, 7876, 7886, 7888, 7899, 7900, 7902, 7905, 7911, 7915, 7916, 7918, 7920, 7927, 7928, 7945, 7982, 8003, 8020, 8044, 8050, 8061, 8062, 8064, 8071, 8072, 8081, 8091, 8094, 8095, 8102, 8106, 8120, 8143, 8156, 8165, 8182, 8183, 8196, 8198, 8213, 8244, 8246, 8253, 8268, 8272, 8277, 8279, 8294, 8324, 8325, 8332, 8339, 8353, 8362, 8408, 8410, 8426, 8444, 8456, 8469, 8476, 8507, 8520, 8522, 8553, 8584, 8589, 8613, 8637, 8684, 8756, 8785, 8952, 8981, 9005, 9006, 9007, 9009, 9010, 9013, 9015, 9016, 9017, 9019, 9022, 9024, 9026, 9027, 9031, 9036, 9043, 9044, 9045, 9046, 9054, 9071, 9079, 9085, 9110, 9112, 9116, 9136, 9139, 9141, 9172, 9182, 9198, 9208, 9209, 9211, 9216, 9217, 9227, 9233, 9245, 9252, 9254, 9268, 9280, 9315, 9316, 9342, 9398, 9433, 9446, 9456, 9463, 9479, 9490, 9522, 9530, 9534, 9538, 9539, 9552, 9554, 9560, 9587, 9595, 9607, 9610, 9614, 9624, 9627, 9634, 9642, 9649, 9655, 9656, 9662, 9666, 9670, 9677, 9679, 9680, 9687, 9692, 9698, 9700, 9713, 9716, 9719, 9726, 9729, 9733, 9735, 9738, 9740, 9741, 9744, 9745, 9749, 9751, 9752, 9763, 9767, 9768, 9779, 9782, 9792, 9793, 9803, 9808, 9811, 9817, 9820, 9826, 9831, 9832, 9839, 9847, 9853, 9855, 9856, 9857, 9858, 9863, 9867, 9874, 9875, 9879, 9880, 9883, 9887, 9888, 9889, 9890, 9891, 9892, 9893, 9905, 9914, 9924, 9925, 9941, 9943, 9944, 9953, 9954, 9959, 9970, 9975, 9982, 9985, 9986, 9997, 9998]\n"
     ]
    }
   ],
   "source": [
    "misclassifications = []\n",
    "\n",
    "for i in range(len(y_test)):\n",
    "    if(hypothesis(x_test[i]) != y_test[i]):\n",
    "        misclassifications.append(i)\n",
    "\n",
    "print(misclassifications)"
   ]
  },
  {
   "cell_type": "markdown",
   "metadata": {},
   "source": [
    "Calculez ensuite notre **taux d'erreur**, soit le pourcentage d'erreurs obtenues en classifiant notre \"training set\"."
   ]
  },
  {
   "cell_type": "code",
   "execution_count": 19,
   "metadata": {},
   "outputs": [
    {
     "name": "stdout",
     "output_type": "stream",
     "text": [
      "0.1573\n"
     ]
    }
   ],
   "source": [
    "print(len(misclassifications)/10000)"
   ]
  },
  {
   "cell_type": "markdown",
   "metadata": {},
   "source": [
    "Il est intéressant de voir **quelles images** notre classifieur n'a pas classifié correctement. Visualisez un des échecs $x$ et comparez-le à $h(x)$. Est-ce une erreur compréhensible?"
   ]
  },
  {
   "cell_type": "code",
   "execution_count": 20,
   "metadata": {},
   "outputs": [
    {
     "data": {
      "image/png": "[encoded data removed]",
      "text/plain": [
       "<Figure size 432x288 with 1 Axes>"
      ]
     },
     "metadata": {
      "needs_background": "light"
     },
     "output_type": "display_data"
    }
   ],
   "source": [
    "#Conversion de notre vecteur d'une dimension en 2 dimensions\n",
    "matrix = np.reshape(x_test[5611], (28,28))\n",
    "\n",
    "plt.imshow(matrix, cmap='gray')\n",
    "\n",
    "plt.show()"
   ]
  },
  {
   "cell_type": "code",
   "execution_count": 21,
   "metadata": {},
   "outputs": [
    {
     "name": "stdout",
     "output_type": "stream",
     "text": [
      "1\n"
     ]
    }
   ],
   "source": [
    "print(hypothesis(x_test[5611]))\n",
    "#Nous voyons que le classifieur croyais que le 8 ci-dessus était en fait un 1"
   ]
  },
  {
   "cell_type": "markdown",
   "metadata": {},
   "source": [
    "# Conclusion\n",
    "\n",
    "Nous venons de compléter cette implémentation du classifieur naïf bayésien. Quelques questions pertinentes se posent par rapport à cet exercice :\n",
    "\n",
    "1. Si nous n'avions pas arrondi chaque pixel à une valeur binaire, quelle **distribution** aurions-nous utilisé pour modéliser $P(x_{ji} = k), \\ 0 \\leq k \\leq 255$ ? Quel **problème** aurions-nous eu si nous avions décidé d'inclure ces probabilités dans notre modèle?\n",
    "\n",
    "2. Le **\"Laplace smoothing\"** était-il vraiment nécessaire? Qu'arriverait-il si nous n'avions pas pris en compte ce détail? Est-ce que notre $h(x)$ est toujours valide? Aussi, quel taux d'erreur indique un modèle qui ne fonctionne pas? Est-ce 100%?\n",
    "\n",
    "3. Tel que mentionné plus tôt, calculer le $\\log(h(x))$ est équivalent à calculer $h(x)$ puisque $\\log(x)$ est une fonction **monotone croissante**. Pourrions-nous utiliser une fonction **monotone décroissante** $f(x)$ pour calculer $f(h(x))$ et obtenir le même résultat ou bien faudrait-il faire une modification à notre $h(x)$?\n",
    "\n",
    "### Pour les maniaques\n",
    "\n",
    "Ce modèle utilise l'hypothèse **naïve** qu'il n'existe aucune corrélation entre les pixels de nos images. Il existe une variante gaussienne du classifieur bayésien qui en prend compte. La prochaine étape de cet exercise serait d'en faire l'implémentation. Un mot d'encouragement : elle réduit le taux d'erreur à moins de 5%. Voir les pages 8 à 14 : http://www-inst.eecs.berkeley.edu/~cs70/sp15/notes/n21.pdf\n",
    "\n",
    "Cheers!\n",
    "\n",
    "Arnaud"
   ]
  }
 ],
 "metadata": {
  "kernelspec": {
   "display_name": "Python 3",
   "language": "python",
   "name": "python3"
  },
  "language_info": {
   "codemirror_mode": {
    "name": "ipython",
    "version": 3
   },
   "file_extension": ".py",
   "mimetype": "text/x-python",
   "name": "python",
   "nbconvert_exporter": "python",
   "pygments_lexer": "ipython3",
   "version": "3.8.5"
  }
 },
 "nbformat": 4,
 "nbformat_minor": 2
}
